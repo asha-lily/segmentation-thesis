{
  "nbformat": 4,
  "nbformat_minor": 0,
  "metadata": {
    "colab": {
      "name": "patch_wise_binary_classification.ipynb",
      "provenance": [],
      "collapsed_sections": [
        "VCHCWH7Boc50",
        "N5qnQ4_9pITz",
        "-8V7CsQqpPkz",
        "1GIc6VqUpjqR",
        "ifeI74M-oOSS",
        "R7pk7NDUXA7O",
        "53bs3ods2jKL",
        "xHZIZDq-DFF6",
        "-AaVp-T5EKag",
        "mDDPEsRmEOW2",
        "Anyk4tWXD9oZ",
        "9eXBAt_YZufQ",
        "1nQrkkp4ISVK",
        "VNSD3GwNIk9r",
        "hnGCNCUZwlt-",
        "xhjcb96Zw3c6"
      ]
    },
    "kernelspec": {
      "name": "python3",
      "display_name": "Python 3"
    },
    "language_info": {
      "name": "python"
    },
    "accelerator": "TPU",
    "widgets": {
      "application/vnd.jupyter.widget-state+json": {
        "2ba203faa7934f5a899827428d7e68f6": {
          "model_module": "@jupyter-widgets/controls",
          "model_name": "VBoxModel",
          "model_module_version": "1.5.0",
          "state": {
            "_view_name": "VBoxView",
            "_dom_classes": [],
            "_model_name": "VBoxModel",
            "_view_module": "@jupyter-widgets/controls",
            "_model_module_version": "1.5.0",
            "_view_count": null,
            "_view_module_version": "1.5.0",
            "box_style": "",
            "layout": "IPY_MODEL_851e31b989c5478dbe186c5502788d07",
            "_model_module": "@jupyter-widgets/controls",
            "children": [
              "IPY_MODEL_21defeb157b249cd82f82701e0b9e9f4",
              "IPY_MODEL_4c090037f6aa4187a61a27d3da265107"
            ]
          }
        },
        "851e31b989c5478dbe186c5502788d07": {
          "model_module": "@jupyter-widgets/base",
          "model_name": "LayoutModel",
          "model_module_version": "1.2.0",
          "state": {
            "_view_name": "LayoutView",
            "grid_template_rows": null,
            "right": null,
            "justify_content": null,
            "_view_module": "@jupyter-widgets/base",
            "overflow": null,
            "_model_module_version": "1.2.0",
            "_view_count": null,
            "flex_flow": null,
            "width": null,
            "min_width": null,
            "border": null,
            "align_items": null,
            "bottom": null,
            "_model_module": "@jupyter-widgets/base",
            "top": null,
            "grid_column": null,
            "overflow_y": null,
            "overflow_x": null,
            "grid_auto_flow": null,
            "grid_area": null,
            "grid_template_columns": null,
            "flex": null,
            "_model_name": "LayoutModel",
            "justify_items": null,
            "grid_row": null,
            "max_height": null,
            "align_content": null,
            "visibility": null,
            "align_self": null,
            "height": null,
            "min_height": null,
            "padding": null,
            "grid_auto_rows": null,
            "grid_gap": null,
            "max_width": null,
            "order": null,
            "_view_module_version": "1.2.0",
            "grid_template_areas": null,
            "object_position": null,
            "object_fit": null,
            "grid_auto_columns": null,
            "margin": null,
            "display": null,
            "left": null
          }
        },
        "21defeb157b249cd82f82701e0b9e9f4": {
          "model_module": "@jupyter-widgets/controls",
          "model_name": "LabelModel",
          "model_module_version": "1.5.0",
          "state": {
            "_view_name": "LabelView",
            "style": "IPY_MODEL_a3343af0c12449c3a82666b5ff4fb379",
            "_dom_classes": [],
            "description": "",
            "_model_name": "LabelModel",
            "placeholder": "​",
            "_view_module": "@jupyter-widgets/controls",
            "_model_module_version": "1.5.0",
            "value": " 0.01MB of 0.01MB uploaded (0.00MB deduped)\r",
            "_view_count": null,
            "_view_module_version": "1.5.0",
            "description_tooltip": null,
            "_model_module": "@jupyter-widgets/controls",
            "layout": "IPY_MODEL_ecbcb9553e814980bcdaeea67642519e"
          }
        },
        "4c090037f6aa4187a61a27d3da265107": {
          "model_module": "@jupyter-widgets/controls",
          "model_name": "FloatProgressModel",
          "model_module_version": "1.5.0",
          "state": {
            "_view_name": "ProgressView",
            "style": "IPY_MODEL_14cc388c406f4b2eb047577fe8790724",
            "_dom_classes": [],
            "description": "",
            "_model_name": "FloatProgressModel",
            "bar_style": "",
            "max": 1,
            "_view_module": "@jupyter-widgets/controls",
            "_model_module_version": "1.5.0",
            "value": 1,
            "_view_count": null,
            "_view_module_version": "1.5.0",
            "orientation": "horizontal",
            "min": 0,
            "description_tooltip": null,
            "_model_module": "@jupyter-widgets/controls",
            "layout": "IPY_MODEL_e144b55f4351484fae849a3434021f07"
          }
        },
        "a3343af0c12449c3a82666b5ff4fb379": {
          "model_module": "@jupyter-widgets/controls",
          "model_name": "DescriptionStyleModel",
          "model_module_version": "1.5.0",
          "state": {
            "_view_name": "StyleView",
            "_model_name": "DescriptionStyleModel",
            "description_width": "",
            "_view_module": "@jupyter-widgets/base",
            "_model_module_version": "1.5.0",
            "_view_count": null,
            "_view_module_version": "1.2.0",
            "_model_module": "@jupyter-widgets/controls"
          }
        },
        "ecbcb9553e814980bcdaeea67642519e": {
          "model_module": "@jupyter-widgets/base",
          "model_name": "LayoutModel",
          "model_module_version": "1.2.0",
          "state": {
            "_view_name": "LayoutView",
            "grid_template_rows": null,
            "right": null,
            "justify_content": null,
            "_view_module": "@jupyter-widgets/base",
            "overflow": null,
            "_model_module_version": "1.2.0",
            "_view_count": null,
            "flex_flow": null,
            "width": null,
            "min_width": null,
            "border": null,
            "align_items": null,
            "bottom": null,
            "_model_module": "@jupyter-widgets/base",
            "top": null,
            "grid_column": null,
            "overflow_y": null,
            "overflow_x": null,
            "grid_auto_flow": null,
            "grid_area": null,
            "grid_template_columns": null,
            "flex": null,
            "_model_name": "LayoutModel",
            "justify_items": null,
            "grid_row": null,
            "max_height": null,
            "align_content": null,
            "visibility": null,
            "align_self": null,
            "height": null,
            "min_height": null,
            "padding": null,
            "grid_auto_rows": null,
            "grid_gap": null,
            "max_width": null,
            "order": null,
            "_view_module_version": "1.2.0",
            "grid_template_areas": null,
            "object_position": null,
            "object_fit": null,
            "grid_auto_columns": null,
            "margin": null,
            "display": null,
            "left": null
          }
        },
        "14cc388c406f4b2eb047577fe8790724": {
          "model_module": "@jupyter-widgets/controls",
          "model_name": "ProgressStyleModel",
          "model_module_version": "1.5.0",
          "state": {
            "_view_name": "StyleView",
            "_model_name": "ProgressStyleModel",
            "description_width": "",
            "_view_module": "@jupyter-widgets/base",
            "_model_module_version": "1.5.0",
            "_view_count": null,
            "_view_module_version": "1.2.0",
            "bar_color": null,
            "_model_module": "@jupyter-widgets/controls"
          }
        },
        "e144b55f4351484fae849a3434021f07": {
          "model_module": "@jupyter-widgets/base",
          "model_name": "LayoutModel",
          "model_module_version": "1.2.0",
          "state": {
            "_view_name": "LayoutView",
            "grid_template_rows": null,
            "right": null,
            "justify_content": null,
            "_view_module": "@jupyter-widgets/base",
            "overflow": null,
            "_model_module_version": "1.2.0",
            "_view_count": null,
            "flex_flow": null,
            "width": null,
            "min_width": null,
            "border": null,
            "align_items": null,
            "bottom": null,
            "_model_module": "@jupyter-widgets/base",
            "top": null,
            "grid_column": null,
            "overflow_y": null,
            "overflow_x": null,
            "grid_auto_flow": null,
            "grid_area": null,
            "grid_template_columns": null,
            "flex": null,
            "_model_name": "LayoutModel",
            "justify_items": null,
            "grid_row": null,
            "max_height": null,
            "align_content": null,
            "visibility": null,
            "align_self": null,
            "height": null,
            "min_height": null,
            "padding": null,
            "grid_auto_rows": null,
            "grid_gap": null,
            "max_width": null,
            "order": null,
            "_view_module_version": "1.2.0",
            "grid_template_areas": null,
            "object_position": null,
            "object_fit": null,
            "grid_auto_columns": null,
            "margin": null,
            "display": null,
            "left": null
          }
        }
      }
    }
  },
  "cells": [
    {
      "cell_type": "markdown",
      "metadata": {
        "id": "--Tqj5sZzNKG"
      },
      "source": [
        "This notebook contains the code relating to section 4.3 of the thesis: Patch-wise Binary Classification."
      ]
    },
    {
      "cell_type": "markdown",
      "metadata": {
        "id": "VCHCWH7Boc50"
      },
      "source": [
        "## Installations"
      ]
    },
    {
      "cell_type": "code",
      "metadata": {
        "colab": {
          "base_uri": "https://localhost:8080/"
        },
        "id": "Z8Th2a2zofsW",
        "outputId": "c50d3777-8d24-49e8-de98-e841f8f254af"
      },
      "source": [
        "pip install tensorflow_addons"
      ],
      "execution_count": null,
      "outputs": [
        {
          "output_type": "stream",
          "text": [
            "Collecting tensorflow_addons\n",
            "  Downloading tensorflow_addons-0.14.0-cp37-cp37m-manylinux_2_12_x86_64.manylinux2010_x86_64.whl (1.1 MB)\n",
            "\u001b[K     |████████████████████████████████| 1.1 MB 5.5 MB/s \n",
            "\u001b[?25hRequirement already satisfied: typeguard>=2.7 in /usr/local/lib/python3.7/dist-packages (from tensorflow_addons) (2.7.1)\n",
            "Installing collected packages: tensorflow-addons\n",
            "Successfully installed tensorflow-addons-0.14.0\n"
          ],
          "name": "stdout"
        }
      ]
    },
    {
      "cell_type": "code",
      "metadata": {
        "colab": {
          "base_uri": "https://localhost:8080/",
          "height": 35
        },
        "id": "lAoaNQe_ohM8",
        "outputId": "5ce41837-794e-47d2-81c6-d7133e75d5a9"
      },
      "source": [
        "import numpy as np\n",
        "import nibabel\n",
        "import os\n",
        "import tensorflow as tf\n",
        "import matplotlib.pyplot as plt\n",
        "\n",
        "from tqdm import tqdm\n",
        "\n",
        "from __future__ import print_function\n",
        "\n",
        "from skimage.transform import resize\n",
        "from skimage.io import imsave\n",
        "from skimage.segmentation import mark_boundaries\n",
        "from skimage.exposure import rescale_intensity\n",
        "from skimage import io\n",
        "\n",
        "import keras\n",
        "from keras.models import Model, Sequential\n",
        "from tensorflow.keras.layers.experimental import preprocessing\n",
        "from keras.layers import Input, concatenate, Conv2D, MaxPooling2D, Conv2DTranspose, Dropout, BatchNormalization, Flatten, Dense\n",
        "from tensorflow.keras.optimizers import Adam, SGD\n",
        "from keras.callbacks import ModelCheckpoint\n",
        "from keras import backend as K\n",
        "from keras.callbacks import History\n",
        "from tensorflow.keras.utils import plot_model\n",
        "from tensorflow_addons.optimizers import AdamW\n",
        "\n",
        "os.getcwd()"
      ],
      "execution_count": null,
      "outputs": [
        {
          "output_type": "execute_result",
          "data": {
            "application/vnd.google.colaboratory.intrinsic+json": {
              "type": "string"
            },
            "text/plain": [
              "'/content'"
            ]
          },
          "metadata": {},
          "execution_count": 2
        }
      ]
    },
    {
      "cell_type": "code",
      "metadata": {
        "colab": {
          "base_uri": "https://localhost:8080/"
        },
        "id": "cWbVHWaqojhD",
        "outputId": "201a5fc0-5c2b-44b1-84d9-8080d86d4c66"
      },
      "source": [
        "# Synchronise Google Drive account with the Colab notebook\n",
        "\n",
        "# Load the Drive helper and mount\n",
        "from google.colab import drive\n",
        "\n",
        "# This will prompt for authorization.\n",
        "drive.mount('/content/drive')\n",
        "\n",
        "folder  = \"/content/drive/My Drive/MASTERS/Masters Project/\""
      ],
      "execution_count": null,
      "outputs": [
        {
          "output_type": "stream",
          "text": [
            "Mounted at /content/drive\n"
          ],
          "name": "stdout"
        }
      ]
    },
    {
      "cell_type": "code",
      "metadata": {
        "id": "VfHVaiphowTl"
      },
      "source": [
        "# give permission to read data from google cloud bucket\n",
        "from google.colab import auth\n",
        "auth.authenticate_user()"
      ],
      "execution_count": null,
      "outputs": []
    },
    {
      "cell_type": "code",
      "metadata": {
        "id": "pv8KBLQaoqEy"
      },
      "source": [
        "def get_tpu_strategy():\n",
        "    try:\n",
        "        tpu = tf.distribute.cluster_resolver.TPUClusterResolver(\n",
        "            tpu=\"grpc://\" + os.environ[\"COLAB_TPU_ADDR\"]\n",
        "        )  # TPU detection\n",
        "        print(\"Running on TPU \", tpu.cluster_spec().as_dict()[\"worker\"])\n",
        "    except ValueError:\n",
        "        raise BaseException(\"ERROR: Not connected to a TPU runtime\")\n",
        "\n",
        "    tf.config.experimental_connect_to_cluster(tpu)\n",
        "    tf.tpu.experimental.initialize_tpu_system(tpu)\n",
        "    return tf.distribute.TPUStrategy(tpu)"
      ],
      "execution_count": null,
      "outputs": []
    },
    {
      "cell_type": "code",
      "metadata": {
        "id": "h1iuIfnDoz7y",
        "colab": {
          "base_uri": "https://localhost:8080/"
        },
        "outputId": "47742f77-cc2d-4328-e8f3-0d3f4894cf5e"
      },
      "source": [
        "tpu_strategy = get_tpu_strategy()"
      ],
      "execution_count": null,
      "outputs": [
        {
          "output_type": "stream",
          "text": [
            "Running on TPU  ['10.35.77.226:8470']\n",
            "INFO:tensorflow:Clearing out eager caches\n"
          ],
          "name": "stdout"
        },
        {
          "output_type": "stream",
          "text": [
            "INFO:tensorflow:Clearing out eager caches\n"
          ],
          "name": "stderr"
        },
        {
          "output_type": "stream",
          "text": [
            "INFO:tensorflow:Initializing the TPU system: grpc://10.35.77.226:8470\n"
          ],
          "name": "stdout"
        },
        {
          "output_type": "stream",
          "text": [
            "INFO:tensorflow:Initializing the TPU system: grpc://10.35.77.226:8470\n"
          ],
          "name": "stderr"
        },
        {
          "output_type": "stream",
          "text": [
            "INFO:tensorflow:Finished initializing TPU system.\n"
          ],
          "name": "stdout"
        },
        {
          "output_type": "stream",
          "text": [
            "INFO:tensorflow:Finished initializing TPU system.\n"
          ],
          "name": "stderr"
        },
        {
          "output_type": "stream",
          "text": [
            "INFO:tensorflow:Found TPU system:\n"
          ],
          "name": "stdout"
        },
        {
          "output_type": "stream",
          "text": [
            "INFO:tensorflow:Found TPU system:\n"
          ],
          "name": "stderr"
        },
        {
          "output_type": "stream",
          "text": [
            "INFO:tensorflow:*** Num TPU Cores: 8\n"
          ],
          "name": "stdout"
        },
        {
          "output_type": "stream",
          "text": [
            "INFO:tensorflow:*** Num TPU Cores: 8\n"
          ],
          "name": "stderr"
        },
        {
          "output_type": "stream",
          "text": [
            "INFO:tensorflow:*** Num TPU Workers: 1\n"
          ],
          "name": "stdout"
        },
        {
          "output_type": "stream",
          "text": [
            "INFO:tensorflow:*** Num TPU Workers: 1\n"
          ],
          "name": "stderr"
        },
        {
          "output_type": "stream",
          "text": [
            "INFO:tensorflow:*** Num TPU Cores Per Worker: 8\n"
          ],
          "name": "stdout"
        },
        {
          "output_type": "stream",
          "text": [
            "INFO:tensorflow:*** Num TPU Cores Per Worker: 8\n"
          ],
          "name": "stderr"
        },
        {
          "output_type": "stream",
          "text": [
            "INFO:tensorflow:*** Available Device: _DeviceAttributes(/job:localhost/replica:0/task:0/device:CPU:0, CPU, 0, 0)\n"
          ],
          "name": "stdout"
        },
        {
          "output_type": "stream",
          "text": [
            "INFO:tensorflow:*** Available Device: _DeviceAttributes(/job:localhost/replica:0/task:0/device:CPU:0, CPU, 0, 0)\n"
          ],
          "name": "stderr"
        },
        {
          "output_type": "stream",
          "text": [
            "INFO:tensorflow:*** Available Device: _DeviceAttributes(/job:worker/replica:0/task:0/device:CPU:0, CPU, 0, 0)\n"
          ],
          "name": "stdout"
        },
        {
          "output_type": "stream",
          "text": [
            "INFO:tensorflow:*** Available Device: _DeviceAttributes(/job:worker/replica:0/task:0/device:CPU:0, CPU, 0, 0)\n"
          ],
          "name": "stderr"
        },
        {
          "output_type": "stream",
          "text": [
            "INFO:tensorflow:*** Available Device: _DeviceAttributes(/job:worker/replica:0/task:0/device:TPU:0, TPU, 0, 0)\n"
          ],
          "name": "stdout"
        },
        {
          "output_type": "stream",
          "text": [
            "INFO:tensorflow:*** Available Device: _DeviceAttributes(/job:worker/replica:0/task:0/device:TPU:0, TPU, 0, 0)\n"
          ],
          "name": "stderr"
        },
        {
          "output_type": "stream",
          "text": [
            "INFO:tensorflow:*** Available Device: _DeviceAttributes(/job:worker/replica:0/task:0/device:TPU:1, TPU, 0, 0)\n"
          ],
          "name": "stdout"
        },
        {
          "output_type": "stream",
          "text": [
            "INFO:tensorflow:*** Available Device: _DeviceAttributes(/job:worker/replica:0/task:0/device:TPU:1, TPU, 0, 0)\n"
          ],
          "name": "stderr"
        },
        {
          "output_type": "stream",
          "text": [
            "INFO:tensorflow:*** Available Device: _DeviceAttributes(/job:worker/replica:0/task:0/device:TPU:2, TPU, 0, 0)\n"
          ],
          "name": "stdout"
        },
        {
          "output_type": "stream",
          "text": [
            "INFO:tensorflow:*** Available Device: _DeviceAttributes(/job:worker/replica:0/task:0/device:TPU:2, TPU, 0, 0)\n"
          ],
          "name": "stderr"
        },
        {
          "output_type": "stream",
          "text": [
            "INFO:tensorflow:*** Available Device: _DeviceAttributes(/job:worker/replica:0/task:0/device:TPU:3, TPU, 0, 0)\n"
          ],
          "name": "stdout"
        },
        {
          "output_type": "stream",
          "text": [
            "INFO:tensorflow:*** Available Device: _DeviceAttributes(/job:worker/replica:0/task:0/device:TPU:3, TPU, 0, 0)\n"
          ],
          "name": "stderr"
        },
        {
          "output_type": "stream",
          "text": [
            "INFO:tensorflow:*** Available Device: _DeviceAttributes(/job:worker/replica:0/task:0/device:TPU:4, TPU, 0, 0)\n"
          ],
          "name": "stdout"
        },
        {
          "output_type": "stream",
          "text": [
            "INFO:tensorflow:*** Available Device: _DeviceAttributes(/job:worker/replica:0/task:0/device:TPU:4, TPU, 0, 0)\n"
          ],
          "name": "stderr"
        },
        {
          "output_type": "stream",
          "text": [
            "INFO:tensorflow:*** Available Device: _DeviceAttributes(/job:worker/replica:0/task:0/device:TPU:5, TPU, 0, 0)\n"
          ],
          "name": "stdout"
        },
        {
          "output_type": "stream",
          "text": [
            "INFO:tensorflow:*** Available Device: _DeviceAttributes(/job:worker/replica:0/task:0/device:TPU:5, TPU, 0, 0)\n"
          ],
          "name": "stderr"
        },
        {
          "output_type": "stream",
          "text": [
            "INFO:tensorflow:*** Available Device: _DeviceAttributes(/job:worker/replica:0/task:0/device:TPU:6, TPU, 0, 0)\n"
          ],
          "name": "stdout"
        },
        {
          "output_type": "stream",
          "text": [
            "INFO:tensorflow:*** Available Device: _DeviceAttributes(/job:worker/replica:0/task:0/device:TPU:6, TPU, 0, 0)\n"
          ],
          "name": "stderr"
        },
        {
          "output_type": "stream",
          "text": [
            "INFO:tensorflow:*** Available Device: _DeviceAttributes(/job:worker/replica:0/task:0/device:TPU:7, TPU, 0, 0)\n"
          ],
          "name": "stdout"
        },
        {
          "output_type": "stream",
          "text": [
            "INFO:tensorflow:*** Available Device: _DeviceAttributes(/job:worker/replica:0/task:0/device:TPU:7, TPU, 0, 0)\n"
          ],
          "name": "stderr"
        },
        {
          "output_type": "stream",
          "text": [
            "INFO:tensorflow:*** Available Device: _DeviceAttributes(/job:worker/replica:0/task:0/device:TPU_SYSTEM:0, TPU_SYSTEM, 0, 0)\n"
          ],
          "name": "stdout"
        },
        {
          "output_type": "stream",
          "text": [
            "INFO:tensorflow:*** Available Device: _DeviceAttributes(/job:worker/replica:0/task:0/device:TPU_SYSTEM:0, TPU_SYSTEM, 0, 0)\n"
          ],
          "name": "stderr"
        },
        {
          "output_type": "stream",
          "text": [
            "INFO:tensorflow:*** Available Device: _DeviceAttributes(/job:worker/replica:0/task:0/device:XLA_CPU:0, XLA_CPU, 0, 0)\n"
          ],
          "name": "stdout"
        },
        {
          "output_type": "stream",
          "text": [
            "INFO:tensorflow:*** Available Device: _DeviceAttributes(/job:worker/replica:0/task:0/device:XLA_CPU:0, XLA_CPU, 0, 0)\n"
          ],
          "name": "stderr"
        }
      ]
    },
    {
      "cell_type": "markdown",
      "metadata": {
        "id": "N5qnQ4_9pITz"
      },
      "source": [
        "## Functions for loading TFRecords"
      ]
    },
    {
      "cell_type": "code",
      "metadata": {
        "id": "8k-a7C1lIbDY"
      },
      "source": [
        "def _parse_image_function(example_proto):\n",
        "\n",
        "    \"\"\"\n",
        "    Reads from TFRecord file\n",
        "    Returns a tf.train.Example object (can be read like a dictionary)\n",
        "    \"\"\"\n",
        "\n",
        "    image_feature_description = {\n",
        "\n",
        "        \"image_raw\": tf.io.FixedLenFeature([128 * 128], tf.float32),\n",
        "        # \"mask_raw\": tf.io.FixedLenFeature([128 * 128], tf.int64),\n",
        "        \"mask_raw\": tf.io.FixedLenFeature([1], tf.int64),\n",
        "    }\n",
        "\n",
        "    # Parse the input tf.train.Example proto using the dictionary above.\n",
        "    return tf.io.parse_single_example(example_proto, image_feature_description)\n",
        "\n",
        "def _unpack_proto(example_proto):\n",
        "\n",
        "    \"\"\"\n",
        "    Extract image and mask from example_proto object\n",
        "    \"\"\"\n",
        "\n",
        "    image = example_proto[\"image_raw\"]\n",
        "    image = tf.reshape(image, [128, 128, 1])\n",
        "\n",
        "    mask = example_proto[\"mask_raw\"]\n",
        "    # mask = tf.reshape(mask, [128, 128])\n",
        "    mask = tf.reshape(mask, [1])\n",
        "\n",
        "    return image, mask\n",
        "\n",
        "\n",
        "def _unpack_proto_aug(example_proto):\n",
        "\n",
        "    \"\"\"\n",
        "    Extract image and mask from example_proto object\n",
        "    \"\"\"\n",
        "\n",
        "    image = example_proto[\"image_raw\"]\n",
        "    image = tf.reshape(image, [128, 128, 1])\n",
        "\n",
        "    mask = example_proto[\"mask_raw\"]\n",
        "    # mask = tf.reshape(mask, [128, 128])\n",
        "    mask = tf.reshape(mask, [1])\n",
        "\n",
        "    # DATA AUGMENTATION\n",
        "    if tf.random.uniform(()) > 0.5:\n",
        "      image = tf.image.flip_left_right(image)\n",
        "\n",
        "    if tf.random.uniform(()) > 0.5:\n",
        "      image = tf.image.rot90(image)\n",
        "\n",
        "    return image, mask\n",
        "\n",
        "\n",
        "def gray_2_rgb(image, mask):\n",
        "\n",
        "  \"\"\"\n",
        "  Convert image and mask to rgb (3 colour channels)\n",
        "  As required for input to pre-trained models\n",
        "  \"\"\"\n",
        "\n",
        "  image = tf.repeat(image, repeats=[3], axis=2)\n",
        "  # mask = tf.repeat(mask, repeats=[3], axis=2)\n",
        "\n",
        "  return image, mask"
      ],
      "execution_count": null,
      "outputs": []
    },
    {
      "cell_type": "code",
      "metadata": {
        "id": "G7oDWUhRpGR5"
      },
      "source": [
        "def optimise_dataset(ds):\n",
        "\n",
        "  \"\"\"\n",
        "  Improve performance of tensorflow dataset\n",
        "  \"\"\"\n",
        "\n",
        "  ds = ds.prefetch(tf.data.experimental.AUTOTUNE)\n",
        "  # ds = ds.cache()\n",
        "  return ds\n",
        "\n",
        "def prepare_data(ds, shuffle=True):\n",
        "  \"\"\"\n",
        "  Normalise, batch, shuffle and optimise the dataset\n",
        "  \"\"\"\n",
        "  \n",
        "  if shuffle:\n",
        "    ds = ds.shuffle(5000)\n",
        "  batch_size = 8 * tpu_strategy.num_replicas_in_sync # 16*8 (tpu_strategy.num_replicas_in_sync value shown in output of previous cell)\n",
        "  ds = ds.batch(batch_size)\n",
        "  ds = optimise_dataset(ds)\n",
        "  return ds\n"
      ],
      "execution_count": null,
      "outputs": []
    },
    {
      "cell_type": "markdown",
      "metadata": {
        "id": "-8V7CsQqpPkz"
      },
      "source": [
        "## Balance classes (empty & non-empty masks)"
      ]
    },
    {
      "cell_type": "markdown",
      "metadata": {
        "id": "ndsHrKskpWL4"
      },
      "source": [
        "https://www.tensorflow.org/tutorials/structured_data/imbalanced_data#optional_set_the_correct_initial_bias"
      ]
    },
    {
      "cell_type": "code",
      "metadata": {
        "colab": {
          "base_uri": "https://localhost:8080/"
        },
        "id": "YLXWDsWBpQN0",
        "outputId": "07c9c03d-8881-4664-af4c-06890b40b967"
      },
      "source": [
        "# retrieve aneurysm-positive & aneurysm-negative datasets from google cloud\n",
        "\n",
        "train_empty_gcs_pattern = \"gs://tfrecords_patches_binary/train_empty*\" # specify google cloud bucket name and file name prefix\n",
        "train_empty_filenames = tf.io.gfile.glob(train_empty_gcs_pattern)\n",
        "\n",
        "train_nonempty_gcs_pattern = \"gs://tfrecords_patches_binary/train_non_empty*\" # specify google cloud bucket name and file name prefix\n",
        "train_nonempty_filenames = tf.io.gfile.glob(train_nonempty_gcs_pattern)\n",
        "\n",
        "train_empty_filenames, train_nonempty_filenames"
      ],
      "execution_count": null,
      "outputs": [
        {
          "output_type": "execute_result",
          "data": {
            "text/plain": [
              "(['gs://tfrecords_patches_binary/train_empty.tfrecords-0',\n",
              "  'gs://tfrecords_patches_binary/train_empty.tfrecords-1',\n",
              "  'gs://tfrecords_patches_binary/train_empty.tfrecords-10',\n",
              "  'gs://tfrecords_patches_binary/train_empty.tfrecords-11',\n",
              "  'gs://tfrecords_patches_binary/train_empty.tfrecords-12',\n",
              "  'gs://tfrecords_patches_binary/train_empty.tfrecords-13',\n",
              "  'gs://tfrecords_patches_binary/train_empty.tfrecords-2',\n",
              "  'gs://tfrecords_patches_binary/train_empty.tfrecords-3',\n",
              "  'gs://tfrecords_patches_binary/train_empty.tfrecords-4',\n",
              "  'gs://tfrecords_patches_binary/train_empty.tfrecords-5',\n",
              "  'gs://tfrecords_patches_binary/train_empty.tfrecords-6',\n",
              "  'gs://tfrecords_patches_binary/train_empty.tfrecords-7',\n",
              "  'gs://tfrecords_patches_binary/train_empty.tfrecords-8',\n",
              "  'gs://tfrecords_patches_binary/train_empty.tfrecords-9'],\n",
              " ['gs://tfrecords_patches_binary/train_non_empty.tfrecords-0'])"
            ]
          },
          "metadata": {},
          "execution_count": 12
        }
      ]
    },
    {
      "cell_type": "code",
      "metadata": {
        "id": "HlT5WafTpaco",
        "colab": {
          "base_uri": "https://localhost:8080/"
        },
        "outputId": "577b5b23-189f-4f93-f5bd-f133fb526106"
      },
      "source": [
        "# create training dataset\n",
        "\n",
        "train_empty_ds = tf.data.TFRecordDataset(train_empty_filenames)\n",
        "train_empty_ds = train_empty_ds.map(_parse_image_function)\n",
        "train_empty_ds = train_empty_ds.map(_unpack_proto_aug)\n",
        "\n",
        "train_nonempty_ds = tf.data.TFRecordDataset(train_nonempty_filenames)\n",
        "train_nonempty_ds = train_nonempty_ds.map(_parse_image_function)\n",
        "train_nonempty_ds = train_nonempty_ds.map(_unpack_proto_aug)\n",
        "\n",
        "train_datasets = [train_nonempty_ds.repeat(), train_empty_ds.repeat()]\n",
        "train_ds = tf.data.experimental.sample_from_datasets(train_datasets, [0.5,0.5]) # class balancing\n",
        "\n",
        "train_ds = prepare_data(train_ds)"
      ],
      "execution_count": null,
      "outputs": [
        {
          "output_type": "stream",
          "text": [
            "WARNING:tensorflow:From /usr/local/lib/python3.7/dist-packages/tensorflow/python/data/experimental/ops/interleave_ops.py:260: RandomDataset.__init__ (from tensorflow.python.data.ops.dataset_ops) is deprecated and will be removed in a future version.\n",
            "Instructions for updating:\n",
            "Use `tf.data.Dataset.random(...)`.\n"
          ],
          "name": "stdout"
        },
        {
          "output_type": "stream",
          "text": [
            "WARNING:tensorflow:From /usr/local/lib/python3.7/dist-packages/tensorflow/python/data/experimental/ops/interleave_ops.py:260: RandomDataset.__init__ (from tensorflow.python.data.ops.dataset_ops) is deprecated and will be removed in a future version.\n",
            "Instructions for updating:\n",
            "Use `tf.data.Dataset.random(...)`.\n"
          ],
          "name": "stderr"
        }
      ]
    },
    {
      "cell_type": "code",
      "metadata": {
        "id": "9zBKcRVopeFU"
      },
      "source": [
        "# create validation dataset\n",
        "\n",
        "val_empty_gcs_pattern = \"gs://tfrecords_patches_binary/val_empty*\"\n",
        "val_empty_filenames = tf.io.gfile.glob(val_empty_gcs_pattern)\n",
        "\n",
        "val_nonempty_gcs_pattern = \"gs://tfrecords_patches_binary/val_non_empty*\"\n",
        "val_nonempty_filenames = tf.io.gfile.glob(val_nonempty_gcs_pattern)\n",
        "\n",
        "val_empty_ds = tf.data.TFRecordDataset(val_empty_filenames)\n",
        "val_empty_ds = val_empty_ds.map(_parse_image_function)\n",
        "val_empty_ds = val_empty_ds.map(_unpack_proto)\n",
        "\n",
        "val_nonempty_ds = tf.data.TFRecordDataset(val_nonempty_filenames)\n",
        "val_nonempty_ds = val_nonempty_ds.map(_parse_image_function)\n",
        "val_nonempty_ds = val_nonempty_ds.map(_unpack_proto)\n",
        "\n",
        "val_datasets = [val_nonempty_ds.repeat(), val_empty_ds.repeat()]\n",
        "val_ds = tf.data.experimental.sample_from_datasets(val_datasets, [0.5,0.5]) # class balancing\n",
        "\n",
        "val_ds = prepare_data(val_ds)"
      ],
      "execution_count": null,
      "outputs": []
    },
    {
      "cell_type": "markdown",
      "metadata": {
        "id": "1GIc6VqUpjqR"
      },
      "source": [
        "## Display Images"
      ]
    },
    {
      "cell_type": "code",
      "metadata": {
        "id": "H-HyNg8Wpl6y"
      },
      "source": [
        "def display_img_mask(batch_num, img_num):\n",
        "\n",
        "  for images, labels in train_ds.take(batch_num):  # only take first element of dataset\n",
        "      numpy_images = images.numpy()\n",
        "      numpy_labels = labels.numpy()\n",
        "\n",
        "  plt.subplot(1,2,1)\n",
        "  plt.imshow(numpy_images[img_num].reshape((128,128)))\n",
        "\n",
        "  print(numpy_labels[img_num])"
      ],
      "execution_count": null,
      "outputs": []
    },
    {
      "cell_type": "code",
      "metadata": {
        "colab": {
          "base_uri": "https://localhost:8080/",
          "height": 220
        },
        "id": "4DJ2SmbxpmlX",
        "outputId": "bbc10f48-fd94-4c92-a98a-c35400185104"
      },
      "source": [
        "display_img_mask(55,60)"
      ],
      "execution_count": null,
      "outputs": [
        {
          "output_type": "stream",
          "text": [
            "[0]\n"
          ],
          "name": "stdout"
        },
        {
          "output_type": "display_data",
          "data": {
            "image/png": "[encoded data removed]",
            "text/plain": [
              "<Figure size 432x288 with 1 Axes>"
            ]
          },
          "metadata": {
            "needs_background": "light"
          }
        }
      ]
    },
    {
      "cell_type": "code",
      "metadata": {
        "id": "719MILeI48XW"
      },
      "source": [
        "train_images = []\n",
        "train_masks = []\n",
        "\n",
        "for batch_num in range(7):\n",
        "  for images, masks in train_ds.take(batch_num):  \n",
        "        numpy_images = images.numpy()\n",
        "        numpy_masks = masks.numpy()\n",
        "\n",
        "        train_images.append(numpy_images)\n",
        "        train_masks.append(numpy_masks)\n",
        "\n",
        "numpy_images = np.concatenate(train_images)\n",
        "numpy_masks = np.concatenate(train_masks)"
      ],
      "execution_count": null,
      "outputs": []
    },
    {
      "cell_type": "code",
      "metadata": {
        "colab": {
          "base_uri": "https://localhost:8080/"
        },
        "id": "qmW9rWej49Ia",
        "outputId": "69a655d6-c1ea-416e-864d-2681229df118"
      },
      "source": [
        "len(numpy_images)"
      ],
      "execution_count": null,
      "outputs": [
        {
          "output_type": "execute_result",
          "data": {
            "text/plain": [
              "1344"
            ]
          },
          "metadata": {},
          "execution_count": 28
        }
      ]
    },
    {
      "cell_type": "markdown",
      "metadata": {
        "id": "rC6Xk-kAaf6A"
      },
      "source": [
        "## Model Architecture"
      ]
    },
    {
      "cell_type": "code",
      "metadata": {
        "id": "bSS5wOPra_d4"
      },
      "source": [
        "#Define a Callback function to store metrics (statistics such as accuracy, loss, F1 score...)\n",
        "\n",
        "import keras\n",
        "\n",
        "from sklearn.metrics import confusion_matrix, f1_score, precision_score, recall_score\n",
        "\n",
        "class MetricsHistory(keras.callbacks.Callback):\n",
        "  \n",
        "  def on_train_begin(self, logs={}):\n",
        "    self.losses = []\n",
        "    self.binary_accuracies = []\n",
        "    self.val_losses = []\n",
        "    self.val_binary_accuracies = []\n",
        "\n",
        "  def on_epoch_end(self, batch, logs={}):\n",
        "    self.losses.append(logs.get('loss'))\n",
        "    self.binary_accuracies.append(logs.get('binary_accuracy'))\n",
        "    self.val_losses.append(logs.get('val_loss'))\n",
        "    self.val_binary_accuracies.append(logs.get('val_binary_accuracy'))\n",
        "  \n",
        "metrics_history = MetricsHistory()"
      ],
      "execution_count": null,
      "outputs": []
    },
    {
      "cell_type": "code",
      "metadata": {
        "id": "dvd20m8hsJGp"
      },
      "source": [
        "from keras.regularizers import l2\n",
        "# instantiate regularizer\n",
        "reg = l2(0.001)"
      ],
      "execution_count": null,
      "outputs": []
    },
    {
      "cell_type": "markdown",
      "metadata": {
        "id": "ifeI74M-oOSS"
      },
      "source": [
        "### Simple CNN 1"
      ]
    },
    {
      "cell_type": "code",
      "metadata": {
        "id": "cMSx5uHQoN1v"
      },
      "source": [
        "with tpu_strategy.scope():\n",
        "\n",
        "  # Create a Keras model.\n",
        "  model = keras.Sequential()\n",
        "\n",
        "  #Add layers to the model\n",
        "  # First layer of the CNN: Convolutional layer\n",
        "  model.add(keras.layers.Conv2D(\n",
        "      input_shape=(128,128, 1), # (height,width,channels) with channels = 1 indicating greyscale\n",
        "      filters=64,\n",
        "      kernel_size=(3, 3), # determine the width and height of the filter matrix / 2D convolution window\n",
        "      activation='relu',\n",
        "      activity_regularizer=reg))\n",
        "\n",
        "  #Pooling layer performs downsampling, reducing dimensions of image to save computing power\n",
        "  model.add(keras.layers.MaxPooling2D(\n",
        "      pool_size=(2, 2),\n",
        "      strides=(2, 2),\n",
        "      activity_regularizer=reg))\n",
        "\n",
        "  model.add(keras.layers.Dropout(0.2))\n",
        "\n",
        "\n",
        "  # Second layer of the CNN\n",
        "  # Convolutional layer\n",
        "  model.add(keras.layers.Conv2D(\n",
        "      filters=128,\n",
        "      kernel_size=(3, 3),\n",
        "      activation='relu',\n",
        "      activity_regularizer=reg))\n",
        "\n",
        "  #Another pooling layer\n",
        "  model.add(keras.layers.MaxPooling2D( # Numbers 2, 2 denote the pool size, which halves the input in both spatial dimension.\n",
        "      pool_size=(2, 2),\n",
        "      strides=(2, 2),\n",
        "      activity_regularizer=reg))\n",
        "\n",
        "  model.add(keras.layers.Dropout(0.2))\n",
        "\n",
        "\n",
        "  # Dense layers of the CNN.\n",
        "  #'Flatten' layer converts 2D arrays produced by previous layers into a column vector\n",
        "  model.add(keras.layers.Flatten()) # 'flatten' performs the input role\n",
        "  model.add(\n",
        "    keras.layers.Dense(\n",
        "      units=64,\n",
        "      activation='relu'))\n",
        "\n",
        "  # model.add(\n",
        "  #   keras.layers.Dense(\n",
        "  #     units=32,\n",
        "  #     activation='relu'))\n",
        "\n",
        "  # Output layer of the CNN.\n",
        "  model.add(\n",
        "    keras.layers.Dense(\n",
        "      units=1,\n",
        "      activation='sigmoid'))\n"
      ],
      "execution_count": null,
      "outputs": []
    },
    {
      "cell_type": "code",
      "metadata": {
        "colab": {
          "base_uri": "https://localhost:8080/"
        },
        "id": "SB1wiVlMro3k",
        "outputId": "09100466-8c14-47d7-e3cf-61064904b88f"
      },
      "source": [
        "tf.keras.utils.plot_model(model, rankdir='LR')"
      ],
      "execution_count": null,
      "outputs": [
        {
          "output_type": "execute_result",
          "data": {
            "image/png": "[encoded data removed]",
            "text/plain": [
              "<IPython.core.display.Image object>"
            ]
          },
          "metadata": {},
          "execution_count": 32
        }
      ]
    },
    {
      "cell_type": "code",
      "metadata": {
        "id": "irRDnxErqsdR"
      },
      "source": [
        "model.summary()"
      ],
      "execution_count": null,
      "outputs": []
    },
    {
      "cell_type": "markdown",
      "metadata": {
        "id": "R7pk7NDUXA7O"
      },
      "source": [
        "### Simple CNN 2"
      ]
    },
    {
      "cell_type": "markdown",
      "metadata": {
        "id": "pBC-BrUI0HvN"
      },
      "source": [
        "Same number of layers but fewer filters compared to Simple CNN 1"
      ]
    },
    {
      "cell_type": "code",
      "metadata": {
        "id": "KYGduB30XDSw"
      },
      "source": [
        "with tpu_strategy.scope():\n",
        "\n",
        "  # Create a Keras model.\n",
        "  model = keras.Sequential()\n",
        "\n",
        "  #Add layers to the model\n",
        "  # First layer of the CNN: Convolutional layer\n",
        "  model.add(keras.layers.Conv2D(\n",
        "      input_shape=(128,128, 1), # (height,width,channels) with channels = 1 indicating greyscale\n",
        "      filters=32,\n",
        "      kernel_size=(3, 3), # determine the width and height of the filter matrix / 2D convolution window\n",
        "      activation='relu',\n",
        "      activity_regularizer=reg))\n",
        "  \n",
        "  #Pooling layer performs downsampling, reducing dimensions of image to save computing power\n",
        "  model.add(keras.layers.MaxPooling2D(\n",
        "      pool_size=(2, 2),\n",
        "      strides=(2, 2),\n",
        "      activity_regularizer=reg))\n",
        "  \n",
        "  model.add(keras.layers.Dropout(0.2))\n",
        "\n",
        "\n",
        "  # Second layer of the CNN\n",
        "  # Convolutional layer\n",
        "  model.add(keras.layers.Conv2D(\n",
        "      filters=64,\n",
        "      kernel_size=(3, 3),\n",
        "      activation='relu',\n",
        "      activity_regularizer=reg))\n",
        "\n",
        "  #Another pooling layer\n",
        "  model.add(keras.layers.MaxPooling2D( # Numbers 2, 2 denote the pool size, which halves the input in both spatial dimension.\n",
        "      pool_size=(2, 2),\n",
        "      strides=(2, 2),\n",
        "      activity_regularizer=reg))\n",
        "  \n",
        "  model.add(keras.layers.Dropout(0.2))\n",
        "\n",
        "  # Dense layers of the CNN.\n",
        "  #'Flatten' layer converts 2D arrays produced by previous layers into a column vector\n",
        "  model.add(keras.layers.Flatten()) # 'flatten' performs the input role\n",
        "\n",
        "  model.add(\n",
        "    keras.layers.Dense(\n",
        "      units=32,\n",
        "      activation='relu'))\n",
        "\n",
        "  # Output layer of the CNN.\n",
        "  model.add(\n",
        "    keras.layers.Dense(\n",
        "      units=1,\n",
        "      activation='sigmoid'))"
      ],
      "execution_count": null,
      "outputs": []
    },
    {
      "cell_type": "markdown",
      "metadata": {
        "id": "53bs3ods2jKL"
      },
      "source": [
        "### Simple CNN3 "
      ]
    },
    {
      "cell_type": "markdown",
      "metadata": {
        "id": "JO5LCLEH0Ou5"
      },
      "source": [
        "CNN2 without Max Pooling"
      ]
    },
    {
      "cell_type": "code",
      "metadata": {
        "id": "DX7cCSTR2k8y"
      },
      "source": [
        "with tpu_strategy.scope():\n",
        "\n",
        "  # Create a Keras model.\n",
        "  model = keras.Sequential()\n",
        "\n",
        "  #Add layers to the model\n",
        "  # First layer of the CNN: Convolutional layer\n",
        "  model.add(keras.layers.Conv2D(\n",
        "      input_shape=(128,128, 1), # (height,width,channels) with channels = 1 indicating greyscale\n",
        "      filters=32,\n",
        "      kernel_size=(3, 3), # determine the width and height of the filter matrix / 2D convolution window\n",
        "      activation='relu',\n",
        "      activity_regularizer=reg))\n",
        "  \n",
        "  model.add(keras.layers.Dropout(0.2))\n",
        "\n",
        "  # Second layer of the CNN\n",
        "  # Convolutional layer\n",
        "  model.add(keras.layers.Conv2D(\n",
        "      filters=64,\n",
        "      kernel_size=(3, 3),\n",
        "      activation='relu',\n",
        "      activity_regularizer=reg))\n",
        "  \n",
        "  model.add(keras.layers.Dropout(0.2))\n",
        "\n",
        "  # Dense layers of the CNN.\n",
        "  #'Flatten' layer converts 2D arrays produced by previous layers into a column vector\n",
        "  model.add(keras.layers.Flatten()) # 'flatten' performs the input role\n",
        "\n",
        "  model.add(\n",
        "    keras.layers.Dense(\n",
        "      units=32,\n",
        "      activation='relu'))\n",
        "\n",
        "  # Output layer of the CNN.\n",
        "  model.add(\n",
        "    keras.layers.Dense(\n",
        "      units=1,\n",
        "      activation='sigmoid'))"
      ],
      "execution_count": null,
      "outputs": []
    },
    {
      "cell_type": "markdown",
      "metadata": {
        "id": "xHZIZDq-DFF6"
      },
      "source": [
        "## Training the Model"
      ]
    },
    {
      "cell_type": "markdown",
      "metadata": {
        "id": "-AaVp-T5EKag"
      },
      "source": [
        "### Learning rate scheduler & Early Stopping"
      ]
    },
    {
      "cell_type": "code",
      "metadata": {
        "id": "BPz5JtsKDGl0"
      },
      "source": [
        "def build_learning_rate_cycler(\n",
        "    lr_start=1e-5,\n",
        "    lr_max=5e-5,\n",
        "    lr_min=1e-6,\n",
        "    lr_rampup_epochs=10,\n",
        "    lr_sustain_epochs=2,\n",
        "    lr_exp_decay=0.9,\n",
        "):\n",
        "    lr_max = lr_max\n",
        "\n",
        "    def lrfn(epoch):\n",
        "        if epoch < lr_rampup_epochs:\n",
        "            lr = (lr_max - lr_start) / lr_rampup_epochs * epoch + lr_start\n",
        "        elif epoch < lr_rampup_epochs + lr_sustain_epochs:\n",
        "            lr = lr_max\n",
        "        else:\n",
        "            lr = (lr_max - lr_min) * lr_exp_decay ** (\n",
        "                epoch - lr_rampup_epochs - lr_sustain_epochs\n",
        "            ) + lr_min\n",
        "        return lr\n",
        "\n",
        "    return lrfn\n",
        "\n",
        "lr_cycler = build_learning_rate_cycler(\n",
        "          lr_start=1e-4,\n",
        "          lr_max=1e-3,\n",
        "          lr_min=1e-4,\n",
        "          lr_rampup_epochs=20,\n",
        "          lr_sustain_epochs=0,\n",
        "          lr_exp_decay=0.9,\n",
        "      )   \n"
      ],
      "execution_count": null,
      "outputs": []
    },
    {
      "cell_type": "code",
      "metadata": {
        "id": "PZ6tScu5DJgX"
      },
      "source": [
        "early_stopping = tf.keras.callbacks.EarlyStopping(\n",
        "                    monitor='val_loss',\n",
        "                    patience=25,\n",
        "                    restore_best_weights=True,\n",
        "                    mode='auto')"
      ],
      "execution_count": null,
      "outputs": []
    },
    {
      "cell_type": "markdown",
      "metadata": {
        "id": "mDDPEsRmEOW2"
      },
      "source": [
        "### Training Simple CNNs"
      ]
    },
    {
      "cell_type": "code",
      "metadata": {
        "colab": {
          "base_uri": "https://localhost:8080/"
        },
        "id": "lsd7wsaVDLTo",
        "outputId": "950c0356-8fac-4477-bf75-6b2204e00800"
      },
      "source": [
        "with tpu_strategy.scope():\n",
        "\n",
        "  # train AND save weights \n",
        "\n",
        "  print('Creating and compiling model...')\n",
        "\n",
        "  lr = 1e-4\n",
        "  loss = tf.keras.losses.binary_crossentropy\n",
        "  metrics = ['binary_accuracy']\n",
        "\n",
        "  model.compile(optimizer=Adam(learning_rate=lr), loss=loss, metrics=metrics)\n",
        "\n",
        "  print('Fitting model...')\n",
        "  history=model.fit(\n",
        "      train_ds,\n",
        "      epochs=100, \n",
        "      steps_per_epoch=5, \n",
        "      validation_data=val_ds, \n",
        "      validation_steps=10, \n",
        "      callbacks=[metrics_history, early_stopping]) \n",
        "\n",
        "  # save_model_path = \"/content/drive/My Drive/Masters Project/Vascular Segmentation/Model Weights/128 x 128 Binary Classification\"\n",
        "  # model.save(os.path.join(save_model_path, 'lr=1e-3_CNN3.h5'))"
      ],
      "execution_count": null,
      "outputs": [
        {
          "output_type": "stream",
          "text": [
            "Creating and compiling model...\n",
            "Fitting model...\n",
            "Epoch 1/100\n",
            "5/5 [==============================] - 14s 2s/step - loss: 2.6917 - binary_accuracy: 0.4969 - val_loss: 3.8566 - val_binary_accuracy: 0.5422\n",
            "Epoch 2/100\n",
            "5/5 [==============================] - 3s 668ms/step - loss: 2.6746 - binary_accuracy: 0.4813 - val_loss: 3.4736 - val_binary_accuracy: 0.5031\n",
            "Epoch 3/100\n",
            "5/5 [==============================] - 3s 716ms/step - loss: 2.4919 - binary_accuracy: 0.4906 - val_loss: 3.5710 - val_binary_accuracy: 0.4469\n",
            "Epoch 4/100\n",
            "5/5 [==============================] - 3s 619ms/step - loss: 2.4440 - binary_accuracy: 0.5437 - val_loss: 3.3916 - val_binary_accuracy: 0.5266\n",
            "Epoch 5/100\n",
            "5/5 [==============================] - 2s 620ms/step - loss: 2.1795 - binary_accuracy: 0.5031 - val_loss: 3.2309 - val_binary_accuracy: 0.4688\n",
            "Epoch 6/100\n",
            "5/5 [==============================] - 3s 733ms/step - loss: 2.2386 - binary_accuracy: 0.5437 - val_loss: 3.1014 - val_binary_accuracy: 0.5125\n",
            "Epoch 7/100\n",
            "5/5 [==============================] - 2s 610ms/step - loss: 2.0771 - binary_accuracy: 0.5625 - val_loss: 3.0354 - val_binary_accuracy: 0.4875\n",
            "Epoch 8/100\n",
            "5/5 [==============================] - 3s 641ms/step - loss: 2.0255 - binary_accuracy: 0.4719 - val_loss: 3.1185 - val_binary_accuracy: 0.4938\n",
            "Epoch 9/100\n",
            "5/5 [==============================] - 3s 633ms/step - loss: 1.9615 - binary_accuracy: 0.5375 - val_loss: 2.9388 - val_binary_accuracy: 0.4719\n",
            "Epoch 10/100\n",
            "5/5 [==============================] - 3s 657ms/step - loss: 1.9245 - binary_accuracy: 0.5094 - val_loss: 2.8789 - val_binary_accuracy: 0.6156\n",
            "Epoch 11/100\n",
            "5/5 [==============================] - 3s 700ms/step - loss: 1.9043 - binary_accuracy: 0.6125 - val_loss: 2.8067 - val_binary_accuracy: 0.5500\n",
            "Epoch 12/100\n",
            "5/5 [==============================] - 2s 612ms/step - loss: 2.0227 - binary_accuracy: 0.5875 - val_loss: 2.7456 - val_binary_accuracy: 0.6062\n",
            "Epoch 13/100\n",
            "5/5 [==============================] - 3s 731ms/step - loss: 1.9009 - binary_accuracy: 0.5344 - val_loss: 2.6128 - val_binary_accuracy: 0.5391\n",
            "Epoch 14/100\n",
            "5/5 [==============================] - 2s 568ms/step - loss: 1.7481 - binary_accuracy: 0.5219 - val_loss: 2.5079 - val_binary_accuracy: 0.5047\n",
            "Epoch 15/100\n",
            "5/5 [==============================] - 3s 631ms/step - loss: 1.7766 - binary_accuracy: 0.5375 - val_loss: 2.5337 - val_binary_accuracy: 0.4859\n",
            "Epoch 16/100\n",
            "5/5 [==============================] - 3s 635ms/step - loss: 1.7052 - binary_accuracy: 0.5688 - val_loss: 2.5525 - val_binary_accuracy: 0.5047\n",
            "Epoch 17/100\n",
            "5/5 [==============================] - 2s 603ms/step - loss: 1.7596 - binary_accuracy: 0.5563 - val_loss: 2.5248 - val_binary_accuracy: 0.5266\n",
            "Epoch 18/100\n",
            "5/5 [==============================] - 3s 626ms/step - loss: 1.7369 - binary_accuracy: 0.5469 - val_loss: 2.4711 - val_binary_accuracy: 0.5188\n",
            "Epoch 19/100\n",
            "5/5 [==============================] - 3s 629ms/step - loss: 1.6963 - binary_accuracy: 0.5625 - val_loss: 2.3728 - val_binary_accuracy: 0.5250\n",
            "Epoch 20/100\n",
            "5/5 [==============================] - 3s 625ms/step - loss: 1.7161 - binary_accuracy: 0.6281 - val_loss: 2.3894 - val_binary_accuracy: 0.5531\n",
            "Epoch 21/100\n",
            "5/5 [==============================] - 2s 606ms/step - loss: 1.6385 - binary_accuracy: 0.5531 - val_loss: 2.2379 - val_binary_accuracy: 0.5453\n",
            "Epoch 22/100\n",
            "5/5 [==============================] - 3s 695ms/step - loss: 1.5901 - binary_accuracy: 0.5250 - val_loss: 2.2745 - val_binary_accuracy: 0.5156\n",
            "Epoch 23/100\n",
            "5/5 [==============================] - 2s 588ms/step - loss: 1.5616 - binary_accuracy: 0.5500 - val_loss: 2.2818 - val_binary_accuracy: 0.5172\n",
            "Epoch 24/100\n",
            "5/5 [==============================] - 3s 621ms/step - loss: 1.5747 - binary_accuracy: 0.5469 - val_loss: 2.1884 - val_binary_accuracy: 0.5266\n",
            "Epoch 25/100\n",
            "5/5 [==============================] - 3s 668ms/step - loss: 1.5790 - binary_accuracy: 0.5594 - val_loss: 2.0710 - val_binary_accuracy: 0.5281\n",
            "Epoch 26/100\n",
            "5/5 [==============================] - 2s 567ms/step - loss: 1.5127 - binary_accuracy: 0.5219 - val_loss: 2.1493 - val_binary_accuracy: 0.5063\n",
            "Epoch 27/100\n",
            "5/5 [==============================] - 3s 715ms/step - loss: 1.6220 - binary_accuracy: 0.5375 - val_loss: 2.0104 - val_binary_accuracy: 0.5141\n",
            "Epoch 28/100\n",
            "5/5 [==============================] - 2s 575ms/step - loss: 1.4634 - binary_accuracy: 0.5375 - val_loss: 1.9637 - val_binary_accuracy: 0.5031\n",
            "Epoch 29/100\n",
            "5/5 [==============================] - 2s 599ms/step - loss: 1.4873 - binary_accuracy: 0.5531 - val_loss: 1.9741 - val_binary_accuracy: 0.5500\n",
            "Epoch 30/100\n",
            "5/5 [==============================] - 3s 681ms/step - loss: 1.4428 - binary_accuracy: 0.5156 - val_loss: 1.9653 - val_binary_accuracy: 0.5047\n",
            "Epoch 31/100\n",
            "5/5 [==============================] - 2s 597ms/step - loss: 1.4359 - binary_accuracy: 0.5656 - val_loss: 1.9229 - val_binary_accuracy: 0.5109\n",
            "Epoch 32/100\n",
            "5/5 [==============================] - 2s 536ms/step - loss: 1.4350 - binary_accuracy: 0.5500 - val_loss: 1.9355 - val_binary_accuracy: 0.4938\n",
            "Epoch 33/100\n",
            "5/5 [==============================] - 3s 869ms/step - loss: 1.3712 - binary_accuracy: 0.5531 - val_loss: 1.8090 - val_binary_accuracy: 0.5391\n",
            "Epoch 34/100\n",
            "5/5 [==============================] - 2s 594ms/step - loss: 1.3924 - binary_accuracy: 0.5844 - val_loss: 1.8540 - val_binary_accuracy: 0.5328\n",
            "Epoch 35/100\n",
            "5/5 [==============================] - 2s 619ms/step - loss: 1.3126 - binary_accuracy: 0.5312 - val_loss: 1.8309 - val_binary_accuracy: 0.5750\n"
          ],
          "name": "stdout"
        }
      ]
    },
    {
      "cell_type": "code",
      "metadata": {
        "colab": {
          "base_uri": "https://localhost:8080/",
          "height": 354
        },
        "id": "lIvQVXWACV2h",
        "outputId": "fb4341f0-741b-4c28-e03e-1ee28fdd1c64"
      },
      "source": [
        "# plot training & validation loss\n",
        "\n",
        "plt.figure(figsize=(12, 4)) \n",
        "\n",
        "plt.subplot(1,2,1)\n",
        "plt.plot(history.history['loss'], label='Training')\n",
        "plt.plot(history.history['val_loss'], label='Validation')\n",
        "plt.xlabel('Epoch', size=16)\n",
        "plt.ylabel('Loss', size=16)\n",
        "plt.xticks(size=12)\n",
        "plt.yticks(size=12)\n",
        "plt.title('Loss throughout training: lr={} \\n with dropout, l2(0.001) regularisation \\n and data augmentation'.format(lr), size=14)\n",
        "plt.legend(prop={'size': 12})"
      ],
      "execution_count": null,
      "outputs": [
        {
          "output_type": "execute_result",
          "data": {
            "text/plain": [
              "<matplotlib.legend.Legend at 0x7fd813b16f90>"
            ]
          },
          "metadata": {},
          "execution_count": 57
        },
        {
          "output_type": "display_data",
          "data": {
            "image/png": "[encoded data removed]",
            "text/plain": [
              "<Figure size 864x288 with 1 Axes>"
            ]
          },
          "metadata": {
            "needs_background": "light"
          }
        }
      ]
    },
    {
      "cell_type": "code",
      "metadata": {
        "colab": {
          "base_uri": "https://localhost:8080/",
          "height": 353
        },
        "id": "HxzJJS3aCV5B",
        "outputId": "6329aa76-1e94-4823-af81-c1c408cbcda8"
      },
      "source": [
        "# plot training & validation accuracy\n",
        "\n",
        "plt.figure(figsize=(12, 4)) \n",
        "\n",
        "plt.subplot(1,2,2)\n",
        "plt.plot(history.history['binary_accuracy'], label='Training')\n",
        "plt.plot(history.history['val_binary_accuracy'], label='Validation')\n",
        "plt.xlabel('Epoch', size=14)\n",
        "plt.ylabel('Binary Accuracy', size=14)\n",
        "plt.xticks(size=12)\n",
        "plt.yticks(size=12)\n",
        "plt.title('Binary Accuracy throughout training: lr={} \\n with dropout, l2 (0.001) regularisation \\n and data augmentation'.format(lr), size=14)\n",
        "plt.legend(prop={'size': 12})"
      ],
      "execution_count": null,
      "outputs": [
        {
          "output_type": "execute_result",
          "data": {
            "text/plain": [
              "<matplotlib.legend.Legend at 0x7fd81e54b7d0>"
            ]
          },
          "metadata": {},
          "execution_count": 58
        },
        {
          "output_type": "display_data",
          "data": {
            "image/png": "[encoded data removed]",
            "text/plain": [
              "<Figure size 864x288 with 1 Axes>"
            ]
          },
          "metadata": {
            "needs_background": "light"
          }
        }
      ]
    },
    {
      "cell_type": "markdown",
      "metadata": {
        "id": "Anyk4tWXD9oZ"
      },
      "source": [
        "## Find optimal Learning Rate"
      ]
    },
    {
      "cell_type": "code",
      "metadata": {
        "id": "juD1wxT8D_tV",
        "colab": {
          "base_uri": "https://localhost:8080/"
        },
        "outputId": "69466a2f-83f2-4751-cefe-a02ed6d3f76e"
      },
      "source": [
        "model.compile(optimizer=Adam(learning_rate=lr), loss=loss, metrics=metrics)\n",
        "\n",
        "initial_weights = model.get_weights()\n",
        "len(initial_weights)"
      ],
      "execution_count": null,
      "outputs": [
        {
          "output_type": "execute_result",
          "data": {
            "text/plain": [
              "8"
            ]
          },
          "metadata": {},
          "execution_count": 374
        }
      ]
    },
    {
      "cell_type": "code",
      "metadata": {
        "colab": {
          "base_uri": "https://localhost:8080/"
        },
        "id": "gjvQ4Qcv8bvI",
        "outputId": "8b06d560-b309-4ecf-8957-e40ef421b2a6"
      },
      "source": [
        "def find_learning_rate(num_rates=50):\n",
        "    rates = np.logspace(-5, -1, num=num_rates)\n",
        "    img, label = list(train_ds.take(1))[0]\n",
        "    losses = []\n",
        "    for rate in tqdm(rates):\n",
        "\n",
        "          model.compile(optimizer=Adam(learning_rate=rate), loss=loss, metrics=metrics)\n",
        "          model.set_weights(initial_weights)\n",
        "          model.fit(img, label, epochs=10, verbose=0)\n",
        "          losses.append(model.history.history['loss'][0])\n",
        "    return losses, rates\n",
        "\n",
        "losses, rates = find_learning_rate(50)"
      ],
      "execution_count": null,
      "outputs": [
        {
          "output_type": "stream",
          "text": [
            "100%|██████████| 50/50 [23:23<00:00, 28.07s/it]\n"
          ],
          "name": "stderr"
        }
      ]
    },
    {
      "cell_type": "code",
      "metadata": {
        "colab": {
          "base_uri": "https://localhost:8080/"
        },
        "id": "s1IPMLO2ETXy",
        "outputId": "af8300d7-01a4-445c-cbf8-f680bf2d2f91"
      },
      "source": [
        "plt.plot(np.log10(rates), losses)\n",
        "plt.title('Binary cross-entropy loss \\n for a variety of learning rates', size=14)\n",
        "plt.xlabel('\\n Learning rate exponent', size=14)\n",
        "plt.ylabel('Binary cross-entropy loss \\n', size=14)\n",
        "plt.xticks(size=12)\n",
        "plt.yticks(size=12)"
      ],
      "execution_count": null,
      "outputs": [
        {
          "output_type": "execute_result",
          "data": {
            "text/plain": [
              "(array([0., 1., 2., 3., 4., 5., 6., 7., 8.]),\n",
              " <a list of 9 Text major ticklabel objects>)"
            ]
          },
          "metadata": {},
          "execution_count": 376
        },
        {
          "output_type": "display_data",
          "data": {
            "image/png": "[encoded data removed]",
            "text/plain": [
              "<Figure size 432x288 with 1 Axes>"
            ]
          },
          "metadata": {
            "needs_background": "light"
          }
        }
      ]
    },
    {
      "cell_type": "markdown",
      "metadata": {
        "id": "9eXBAt_YZufQ"
      },
      "source": [
        "### Pre-trained Model"
      ]
    },
    {
      "cell_type": "code",
      "metadata": {
        "colab": {
          "base_uri": "https://localhost:8080/",
          "height": 656,
          "referenced_widgets": [
            "2ba203faa7934f5a899827428d7e68f6",
            "851e31b989c5478dbe186c5502788d07",
            "21defeb157b249cd82f82701e0b9e9f4",
            "4c090037f6aa4187a61a27d3da265107",
            "a3343af0c12449c3a82666b5ff4fb379",
            "ecbcb9553e814980bcdaeea67642519e",
            "14cc388c406f4b2eb047577fe8790724",
            "e144b55f4351484fae849a3434021f07"
          ]
        },
        "id": "Rd230UjKZ1z2",
        "outputId": "1d403d68-c68a-4c88-a52e-7d0c64d12b01"
      },
      "source": [
        "# 1. Start a new run\n",
        "wandb.init(project='vascular_segmentation')\n",
        "\n",
        "# 2. Save model inputs and hyperparameters\n",
        "config = wandb.config\n",
        "# config.learning_rate = 0.01\n",
        "\n",
        "with tpu_strategy.scope():\n",
        "\n",
        "  model = unet_model(OUTPUT_CHANNELS)\n",
        "\n",
        "  model.compile(optimizer=AdamW(weight_decay=1e-6),\n",
        "                loss=loss,\n",
        "                metrics=metrics)\n",
        "\n",
        "  EPOCHS = 50\n",
        "\n",
        "  history = model.fit(train_ds, epochs=EPOCHS, steps_per_epoch=5,\n",
        "                            validation_data=val_ds, validation_steps=10, callbacks = [tf.keras.callbacks.LearningRateScheduler(lr_cycler, verbose=1), WandbCallback(), early_stopping])"
      ],
      "execution_count": null,
      "outputs": [
        {
          "output_type": "display_data",
          "data": {
            "text/html": [
              "Finishing last run (ID:2saprckg) before initializing another..."
            ],
            "text/plain": [
              "<IPython.core.display.HTML object>"
            ]
          },
          "metadata": {
            "tags": []
          }
        },
        {
          "output_type": "display_data",
          "data": {
            "text/html": [
              "<br/>Waiting for W&B process to finish, PID 859<br/>Program ended successfully."
            ],
            "text/plain": [
              "<IPython.core.display.HTML object>"
            ]
          },
          "metadata": {
            "tags": []
          }
        },
        {
          "output_type": "display_data",
          "data": {
            "application/vnd.jupyter.widget-view+json": {
              "model_id": "2ba203faa7934f5a899827428d7e68f6",
              "version_minor": 0,
              "version_major": 2
            },
            "text/plain": [
              "VBox(children=(Label(value=' 0.00MB of 0.00MB uploaded (0.00MB deduped)\\r'), FloatProgress(value=1.0, max=1.0)…"
            ]
          },
          "metadata": {
            "tags": []
          }
        },
        {
          "output_type": "display_data",
          "data": {
            "text/html": [
              "Find user logs for this run at: <code>/content/wandb/run-20210708_140046-2saprckg/logs/debug.log</code>"
            ],
            "text/plain": [
              "<IPython.core.display.HTML object>"
            ]
          },
          "metadata": {
            "tags": []
          }
        },
        {
          "output_type": "display_data",
          "data": {
            "text/html": [
              "Find internal logs for this run at: <code>/content/wandb/run-20210708_140046-2saprckg/logs/debug-internal.log</code>"
            ],
            "text/plain": [
              "<IPython.core.display.HTML object>"
            ]
          },
          "metadata": {
            "tags": []
          }
        },
        {
          "output_type": "display_data",
          "data": {
            "text/html": [
              "Synced 5 W&B file(s), 0 media file(s), 0 artifact file(s) and 0 other file(s)"
            ],
            "text/plain": [
              "<IPython.core.display.HTML object>"
            ]
          },
          "metadata": {
            "tags": []
          }
        },
        {
          "output_type": "display_data",
          "data": {
            "text/html": [
              "\n",
              "                    <br/>Synced <strong style=\"color:#cdcd00\">devoted-terrain-88</strong>: <a href=\"https://wandb.ai/alp/vascular_segmentation/runs/2saprckg\" target=\"_blank\">https://wandb.ai/alp/vascular_segmentation/runs/2saprckg</a><br/>\n",
              "                "
            ],
            "text/plain": [
              "<IPython.core.display.HTML object>"
            ]
          },
          "metadata": {
            "tags": []
          }
        },
        {
          "output_type": "display_data",
          "data": {
            "text/html": [
              "...Successfully finished last run (ID:2saprckg). Initializing new run:<br/><br/>"
            ],
            "text/plain": [
              "<IPython.core.display.HTML object>"
            ]
          },
          "metadata": {
            "tags": []
          }
        },
        {
          "output_type": "display_data",
          "data": {
            "text/html": [
              "\n",
              "                Tracking run with wandb version 0.10.33<br/>\n",
              "                Syncing run <strong style=\"color:#cdcd00\">ethereal-gorge-89</strong> to <a href=\"https://wandb.ai\" target=\"_blank\">Weights & Biases</a> <a href=\"https://docs.wandb.com/integrations/jupyter.html\" target=\"_blank\">(Documentation)</a>.<br/>\n",
              "                Project page: <a href=\"https://wandb.ai/alp/vascular_segmentation\" target=\"_blank\">https://wandb.ai/alp/vascular_segmentation</a><br/>\n",
              "                Run page: <a href=\"https://wandb.ai/alp/vascular_segmentation/runs/1g60d11h\" target=\"_blank\">https://wandb.ai/alp/vascular_segmentation/runs/1g60d11h</a><br/>\n",
              "                Run data is saved locally in <code>/content/wandb/run-20210708_140313-1g60d11h</code><br/><br/>\n",
              "            "
            ],
            "text/plain": [
              "<IPython.core.display.HTML object>"
            ]
          },
          "metadata": {
            "tags": []
          }
        },
        {
          "output_type": "error",
          "ename": "ValueError",
          "evalue": "ignored",
          "traceback": [
            "\u001b[0;31m---------------------------------------------------------------------------\u001b[0m",
            "\u001b[0;31mValueError\u001b[0m                                Traceback (most recent call last)",
            "\u001b[0;32m<ipython-input-36-edff5856bda4>\u001b[0m in \u001b[0;36m<module>\u001b[0;34m()\u001b[0m\n\u001b[1;32m      8\u001b[0m \u001b[0;32mwith\u001b[0m \u001b[0mtpu_strategy\u001b[0m\u001b[0;34m.\u001b[0m\u001b[0mscope\u001b[0m\u001b[0;34m(\u001b[0m\u001b[0;34m)\u001b[0m\u001b[0;34m:\u001b[0m\u001b[0;34m\u001b[0m\u001b[0;34m\u001b[0m\u001b[0m\n\u001b[1;32m      9\u001b[0m \u001b[0;34m\u001b[0m\u001b[0m\n\u001b[0;32m---> 10\u001b[0;31m   \u001b[0mmodel\u001b[0m \u001b[0;34m=\u001b[0m \u001b[0munet_model\u001b[0m\u001b[0;34m(\u001b[0m\u001b[0mOUTPUT_CHANNELS\u001b[0m\u001b[0;34m)\u001b[0m\u001b[0;34m\u001b[0m\u001b[0;34m\u001b[0m\u001b[0m\n\u001b[0m\u001b[1;32m     11\u001b[0m \u001b[0;34m\u001b[0m\u001b[0m\n\u001b[1;32m     12\u001b[0m   model.compile(optimizer=AdamW(weight_decay=1e-6),\n",
            "\u001b[0;32m<ipython-input-35-498dc598fd9d>\u001b[0m in \u001b[0;36munet_model\u001b[0;34m(output_channels)\u001b[0m\n\u001b[1;32m     31\u001b[0m     \u001b[0mx\u001b[0m \u001b[0;34m=\u001b[0m \u001b[0mnormalise_output\u001b[0m\u001b[0;34m(\u001b[0m\u001b[0mx\u001b[0m\u001b[0;34m)\u001b[0m\u001b[0;34m\u001b[0m\u001b[0;34m\u001b[0m\u001b[0m\n\u001b[1;32m     32\u001b[0m \u001b[0;34m\u001b[0m\u001b[0m\n\u001b[0;32m---> 33\u001b[0;31m     \u001b[0mflatten\u001b[0m \u001b[0;34m=\u001b[0m \u001b[0mFlatten\u001b[0m\u001b[0;34m(\u001b[0m\u001b[0;34m)\u001b[0m\u001b[0;34m(\u001b[0m\u001b[0mx\u001b[0m\u001b[0;34m)\u001b[0m\u001b[0;34m\u001b[0m\u001b[0;34m\u001b[0m\u001b[0m\n\u001b[0m\u001b[1;32m     34\u001b[0m     \u001b[0mdense1\u001b[0m \u001b[0;34m=\u001b[0m \u001b[0mDense\u001b[0m\u001b[0;34m(\u001b[0m\u001b[0munits\u001b[0m\u001b[0;34m=\u001b[0m\u001b[0;36m1\u001b[0m\u001b[0;34m,\u001b[0m \u001b[0mactivation\u001b[0m\u001b[0;34m=\u001b[0m\u001b[0;34m'sigmoid'\u001b[0m\u001b[0;34m)\u001b[0m\u001b[0;34m(\u001b[0m\u001b[0mflatten\u001b[0m\u001b[0;34m)\u001b[0m\u001b[0;34m\u001b[0m\u001b[0;34m\u001b[0m\u001b[0m\n\u001b[1;32m     35\u001b[0m \u001b[0;34m\u001b[0m\u001b[0m\n",
            "\u001b[0;32m/usr/local/lib/python3.7/dist-packages/keras/engine/base_layer.py\u001b[0m in \u001b[0;36m__call__\u001b[0;34m(self, *args, **kwargs)\u001b[0m\n\u001b[1;32m   1004\u001b[0m         with autocast_variable.enable_auto_cast_variables(\n\u001b[1;32m   1005\u001b[0m             self._compute_dtype_object):\n\u001b[0;32m-> 1006\u001b[0;31m           \u001b[0moutputs\u001b[0m \u001b[0;34m=\u001b[0m \u001b[0mcall_fn\u001b[0m\u001b[0;34m(\u001b[0m\u001b[0minputs\u001b[0m\u001b[0;34m,\u001b[0m \u001b[0;34m*\u001b[0m\u001b[0margs\u001b[0m\u001b[0;34m,\u001b[0m \u001b[0;34m**\u001b[0m\u001b[0mkwargs\u001b[0m\u001b[0;34m)\u001b[0m\u001b[0;34m\u001b[0m\u001b[0;34m\u001b[0m\u001b[0m\n\u001b[0m\u001b[1;32m   1007\u001b[0m \u001b[0;34m\u001b[0m\u001b[0m\n\u001b[1;32m   1008\u001b[0m         \u001b[0;32mif\u001b[0m \u001b[0mself\u001b[0m\u001b[0;34m.\u001b[0m\u001b[0m_activity_regularizer\u001b[0m\u001b[0;34m:\u001b[0m\u001b[0;34m\u001b[0m\u001b[0;34m\u001b[0m\u001b[0m\n",
            "\u001b[0;32m/usr/local/lib/python3.7/dist-packages/keras/layers/core.py\u001b[0m in \u001b[0;36mcall\u001b[0;34m(self, inputs)\u001b[0m\n\u001b[1;32m    652\u001b[0m       \u001b[0;31m# Full static shape is guaranteed to be available.\u001b[0m\u001b[0;34m\u001b[0m\u001b[0;34m\u001b[0m\u001b[0;34m\u001b[0m\u001b[0m\n\u001b[1;32m    653\u001b[0m       \u001b[0;31m# Performance: Using `constant_op` is much faster than passing a list.\u001b[0m\u001b[0;34m\u001b[0m\u001b[0;34m\u001b[0m\u001b[0;34m\u001b[0m\u001b[0m\n\u001b[0;32m--> 654\u001b[0;31m       \u001b[0mflattened_shape\u001b[0m \u001b[0;34m=\u001b[0m \u001b[0mtf\u001b[0m\u001b[0;34m.\u001b[0m\u001b[0mconstant\u001b[0m\u001b[0;34m(\u001b[0m\u001b[0;34m[\u001b[0m\u001b[0minputs\u001b[0m\u001b[0;34m.\u001b[0m\u001b[0mshape\u001b[0m\u001b[0;34m[\u001b[0m\u001b[0;36m0\u001b[0m\u001b[0;34m]\u001b[0m\u001b[0;34m,\u001b[0m \u001b[0;34m-\u001b[0m\u001b[0;36m1\u001b[0m\u001b[0;34m]\u001b[0m\u001b[0;34m)\u001b[0m\u001b[0;34m\u001b[0m\u001b[0;34m\u001b[0m\u001b[0m\n\u001b[0m\u001b[1;32m    655\u001b[0m       \u001b[0;32mreturn\u001b[0m \u001b[0mtf\u001b[0m\u001b[0;34m.\u001b[0m\u001b[0mreshape\u001b[0m\u001b[0;34m(\u001b[0m\u001b[0minputs\u001b[0m\u001b[0;34m,\u001b[0m \u001b[0mflattened_shape\u001b[0m\u001b[0;34m)\u001b[0m\u001b[0;34m\u001b[0m\u001b[0;34m\u001b[0m\u001b[0m\n\u001b[1;32m    656\u001b[0m     \u001b[0;32melse\u001b[0m\u001b[0;34m:\u001b[0m\u001b[0;34m\u001b[0m\u001b[0;34m\u001b[0m\u001b[0m\n",
            "\u001b[0;32m/usr/local/lib/python3.7/dist-packages/tensorflow/python/framework/constant_op.py\u001b[0m in \u001b[0;36mconstant\u001b[0;34m(value, dtype, shape, name)\u001b[0m\n\u001b[1;32m    263\u001b[0m   \"\"\"\n\u001b[1;32m    264\u001b[0m   return _constant_impl(value, dtype, shape, name, verify_shape=False,\n\u001b[0;32m--> 265\u001b[0;31m                         allow_broadcast=True)\n\u001b[0m\u001b[1;32m    266\u001b[0m \u001b[0;34m\u001b[0m\u001b[0m\n\u001b[1;32m    267\u001b[0m \u001b[0;34m\u001b[0m\u001b[0m\n",
            "\u001b[0;32m/usr/local/lib/python3.7/dist-packages/tensorflow/python/framework/constant_op.py\u001b[0m in \u001b[0;36m_constant_impl\u001b[0;34m(value, dtype, shape, name, verify_shape, allow_broadcast)\u001b[0m\n\u001b[1;32m    274\u001b[0m       \u001b[0;32mwith\u001b[0m \u001b[0mtrace\u001b[0m\u001b[0;34m.\u001b[0m\u001b[0mTrace\u001b[0m\u001b[0;34m(\u001b[0m\u001b[0;34m\"tf.constant\"\u001b[0m\u001b[0;34m)\u001b[0m\u001b[0;34m:\u001b[0m\u001b[0;34m\u001b[0m\u001b[0;34m\u001b[0m\u001b[0m\n\u001b[1;32m    275\u001b[0m         \u001b[0;32mreturn\u001b[0m \u001b[0m_constant_eager_impl\u001b[0m\u001b[0;34m(\u001b[0m\u001b[0mctx\u001b[0m\u001b[0;34m,\u001b[0m \u001b[0mvalue\u001b[0m\u001b[0;34m,\u001b[0m \u001b[0mdtype\u001b[0m\u001b[0;34m,\u001b[0m \u001b[0mshape\u001b[0m\u001b[0;34m,\u001b[0m \u001b[0mverify_shape\u001b[0m\u001b[0;34m)\u001b[0m\u001b[0;34m\u001b[0m\u001b[0;34m\u001b[0m\u001b[0m\n\u001b[0;32m--> 276\u001b[0;31m     \u001b[0;32mreturn\u001b[0m \u001b[0m_constant_eager_impl\u001b[0m\u001b[0;34m(\u001b[0m\u001b[0mctx\u001b[0m\u001b[0;34m,\u001b[0m \u001b[0mvalue\u001b[0m\u001b[0;34m,\u001b[0m \u001b[0mdtype\u001b[0m\u001b[0;34m,\u001b[0m \u001b[0mshape\u001b[0m\u001b[0;34m,\u001b[0m \u001b[0mverify_shape\u001b[0m\u001b[0;34m)\u001b[0m\u001b[0;34m\u001b[0m\u001b[0;34m\u001b[0m\u001b[0m\n\u001b[0m\u001b[1;32m    277\u001b[0m \u001b[0;34m\u001b[0m\u001b[0m\n\u001b[1;32m    278\u001b[0m   \u001b[0mg\u001b[0m \u001b[0;34m=\u001b[0m \u001b[0mops\u001b[0m\u001b[0;34m.\u001b[0m\u001b[0mget_default_graph\u001b[0m\u001b[0;34m(\u001b[0m\u001b[0;34m)\u001b[0m\u001b[0;34m\u001b[0m\u001b[0;34m\u001b[0m\u001b[0m\n",
            "\u001b[0;32m/usr/local/lib/python3.7/dist-packages/tensorflow/python/framework/constant_op.py\u001b[0m in \u001b[0;36m_constant_eager_impl\u001b[0;34m(ctx, value, dtype, shape, verify_shape)\u001b[0m\n\u001b[1;32m    299\u001b[0m \u001b[0;32mdef\u001b[0m \u001b[0m_constant_eager_impl\u001b[0m\u001b[0;34m(\u001b[0m\u001b[0mctx\u001b[0m\u001b[0;34m,\u001b[0m \u001b[0mvalue\u001b[0m\u001b[0;34m,\u001b[0m \u001b[0mdtype\u001b[0m\u001b[0;34m,\u001b[0m \u001b[0mshape\u001b[0m\u001b[0;34m,\u001b[0m \u001b[0mverify_shape\u001b[0m\u001b[0;34m)\u001b[0m\u001b[0;34m:\u001b[0m\u001b[0;34m\u001b[0m\u001b[0;34m\u001b[0m\u001b[0m\n\u001b[1;32m    300\u001b[0m   \u001b[0;34m\"\"\"Implementation of eager constant.\"\"\"\u001b[0m\u001b[0;34m\u001b[0m\u001b[0;34m\u001b[0m\u001b[0m\n\u001b[0;32m--> 301\u001b[0;31m   \u001b[0mt\u001b[0m \u001b[0;34m=\u001b[0m \u001b[0mconvert_to_eager_tensor\u001b[0m\u001b[0;34m(\u001b[0m\u001b[0mvalue\u001b[0m\u001b[0;34m,\u001b[0m \u001b[0mctx\u001b[0m\u001b[0;34m,\u001b[0m \u001b[0mdtype\u001b[0m\u001b[0;34m)\u001b[0m\u001b[0;34m\u001b[0m\u001b[0;34m\u001b[0m\u001b[0m\n\u001b[0m\u001b[1;32m    302\u001b[0m   \u001b[0;32mif\u001b[0m \u001b[0mshape\u001b[0m \u001b[0;32mis\u001b[0m \u001b[0;32mNone\u001b[0m\u001b[0;34m:\u001b[0m\u001b[0;34m\u001b[0m\u001b[0;34m\u001b[0m\u001b[0m\n\u001b[1;32m    303\u001b[0m     \u001b[0;32mreturn\u001b[0m \u001b[0mt\u001b[0m\u001b[0;34m\u001b[0m\u001b[0;34m\u001b[0m\u001b[0m\n",
            "\u001b[0;32m/usr/local/lib/python3.7/dist-packages/tensorflow/python/framework/constant_op.py\u001b[0m in \u001b[0;36mconvert_to_eager_tensor\u001b[0;34m(value, ctx, dtype)\u001b[0m\n\u001b[1;32m     96\u001b[0m       \u001b[0mdtype\u001b[0m \u001b[0;34m=\u001b[0m \u001b[0mdtypes\u001b[0m\u001b[0;34m.\u001b[0m\u001b[0mas_dtype\u001b[0m\u001b[0;34m(\u001b[0m\u001b[0mdtype\u001b[0m\u001b[0;34m)\u001b[0m\u001b[0;34m.\u001b[0m\u001b[0mas_datatype_enum\u001b[0m\u001b[0;34m\u001b[0m\u001b[0;34m\u001b[0m\u001b[0m\n\u001b[1;32m     97\u001b[0m   \u001b[0mctx\u001b[0m\u001b[0;34m.\u001b[0m\u001b[0mensure_initialized\u001b[0m\u001b[0;34m(\u001b[0m\u001b[0;34m)\u001b[0m\u001b[0;34m\u001b[0m\u001b[0;34m\u001b[0m\u001b[0m\n\u001b[0;32m---> 98\u001b[0;31m   \u001b[0;32mreturn\u001b[0m \u001b[0mops\u001b[0m\u001b[0;34m.\u001b[0m\u001b[0mEagerTensor\u001b[0m\u001b[0;34m(\u001b[0m\u001b[0mvalue\u001b[0m\u001b[0;34m,\u001b[0m \u001b[0mctx\u001b[0m\u001b[0;34m.\u001b[0m\u001b[0mdevice_name\u001b[0m\u001b[0;34m,\u001b[0m \u001b[0mdtype\u001b[0m\u001b[0;34m)\u001b[0m\u001b[0;34m\u001b[0m\u001b[0;34m\u001b[0m\u001b[0m\n\u001b[0m\u001b[1;32m     99\u001b[0m \u001b[0;34m\u001b[0m\u001b[0m\n\u001b[1;32m    100\u001b[0m \u001b[0;34m\u001b[0m\u001b[0m\n",
            "\u001b[0;31mValueError\u001b[0m: Attempt to convert a value (None) with an unsupported type (<class 'NoneType'>) to a Tensor."
          ]
        }
      ]
    },
    {
      "cell_type": "markdown",
      "metadata": {
        "id": "5q__z9rKINjG"
      },
      "source": [
        "# Testing"
      ]
    },
    {
      "cell_type": "markdown",
      "metadata": {
        "id": "1nQrkkp4ISVK"
      },
      "source": [
        "### Load test data in TFRecords format"
      ]
    },
    {
      "cell_type": "code",
      "metadata": {
        "colab": {
          "base_uri": "https://localhost:8080/"
        },
        "id": "31mWTlKbIPBS",
        "outputId": "16426ac2-e138-4707-d68b-95af12ab6e3c"
      },
      "source": [
        "print('Loading and preprocessing test data (empty masks)...')\n",
        "\n",
        "test_empty_gcs_pattern = \"gs://tfrecords_patches_binary/test_empty*\"\n",
        "test_empty_filenames = tf.io.gfile.glob(test_empty_gcs_pattern)\n",
        "test_empty_ds = tf.data.TFRecordDataset(test_empty_filenames)\n",
        "\n",
        "test_empty_ds = test_empty_ds.map(_parse_image_function)\n",
        "test_empty_ds = test_empty_ds.map(_unpack_proto)"
      ],
      "execution_count": null,
      "outputs": [
        {
          "output_type": "stream",
          "text": [
            "Loading and preprocessing test data (empty masks)...\n"
          ],
          "name": "stdout"
        }
      ]
    },
    {
      "cell_type": "code",
      "metadata": {
        "colab": {
          "base_uri": "https://localhost:8080/"
        },
        "id": "mWJtY0ZZIX5M",
        "outputId": "13627704-200e-4c0e-cf96-8e0f093891b6"
      },
      "source": [
        "print('Loading and preprocessing test data (non-empty masks)...')\n",
        "\n",
        "test_non_empty_gcs_pattern = \"gs://tfrecords_patches_binary/test_non_empty*\"\n",
        "test_non_empty_filenames = tf.io.gfile.glob(test_non_empty_gcs_pattern)\n",
        "test_non_empty_ds = tf.data.TFRecordDataset(test_non_empty_filenames)\n",
        "\n",
        "test_non_empty_ds = test_non_empty_ds.map(_parse_image_function)\n",
        "test_non_empty_ds = test_non_empty_ds.map(_unpack_proto)\n"
      ],
      "execution_count": null,
      "outputs": [
        {
          "output_type": "stream",
          "text": [
            "Loading and preprocessing test data (non-empty masks)...\n"
          ],
          "name": "stdout"
        }
      ]
    },
    {
      "cell_type": "code",
      "metadata": {
        "colab": {
          "base_uri": "https://localhost:8080/"
        },
        "id": "jFkPdNq4IboP",
        "outputId": "834f936e-6883-4e8c-e99b-2b4e41fe0af2"
      },
      "source": [
        "test_datasets = [test_non_empty_ds.repeat(), test_empty_ds.repeat()]\n",
        "test_ds = tf.data.experimental.sample_from_datasets(test_datasets, [0.5,0.5])\n",
        "\n",
        "test_ds = prepare_data(test_ds)\n",
        "test_ds"
      ],
      "execution_count": null,
      "outputs": [
        {
          "output_type": "execute_result",
          "data": {
            "text/plain": [
              "<PrefetchDataset shapes: ((None, 128, 128, 1), (None, 1)), types: (tf.float32, tf.int64)>"
            ]
          },
          "metadata": {},
          "execution_count": 31
        }
      ]
    },
    {
      "cell_type": "code",
      "metadata": {
        "id": "ffP7sozLIewo"
      },
      "source": [
        "test_pairs = list(test_ds.take(1))\n",
        "test_images = [pair[0] for pair in test_pairs]\n",
        "test_images_to_display = np.concatenate(test_images)\n",
        "\n",
        "test_masks = [pair[1] for pair in test_pairs]\n",
        "test_masks = np.concatenate(test_masks)"
      ],
      "execution_count": null,
      "outputs": []
    },
    {
      "cell_type": "code",
      "metadata": {
        "colab": {
          "base_uri": "https://localhost:8080/"
        },
        "id": "AonzZCPs9eMy",
        "outputId": "6cc38bbf-2743-48dc-b5a4-c5e795a27c12"
      },
      "source": [
        "len(test_images_to_display)"
      ],
      "execution_count": null,
      "outputs": [
        {
          "output_type": "execute_result",
          "data": {
            "text/plain": [
              "64"
            ]
          },
          "metadata": {},
          "execution_count": 33
        }
      ]
    },
    {
      "cell_type": "markdown",
      "metadata": {
        "id": "VNSD3GwNIk9r"
      },
      "source": [
        "### Display test images with true and predicted masks"
      ]
    },
    {
      "cell_type": "code",
      "metadata": {
        "colab": {
          "base_uri": "https://localhost:8080/"
        },
        "id": "7Gwts_9xIiBB",
        "outputId": "b2ce4709-9179-402c-d7da-9d4c636bdf3b"
      },
      "source": [
        "print('Predicting masks on test data...')\n",
        "\n",
        "test_preds = [model.predict(img) for img in test_images]\n",
        "test_preds = np.concatenate(test_preds)"
      ],
      "execution_count": null,
      "outputs": [
        {
          "output_type": "stream",
          "text": [
            "Predicting masks on test data...\n"
          ],
          "name": "stdout"
        }
      ]
    },
    {
      "cell_type": "code",
      "metadata": {
        "colab": {
          "base_uri": "https://localhost:8080/",
          "height": 341
        },
        "id": "Z_iDRjgbzGCt",
        "outputId": "a9af4ac1-5a6d-468e-91b7-0aececaa1313"
      },
      "source": [
        "plt.figure(figsize=(22, 4)) \n",
        "\n",
        "plt.subplot(1,3,1)\n",
        "plt.hist(test_preds)\n",
        "plt.xlim([0,1])\n",
        "plt.ylim([0,50])\n",
        "plt.xlabel('Predicted Label', size=16)\n",
        "plt.ylabel('Number of Predictions', size=16)\n",
        "plt.xticks(size=14)\n",
        "plt.yticks(size=14)\n",
        "plt.title('Distribution of predictions', size=16)\n",
        "\n",
        "plt.subplot(1,3,2)\n",
        "test_preds_binary = np.where(test_preds < 0.5,0, 1)\n",
        "plt.hist(test_preds_binary)\n",
        "plt.xlim([0,1])\n",
        "plt.ylim([0,50])\n",
        "plt.xlabel('Predicted Label', size=16)\n",
        "plt.ylabel('Number of Predictions', size=16)\n",
        "plt.xticks(size=14)\n",
        "plt.yticks(size=14)\n",
        "plt.title('Distribution of predictions \\n (after applying thresholding)', size=16)\n",
        "\n",
        "plt.subplot(1,3,3)\n",
        "plt.hist(test_masks)\n",
        "plt.xlim([0,1])\n",
        "plt.ylim([0,50])\n",
        "plt.xlabel('Predicted Label', size=16)\n",
        "plt.ylabel('Number of Predictions', size=16)\n",
        "plt.xticks(size=14)\n",
        "plt.yticks(size=14)\n",
        "plt.title('Distribution of true labels', size=16)"
      ],
      "execution_count": null,
      "outputs": [
        {
          "output_type": "execute_result",
          "data": {
            "text/plain": [
              "Text(0.5, 1.0, 'Distribution of true labels')"
            ]
          },
          "metadata": {},
          "execution_count": 60
        },
        {
          "output_type": "display_data",
          "data": {
            "image/png": "[encoded data removed]",
            "text/plain": [
              "<Figure size 1584x288 with 3 Axes>"
            ]
          },
          "metadata": {
            "needs_background": "light"
          }
        }
      ]
    },
    {
      "cell_type": "code",
      "metadata": {
        "id": "_H2y_FtiIlZN"
      },
      "source": [
        "def compare_img_mask(images, masks, preds, img_num):\n",
        "\n",
        "  \"\"\"\n",
        "  Display original image with mask, true mask and predicted mask for a specified image number\n",
        "  \n",
        "  Args:\n",
        "  train_, test_ or valid_ + images/masks/preds\n",
        "  \"\"\"\n",
        "  \n",
        "  plt.imshow(images[img_num].reshape((128,128)))\n",
        "\n",
        "  print('True label: {}'.format(test_masks[img_num]))\n",
        "  print('Predicted label: {}'.format(test_preds[img_num]))"
      ],
      "execution_count": null,
      "outputs": []
    },
    {
      "cell_type": "code",
      "metadata": {
        "colab": {
          "base_uri": "https://localhost:8080/",
          "height": 302
        },
        "id": "wi8IJKB9Io5c",
        "outputId": "f5a7680c-6966-4321-9e58-8637420cb6b5"
      },
      "source": [
        "compare_img_mask(test_images_to_display, test_masks, test_preds, 30)"
      ],
      "execution_count": null,
      "outputs": [
        {
          "output_type": "stream",
          "text": [
            "True label: [1]\n",
            "Predicted label: [0.00146729]\n"
          ],
          "name": "stdout"
        },
        {
          "output_type": "display_data",
          "data": {
            "image/png": "[encoded data removed]",
            "text/plain": [
              "<Figure size 432x288 with 1 Axes>"
            ]
          },
          "metadata": {
            "needs_background": "light"
          }
        }
      ]
    },
    {
      "cell_type": "code",
      "metadata": {
        "colab": {
          "base_uri": "https://localhost:8080/",
          "height": 302
        },
        "id": "cuyIAGGPftgk",
        "outputId": "b346ef0e-743d-4c52-bdea-91a4bc910f55"
      },
      "source": [
        "compare_img_mask(test_images_to_display, test_masks, test_preds, 40)"
      ],
      "execution_count": null,
      "outputs": [
        {
          "output_type": "stream",
          "text": [
            "True label: [1]\n",
            "Predicted label: [0.02509215]\n"
          ],
          "name": "stdout"
        },
        {
          "output_type": "display_data",
          "data": {
            "image/png": "[encoded data removed]",
            "text/plain": [
              "<Figure size 432x288 with 1 Axes>"
            ]
          },
          "metadata": {
            "needs_background": "light"
          }
        }
      ]
    },
    {
      "cell_type": "markdown",
      "metadata": {
        "id": "hnGCNCUZwlt-"
      },
      "source": [
        "### Define Confusion Matrix"
      ]
    },
    {
      "cell_type": "code",
      "metadata": {
        "id": "ACpn0hS1wJw_"
      },
      "source": [
        "target_names = ['No aneurysm', 'Aneurysm']\n",
        "\n",
        "def plot_confusion_matrix(y_true, y_pred, classes,\n",
        "                          normalize=False,\n",
        "                          title=None,\n",
        "                          cmap=plt.cm.Blues):\n",
        "    \"\"\"\n",
        "    This function prints and plots the confusion matrix.\n",
        "    Normalization can be applied by setting `normalize=True`.\n",
        "    \"\"\"\n",
        "    if not title:\n",
        "        if normalize:\n",
        "            title = 'Normalized confusion matrix'\n",
        "        else:\n",
        "            title = 'Confusion matrix, without normalization'\n",
        "\n",
        "    # Compute confusion matrix\n",
        "    cm = confusion_matrix(y_true, y_pred)\n",
        "    # Only use the labels that appear in the data\n",
        "\n",
        "    if normalize:\n",
        "        cm = cm.astype('float') / cm.sum(axis=1)[:, np.newaxis]\n",
        "        print(\"Normalized confusion matrix\")\n",
        "    else:\n",
        "        print('Confusion matrix, without normalization')\n",
        "\n",
        "    print(cm)\n",
        "\n",
        "    fig, ax = plt.subplots()\n",
        "    im = ax.imshow(cm, interpolation='nearest', cmap=cmap)\n",
        "    ax.figure.colorbar(im, ax=ax)\n",
        "    # We want to show all ticks...\n",
        "    ax.set(xticks=np.arange(cm.shape[1]),\n",
        "           yticks=np.arange(cm.shape[0]),\n",
        "           # ... and label them with the respective list entries\n",
        "           xticklabels=classes, yticklabels=classes,\n",
        "           title=title,\n",
        "           ylabel='TRUE LABEL \\n',\n",
        "           xlabel='\\n PREDICTED LABEL')\n",
        "\n",
        "    # Rotate the tick labels and set their alignment.\n",
        "    plt.setp(ax.get_xticklabels(), ha=\"center\",\n",
        "             rotation_mode=\"anchor\")\n",
        "\n",
        "    # Loop over data dimensions and create text annotations.\n",
        "    fmt = '.2f' if normalize else 'd'\n",
        "    thresh = cm.max() / 2.\n",
        "    for i in range(cm.shape[0]):\n",
        "        for j in range(cm.shape[1]):\n",
        "            ax.text(j, i, format(cm[i, j], fmt),\n",
        "                    ha=\"center\", va=\"center\",\n",
        "                    color=\"white\" if cm[i, j] > thresh else \"black\")\n",
        "    fig.tight_layout()\n",
        "    return ax\n",
        "\n",
        "np.set_printoptions(precision=2)"
      ],
      "execution_count": null,
      "outputs": []
    },
    {
      "cell_type": "markdown",
      "metadata": {
        "id": "xhjcb96Zw3c6"
      },
      "source": [
        "### Plot Confusion Matrix"
      ]
    },
    {
      "cell_type": "code",
      "metadata": {
        "colab": {
          "base_uri": "https://localhost:8080/",
          "height": 348
        },
        "id": "EFMiHfXhwNdl",
        "outputId": "5c4e5b93-5901-49bd-fc3b-d1230847fffd"
      },
      "source": [
        "# Plot non-normalized confusion matrix\n",
        "plot_confusion_matrix(test_masks, test_preds_binary, classes=target_names,\n",
        "                      title='Confusion matrix')\n",
        "\n",
        "plt.show()"
      ],
      "execution_count": null,
      "outputs": [
        {
          "output_type": "stream",
          "text": [
            "Confusion matrix, without normalization\n",
            "[[11 19]\n",
            " [11 23]]\n"
          ],
          "name": "stdout"
        },
        {
          "output_type": "display_data",
          "data": {
            "image/png": "[encoded data removed]",
            "text/plain": [
              "<Figure size 432x288 with 2 Axes>"
            ]
          },
          "metadata": {
            "needs_background": "light"
          }
        }
      ]
    },
    {
      "cell_type": "code",
      "metadata": {
        "colab": {
          "base_uri": "https://localhost:8080/"
        },
        "id": "GcvgsOS_Ql-O",
        "outputId": "06b92ddd-0c6e-4387-e5b2-ded153042452"
      },
      "source": [
        "from sklearn.metrics import f1_score\n",
        "\n",
        "f1_score(test_masks, test_preds_binary)"
      ],
      "execution_count": null,
      "outputs": [
        {
          "output_type": "execute_result",
          "data": {
            "text/plain": [
              "0.605263157894737"
            ]
          },
          "metadata": {},
          "execution_count": 49
        }
      ]
    }
  ]
}