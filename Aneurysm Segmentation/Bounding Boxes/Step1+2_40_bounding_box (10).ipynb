{
  "nbformat": 4,
  "nbformat_minor": 0,
  "metadata": {
    "colab": {
      "name": "Step1+2_40_bounding_box.ipynb",
      "provenance": [],
      "collapsed_sections": [
        "MmWRbp2KzMOV",
        "NH_WYjlVzRMf",
        "QybjGHsl0HbM",
        "vhd7Ul8kNmv-",
        "LChLaF6UNrjM",
        "APlhckegN-qn",
        "W0hOoO85MeTJ",
        "KqDj1_gSPUIM",
        "QMhzK8CGSgUD",
        "JCAkW9uEf8C2",
        "KvOv5zIigCmV",
        "bFIjNLCG-7c2",
        "5WlszNGTANPm"
      ]
    },
    "kernelspec": {
      "name": "python3",
      "display_name": "Python 3"
    },
    "language_info": {
      "name": "python"
    },
    "accelerator": "TPU"
  },
  "cells": [
    {
      "cell_type": "markdown",
      "metadata": {
        "id": "h1IRMk4x5-v3"
      },
      "source": [
        "The code in this notebook relates to section 4.5.3 of the thesis: combining (40-by-40=pixel bounding box) localisation and segmentation."
      ]
    },
    {
      "cell_type": "markdown",
      "metadata": {
        "id": "HX-vc2W4XNUQ"
      },
      "source": [
        "For a given image, the trained localisation model from step 1  is applied to predict the 40x40 pixel bounding box containing the aneurysm.\n",
        "\n",
        "The 40x40 bounding boxes are created from the predicted masks output by step 1 in an intermediate step.\n",
        "\n",
        "The trained step 2 segmentation model is applied to the 40x40 bounding boxes.\n",
        "\n",
        "\n"
      ]
    },
    {
      "cell_type": "markdown",
      "metadata": {
        "id": "MmWRbp2KzMOV"
      },
      "source": [
        "# Installations"
      ]
    },
    {
      "cell_type": "code",
      "metadata": {
        "id": "_eScPFYBwzc6",
        "colab": {
          "base_uri": "https://localhost:8080/"
        },
        "outputId": "7462f4a3-8273-421d-df41-af44e57f960a"
      },
      "source": [
        "pip -q install wandb"
      ],
      "execution_count": null,
      "outputs": [
        {
          "output_type": "stream",
          "text": [
            "\u001b[K     |████████████████████████████████| 1.7 MB 5.2 MB/s \n",
            "\u001b[K     |████████████████████████████████| 133 kB 41.1 MB/s \n",
            "\u001b[K     |████████████████████████████████| 97 kB 4.9 MB/s \n",
            "\u001b[K     |████████████████████████████████| 170 kB 46.9 MB/s \n",
            "\u001b[K     |████████████████████████████████| 63 kB 999 kB/s \n",
            "\u001b[?25h  Building wheel for subprocess32 (setup.py) ... \u001b[?25l\u001b[?25hdone\n",
            "  Building wheel for pathtools (setup.py) ... \u001b[?25l\u001b[?25hdone\n"
          ],
          "name": "stdout"
        }
      ]
    },
    {
      "cell_type": "code",
      "metadata": {
        "id": "5iUdQivdy-1E",
        "colab": {
          "base_uri": "https://localhost:8080/"
        },
        "outputId": "760c6563-b6a2-4ad3-d4dc-a287ad521192"
      },
      "source": [
        "pip -q install tensorflow_addons"
      ],
      "execution_count": null,
      "outputs": [
        {
          "output_type": "stream",
          "text": [
            "\u001b[?25l\r\u001b[K     |▎                               | 10 kB 14.3 MB/s eta 0:00:01\r\u001b[K     |▋                               | 20 kB 20.1 MB/s eta 0:00:01\r\u001b[K     |▉                               | 30 kB 12.9 MB/s eta 0:00:01\r\u001b[K     |█▏                              | 40 kB 9.8 MB/s eta 0:00:01\r\u001b[K     |█▌                              | 51 kB 5.4 MB/s eta 0:00:01\r\u001b[K     |█▊                              | 61 kB 5.9 MB/s eta 0:00:01\r\u001b[K     |██                              | 71 kB 5.6 MB/s eta 0:00:01\r\u001b[K     |██▍                             | 81 kB 6.3 MB/s eta 0:00:01\r\u001b[K     |██▋                             | 92 kB 4.8 MB/s eta 0:00:01\r\u001b[K     |███                             | 102 kB 5.2 MB/s eta 0:00:01\r\u001b[K     |███▎                            | 112 kB 5.2 MB/s eta 0:00:01\r\u001b[K     |███▌                            | 122 kB 5.2 MB/s eta 0:00:01\r\u001b[K     |███▉                            | 133 kB 5.2 MB/s eta 0:00:01\r\u001b[K     |████▏                           | 143 kB 5.2 MB/s eta 0:00:01\r\u001b[K     |████▍                           | 153 kB 5.2 MB/s eta 0:00:01\r\u001b[K     |████▊                           | 163 kB 5.2 MB/s eta 0:00:01\r\u001b[K     |█████                           | 174 kB 5.2 MB/s eta 0:00:01\r\u001b[K     |█████▎                          | 184 kB 5.2 MB/s eta 0:00:01\r\u001b[K     |█████▋                          | 194 kB 5.2 MB/s eta 0:00:01\r\u001b[K     |██████                          | 204 kB 5.2 MB/s eta 0:00:01\r\u001b[K     |██████▏                         | 215 kB 5.2 MB/s eta 0:00:01\r\u001b[K     |██████▌                         | 225 kB 5.2 MB/s eta 0:00:01\r\u001b[K     |██████▉                         | 235 kB 5.2 MB/s eta 0:00:01\r\u001b[K     |███████                         | 245 kB 5.2 MB/s eta 0:00:01\r\u001b[K     |███████▍                        | 256 kB 5.2 MB/s eta 0:00:01\r\u001b[K     |███████▊                        | 266 kB 5.2 MB/s eta 0:00:01\r\u001b[K     |████████                        | 276 kB 5.2 MB/s eta 0:00:01\r\u001b[K     |████████▎                       | 286 kB 5.2 MB/s eta 0:00:01\r\u001b[K     |████████▋                       | 296 kB 5.2 MB/s eta 0:00:01\r\u001b[K     |████████▉                       | 307 kB 5.2 MB/s eta 0:00:01\r\u001b[K     |█████████▏                      | 317 kB 5.2 MB/s eta 0:00:01\r\u001b[K     |█████████▌                      | 327 kB 5.2 MB/s eta 0:00:01\r\u001b[K     |█████████▊                      | 337 kB 5.2 MB/s eta 0:00:01\r\u001b[K     |██████████                      | 348 kB 5.2 MB/s eta 0:00:01\r\u001b[K     |██████████▍                     | 358 kB 5.2 MB/s eta 0:00:01\r\u001b[K     |██████████▋                     | 368 kB 5.2 MB/s eta 0:00:01\r\u001b[K     |███████████                     | 378 kB 5.2 MB/s eta 0:00:01\r\u001b[K     |███████████▎                    | 389 kB 5.2 MB/s eta 0:00:01\r\u001b[K     |███████████▌                    | 399 kB 5.2 MB/s eta 0:00:01\r\u001b[K     |███████████▉                    | 409 kB 5.2 MB/s eta 0:00:01\r\u001b[K     |████████████▏                   | 419 kB 5.2 MB/s eta 0:00:01\r\u001b[K     |████████████▍                   | 430 kB 5.2 MB/s eta 0:00:01\r\u001b[K     |████████████▊                   | 440 kB 5.2 MB/s eta 0:00:01\r\u001b[K     |█████████████                   | 450 kB 5.2 MB/s eta 0:00:01\r\u001b[K     |█████████████▎                  | 460 kB 5.2 MB/s eta 0:00:01\r\u001b[K     |█████████████▋                  | 471 kB 5.2 MB/s eta 0:00:01\r\u001b[K     |██████████████                  | 481 kB 5.2 MB/s eta 0:00:01\r\u001b[K     |██████████████▏                 | 491 kB 5.2 MB/s eta 0:00:01\r\u001b[K     |██████████████▌                 | 501 kB 5.2 MB/s eta 0:00:01\r\u001b[K     |██████████████▉                 | 512 kB 5.2 MB/s eta 0:00:01\r\u001b[K     |███████████████                 | 522 kB 5.2 MB/s eta 0:00:01\r\u001b[K     |███████████████▍                | 532 kB 5.2 MB/s eta 0:00:01\r\u001b[K     |███████████████▊                | 542 kB 5.2 MB/s eta 0:00:01\r\u001b[K     |████████████████                | 552 kB 5.2 MB/s eta 0:00:01\r\u001b[K     |████████████████▎               | 563 kB 5.2 MB/s eta 0:00:01\r\u001b[K     |████████████████▋               | 573 kB 5.2 MB/s eta 0:00:01\r\u001b[K     |████████████████▉               | 583 kB 5.2 MB/s eta 0:00:01\r\u001b[K     |█████████████████▏              | 593 kB 5.2 MB/s eta 0:00:01\r\u001b[K     |█████████████████▌              | 604 kB 5.2 MB/s eta 0:00:01\r\u001b[K     |█████████████████▊              | 614 kB 5.2 MB/s eta 0:00:01\r\u001b[K     |██████████████████              | 624 kB 5.2 MB/s eta 0:00:01\r\u001b[K     |██████████████████▍             | 634 kB 5.2 MB/s eta 0:00:01\r\u001b[K     |██████████████████▋             | 645 kB 5.2 MB/s eta 0:00:01\r\u001b[K     |███████████████████             | 655 kB 5.2 MB/s eta 0:00:01\r\u001b[K     |███████████████████▎            | 665 kB 5.2 MB/s eta 0:00:01\r\u001b[K     |███████████████████▌            | 675 kB 5.2 MB/s eta 0:00:01\r\u001b[K     |███████████████████▉            | 686 kB 5.2 MB/s eta 0:00:01\r\u001b[K     |████████████████████▏           | 696 kB 5.2 MB/s eta 0:00:01\r\u001b[K     |████████████████████▍           | 706 kB 5.2 MB/s eta 0:00:01\r\u001b[K     |████████████████████▊           | 716 kB 5.2 MB/s eta 0:00:01\r\u001b[K     |█████████████████████           | 727 kB 5.2 MB/s eta 0:00:01\r\u001b[K     |█████████████████████▎          | 737 kB 5.2 MB/s eta 0:00:01\r\u001b[K     |█████████████████████▋          | 747 kB 5.2 MB/s eta 0:00:01\r\u001b[K     |██████████████████████          | 757 kB 5.2 MB/s eta 0:00:01\r\u001b[K     |██████████████████████▏         | 768 kB 5.2 MB/s eta 0:00:01\r\u001b[K     |██████████████████████▌         | 778 kB 5.2 MB/s eta 0:00:01\r\u001b[K     |██████████████████████▉         | 788 kB 5.2 MB/s eta 0:00:01\r\u001b[K     |███████████████████████         | 798 kB 5.2 MB/s eta 0:00:01\r\u001b[K     |███████████████████████▍        | 808 kB 5.2 MB/s eta 0:00:01\r\u001b[K     |███████████████████████▊        | 819 kB 5.2 MB/s eta 0:00:01\r\u001b[K     |████████████████████████        | 829 kB 5.2 MB/s eta 0:00:01\r\u001b[K     |████████████████████████▎       | 839 kB 5.2 MB/s eta 0:00:01\r\u001b[K     |████████████████████████▋       | 849 kB 5.2 MB/s eta 0:00:01\r\u001b[K     |████████████████████████▉       | 860 kB 5.2 MB/s eta 0:00:01\r\u001b[K     |█████████████████████████▏      | 870 kB 5.2 MB/s eta 0:00:01\r\u001b[K     |█████████████████████████▍      | 880 kB 5.2 MB/s eta 0:00:01\r\u001b[K     |█████████████████████████▊      | 890 kB 5.2 MB/s eta 0:00:01\r\u001b[K     |██████████████████████████      | 901 kB 5.2 MB/s eta 0:00:01\r\u001b[K     |██████████████████████████▎     | 911 kB 5.2 MB/s eta 0:00:01\r\u001b[K     |██████████████████████████▋     | 921 kB 5.2 MB/s eta 0:00:01\r\u001b[K     |███████████████████████████     | 931 kB 5.2 MB/s eta 0:00:01\r\u001b[K     |███████████████████████████▏    | 942 kB 5.2 MB/s eta 0:00:01\r\u001b[K     |███████████████████████████▌    | 952 kB 5.2 MB/s eta 0:00:01\r\u001b[K     |███████████████████████████▉    | 962 kB 5.2 MB/s eta 0:00:01\r\u001b[K     |████████████████████████████    | 972 kB 5.2 MB/s eta 0:00:01\r\u001b[K     |████████████████████████████▍   | 983 kB 5.2 MB/s eta 0:00:01\r\u001b[K     |████████████████████████████▊   | 993 kB 5.2 MB/s eta 0:00:01\r\u001b[K     |█████████████████████████████   | 1.0 MB 5.2 MB/s eta 0:00:01\r\u001b[K     |█████████████████████████████▎  | 1.0 MB 5.2 MB/s eta 0:00:01\r\u001b[K     |█████████████████████████████▋  | 1.0 MB 5.2 MB/s eta 0:00:01\r\u001b[K     |█████████████████████████████▉  | 1.0 MB 5.2 MB/s eta 0:00:01\r\u001b[K     |██████████████████████████████▏ | 1.0 MB 5.2 MB/s eta 0:00:01\r\u001b[K     |██████████████████████████████▌ | 1.1 MB 5.2 MB/s eta 0:00:01\r\u001b[K     |██████████████████████████████▊ | 1.1 MB 5.2 MB/s eta 0:00:01\r\u001b[K     |███████████████████████████████ | 1.1 MB 5.2 MB/s eta 0:00:01\r\u001b[K     |███████████████████████████████▍| 1.1 MB 5.2 MB/s eta 0:00:01\r\u001b[K     |███████████████████████████████▋| 1.1 MB 5.2 MB/s eta 0:00:01\r\u001b[K     |████████████████████████████████| 1.1 MB 5.2 MB/s eta 0:00:01\r\u001b[K     |████████████████████████████████| 1.1 MB 5.2 MB/s \n",
            "\u001b[?25h"
          ],
          "name": "stdout"
        }
      ]
    },
    {
      "cell_type": "code",
      "metadata": {
        "id": "oo1U_DwhzBV5",
        "colab": {
          "base_uri": "https://localhost:8080/",
          "height": 35
        },
        "outputId": "8d9b93fc-3b59-4679-8694-483925d71309"
      },
      "source": [
        "import numpy as np\n",
        "import nibabel\n",
        "import os\n",
        "import tensorflow as tf\n",
        "import matplotlib.pyplot as plt\n",
        "\n",
        "import albumentations as A\n",
        "\n",
        "from __future__ import print_function\n",
        "\n",
        "from skimage.transform import resize\n",
        "from skimage.io import imsave\n",
        "from skimage.segmentation import mark_boundaries\n",
        "from skimage.exposure import rescale_intensity\n",
        "from skimage import io\n",
        "\n",
        "import keras\n",
        "from keras.models import Model, Sequential\n",
        "from tensorflow.keras.layers.experimental import preprocessing\n",
        "from keras.layers import Input, concatenate, Conv2D, MaxPooling2D, Conv2DTranspose, Dropout, BatchNormalization, Flatten, Dense\n",
        "from tensorflow.keras.optimizers import Adam, SGD\n",
        "from keras.callbacks import ModelCheckpoint\n",
        "from keras import backend as K\n",
        "from keras.callbacks import History\n",
        "from tensorflow.keras.utils import plot_model\n",
        "from tensorflow_addons.optimizers import AdamW\n",
        "from tensorflow.keras import layers\n",
        "\n",
        "import wandb\n",
        "from wandb.keras import WandbCallback\n",
        "\n",
        "from tqdm.auto import tqdm\n",
        "\n",
        "os.getcwd()"
      ],
      "execution_count": null,
      "outputs": [
        {
          "output_type": "execute_result",
          "data": {
            "application/vnd.google.colaboratory.intrinsic+json": {
              "type": "string"
            },
            "text/plain": [
              "'/content'"
            ]
          },
          "metadata": {},
          "execution_count": 3
        }
      ]
    },
    {
      "cell_type": "code",
      "metadata": {
        "colab": {
          "base_uri": "https://localhost:8080/"
        },
        "id": "PLfrPUP-XxFX",
        "outputId": "1ab8c10d-d04a-43a1-d047-c44bdaaa4562"
      },
      "source": [
        "from google.colab import drive\n",
        "drive.mount('/content/drive')"
      ],
      "execution_count": null,
      "outputs": [
        {
          "output_type": "stream",
          "text": [
            "Mounted at /content/drive\n"
          ],
          "name": "stdout"
        }
      ]
    },
    {
      "cell_type": "code",
      "metadata": {
        "id": "Icygfm3g_-6l",
        "colab": {
          "base_uri": "https://localhost:8080/"
        },
        "outputId": "670cfe57-f18a-4bd9-e456-2ecac8aa3951"
      },
      "source": [
        "!pip install -q git+https://github.com/tensorflow/examples.git\n",
        "\n",
        "from tensorflow_examples.models.pix2pix import pix2pix"
      ],
      "execution_count": null,
      "outputs": [
        {
          "output_type": "stream",
          "text": [
            "  Building wheel for tensorflow-examples (setup.py) ... \u001b[?25l\u001b[?25hdone\n",
            "\u001b[33m  WARNING: Built wheel for tensorflow-examples is invalid: Metadata 1.2 mandates PEP 440 version, but 'db19ab009cc1c17a9e3ddbda4081437704332ad6-' is not\u001b[0m\n",
            "    Running setup.py install for tensorflow-examples ... \u001b[?25l\u001b[?25hdone\n",
            "\u001b[33m  DEPRECATION: tensorflow-examples was installed using the legacy 'setup.py install' method, because a wheel could not be built for it. A possible replacement is to fix the wheel build issue reported above. You can find discussion regarding this at https://github.com/pypa/pip/issues/8368.\u001b[0m\n"
          ],
          "name": "stdout"
        }
      ]
    },
    {
      "cell_type": "code",
      "metadata": {
        "id": "4nP1FNoYzB7B"
      },
      "source": [
        "def get_tpu_strategy():\n",
        "    try:\n",
        "        tpu = tf.distribute.cluster_resolver.TPUClusterResolver(\n",
        "            tpu=\"grpc://\" + os.environ[\"COLAB_TPU_ADDR\"]\n",
        "        )  # TPU detection\n",
        "        print(\"Running on TPU \", tpu.cluster_spec().as_dict()[\"worker\"])\n",
        "    except ValueError:\n",
        "        raise BaseException(\"ERROR: Not connected to a TPU runtime\")\n",
        "\n",
        "    tf.config.experimental_connect_to_cluster(tpu)\n",
        "    tf.tpu.experimental.initialize_tpu_system(tpu)\n",
        "    return tf.distribute.TPUStrategy(tpu)"
      ],
      "execution_count": null,
      "outputs": []
    },
    {
      "cell_type": "code",
      "metadata": {
        "id": "obpkRTd1zDq9",
        "colab": {
          "base_uri": "https://localhost:8080/"
        },
        "outputId": "7a19e9f1-bc9d-4e16-b2f7-39e54c875ef4"
      },
      "source": [
        "tpu_strategy = get_tpu_strategy()"
      ],
      "execution_count": null,
      "outputs": [
        {
          "output_type": "stream",
          "text": [
            "Running on TPU  ['10.32.180.98:8470']\n",
            "INFO:tensorflow:Clearing out eager caches\n"
          ],
          "name": "stdout"
        },
        {
          "output_type": "stream",
          "text": [
            "INFO:tensorflow:Clearing out eager caches\n"
          ],
          "name": "stderr"
        },
        {
          "output_type": "stream",
          "text": [
            "INFO:tensorflow:Initializing the TPU system: grpc://10.32.180.98:8470\n"
          ],
          "name": "stdout"
        },
        {
          "output_type": "stream",
          "text": [
            "INFO:tensorflow:Initializing the TPU system: grpc://10.32.180.98:8470\n"
          ],
          "name": "stderr"
        },
        {
          "output_type": "stream",
          "text": [
            "INFO:tensorflow:Finished initializing TPU system.\n"
          ],
          "name": "stdout"
        },
        {
          "output_type": "stream",
          "text": [
            "INFO:tensorflow:Finished initializing TPU system.\n"
          ],
          "name": "stderr"
        },
        {
          "output_type": "stream",
          "text": [
            "INFO:tensorflow:Found TPU system:\n"
          ],
          "name": "stdout"
        },
        {
          "output_type": "stream",
          "text": [
            "INFO:tensorflow:Found TPU system:\n"
          ],
          "name": "stderr"
        },
        {
          "output_type": "stream",
          "text": [
            "INFO:tensorflow:*** Num TPU Cores: 8\n"
          ],
          "name": "stdout"
        },
        {
          "output_type": "stream",
          "text": [
            "INFO:tensorflow:*** Num TPU Cores: 8\n"
          ],
          "name": "stderr"
        },
        {
          "output_type": "stream",
          "text": [
            "INFO:tensorflow:*** Num TPU Workers: 1\n"
          ],
          "name": "stdout"
        },
        {
          "output_type": "stream",
          "text": [
            "INFO:tensorflow:*** Num TPU Workers: 1\n"
          ],
          "name": "stderr"
        },
        {
          "output_type": "stream",
          "text": [
            "INFO:tensorflow:*** Num TPU Cores Per Worker: 8\n"
          ],
          "name": "stdout"
        },
        {
          "output_type": "stream",
          "text": [
            "INFO:tensorflow:*** Num TPU Cores Per Worker: 8\n"
          ],
          "name": "stderr"
        },
        {
          "output_type": "stream",
          "text": [
            "INFO:tensorflow:*** Available Device: _DeviceAttributes(/job:localhost/replica:0/task:0/device:CPU:0, CPU, 0, 0)\n"
          ],
          "name": "stdout"
        },
        {
          "output_type": "stream",
          "text": [
            "INFO:tensorflow:*** Available Device: _DeviceAttributes(/job:localhost/replica:0/task:0/device:CPU:0, CPU, 0, 0)\n"
          ],
          "name": "stderr"
        },
        {
          "output_type": "stream",
          "text": [
            "INFO:tensorflow:*** Available Device: _DeviceAttributes(/job:worker/replica:0/task:0/device:CPU:0, CPU, 0, 0)\n"
          ],
          "name": "stdout"
        },
        {
          "output_type": "stream",
          "text": [
            "INFO:tensorflow:*** Available Device: _DeviceAttributes(/job:worker/replica:0/task:0/device:CPU:0, CPU, 0, 0)\n"
          ],
          "name": "stderr"
        },
        {
          "output_type": "stream",
          "text": [
            "INFO:tensorflow:*** Available Device: _DeviceAttributes(/job:worker/replica:0/task:0/device:TPU:0, TPU, 0, 0)\n"
          ],
          "name": "stdout"
        },
        {
          "output_type": "stream",
          "text": [
            "INFO:tensorflow:*** Available Device: _DeviceAttributes(/job:worker/replica:0/task:0/device:TPU:0, TPU, 0, 0)\n"
          ],
          "name": "stderr"
        },
        {
          "output_type": "stream",
          "text": [
            "INFO:tensorflow:*** Available Device: _DeviceAttributes(/job:worker/replica:0/task:0/device:TPU:1, TPU, 0, 0)\n"
          ],
          "name": "stdout"
        },
        {
          "output_type": "stream",
          "text": [
            "INFO:tensorflow:*** Available Device: _DeviceAttributes(/job:worker/replica:0/task:0/device:TPU:1, TPU, 0, 0)\n"
          ],
          "name": "stderr"
        },
        {
          "output_type": "stream",
          "text": [
            "INFO:tensorflow:*** Available Device: _DeviceAttributes(/job:worker/replica:0/task:0/device:TPU:2, TPU, 0, 0)\n"
          ],
          "name": "stdout"
        },
        {
          "output_type": "stream",
          "text": [
            "INFO:tensorflow:*** Available Device: _DeviceAttributes(/job:worker/replica:0/task:0/device:TPU:2, TPU, 0, 0)\n"
          ],
          "name": "stderr"
        },
        {
          "output_type": "stream",
          "text": [
            "INFO:tensorflow:*** Available Device: _DeviceAttributes(/job:worker/replica:0/task:0/device:TPU:3, TPU, 0, 0)\n"
          ],
          "name": "stdout"
        },
        {
          "output_type": "stream",
          "text": [
            "INFO:tensorflow:*** Available Device: _DeviceAttributes(/job:worker/replica:0/task:0/device:TPU:3, TPU, 0, 0)\n"
          ],
          "name": "stderr"
        },
        {
          "output_type": "stream",
          "text": [
            "INFO:tensorflow:*** Available Device: _DeviceAttributes(/job:worker/replica:0/task:0/device:TPU:4, TPU, 0, 0)\n"
          ],
          "name": "stdout"
        },
        {
          "output_type": "stream",
          "text": [
            "INFO:tensorflow:*** Available Device: _DeviceAttributes(/job:worker/replica:0/task:0/device:TPU:4, TPU, 0, 0)\n"
          ],
          "name": "stderr"
        },
        {
          "output_type": "stream",
          "text": [
            "INFO:tensorflow:*** Available Device: _DeviceAttributes(/job:worker/replica:0/task:0/device:TPU:5, TPU, 0, 0)\n"
          ],
          "name": "stdout"
        },
        {
          "output_type": "stream",
          "text": [
            "INFO:tensorflow:*** Available Device: _DeviceAttributes(/job:worker/replica:0/task:0/device:TPU:5, TPU, 0, 0)\n"
          ],
          "name": "stderr"
        },
        {
          "output_type": "stream",
          "text": [
            "INFO:tensorflow:*** Available Device: _DeviceAttributes(/job:worker/replica:0/task:0/device:TPU:6, TPU, 0, 0)\n"
          ],
          "name": "stdout"
        },
        {
          "output_type": "stream",
          "text": [
            "INFO:tensorflow:*** Available Device: _DeviceAttributes(/job:worker/replica:0/task:0/device:TPU:6, TPU, 0, 0)\n"
          ],
          "name": "stderr"
        },
        {
          "output_type": "stream",
          "text": [
            "INFO:tensorflow:*** Available Device: _DeviceAttributes(/job:worker/replica:0/task:0/device:TPU:7, TPU, 0, 0)\n"
          ],
          "name": "stdout"
        },
        {
          "output_type": "stream",
          "text": [
            "INFO:tensorflow:*** Available Device: _DeviceAttributes(/job:worker/replica:0/task:0/device:TPU:7, TPU, 0, 0)\n"
          ],
          "name": "stderr"
        },
        {
          "output_type": "stream",
          "text": [
            "INFO:tensorflow:*** Available Device: _DeviceAttributes(/job:worker/replica:0/task:0/device:TPU_SYSTEM:0, TPU_SYSTEM, 0, 0)\n"
          ],
          "name": "stdout"
        },
        {
          "output_type": "stream",
          "text": [
            "INFO:tensorflow:*** Available Device: _DeviceAttributes(/job:worker/replica:0/task:0/device:TPU_SYSTEM:0, TPU_SYSTEM, 0, 0)\n"
          ],
          "name": "stderr"
        },
        {
          "output_type": "stream",
          "text": [
            "INFO:tensorflow:*** Available Device: _DeviceAttributes(/job:worker/replica:0/task:0/device:XLA_CPU:0, XLA_CPU, 0, 0)\n"
          ],
          "name": "stdout"
        },
        {
          "output_type": "stream",
          "text": [
            "INFO:tensorflow:*** Available Device: _DeviceAttributes(/job:worker/replica:0/task:0/device:XLA_CPU:0, XLA_CPU, 0, 0)\n"
          ],
          "name": "stderr"
        }
      ]
    },
    {
      "cell_type": "code",
      "metadata": {
        "id": "__Dw1vppzE32"
      },
      "source": [
        "# give permission to read data from google cloud bucket\n",
        "from google.colab import auth\n",
        "auth.authenticate_user()"
      ],
      "execution_count": null,
      "outputs": []
    },
    {
      "cell_type": "markdown",
      "metadata": {
        "id": "NH_WYjlVzRMf"
      },
      "source": [
        "# Functions for loading TFRecords files"
      ]
    },
    {
      "cell_type": "code",
      "metadata": {
        "id": "vXtBgxUlzXw8"
      },
      "source": [
        "def _parse_image_function(example_proto):\n",
        "\n",
        "    \"\"\"\n",
        "    Reads from TFRecord file\n",
        "    Returns a tf.train.Example object (can be read like a dictionary)\n",
        "    \"\"\"\n",
        "\n",
        "    image_feature_description = {\n",
        "\n",
        "        \"image_raw\": tf.io.FixedLenFeature([256 * 256], tf.float32),\n",
        "        \"mask_raw\": tf.io.FixedLenFeature([256 * 256], tf.int64),\n",
        "    }\n",
        "\n",
        "    # Parse the input tf.train.Example proto using the dictionary above.\n",
        "    return tf.io.parse_single_example(example_proto, image_feature_description)\n",
        "\n",
        "\n",
        "def _unpack_proto(example_proto):\n",
        "\n",
        "    \"\"\"\n",
        "    Extract image and mask from example_proto object\n",
        "    \"\"\"\n",
        "\n",
        "    image = example_proto[\"image_raw\"]\n",
        "    image = tf.reshape(image, [256, 256, 1])\n",
        "\n",
        "    mask = example_proto[\"mask_raw\"]\n",
        "    mask = tf.reshape(mask, [256, 256])\n",
        "\n",
        "    return image, mask\n"
      ],
      "execution_count": null,
      "outputs": []
    },
    {
      "cell_type": "code",
      "metadata": {
        "id": "frlHAxYK_jKu"
      },
      "source": [
        "### Data Augmentation\n",
        "\n",
        "def _unpack_proto_aug(example_proto):\n",
        "\n",
        "    \"\"\"\n",
        "    Extract image and mask from example_proto object\n",
        "    \"\"\"\n",
        "\n",
        "    image = example_proto[\"image_raw\"]\n",
        "    image = tf.reshape(image, [256, 256, 1])\n",
        "\n",
        "    mask = example_proto[\"mask_raw\"]\n",
        "    mask = tf.reshape(mask, [256, 256])\n",
        "\n",
        "    # DATA AUGMENTATION\n",
        "    if tf.random.uniform(()) > 0.5:\n",
        "      image = tf.image.flip_left_right(image)\n",
        "      mask = tf.image.flip_left_right(tf.expand_dims(mask, [2]))\n",
        "      mask = tf.squeeze(mask)\n",
        "\n",
        "    if tf.random.uniform(()) > 0.5:\n",
        "      image = tf.image.rot90(image)\n",
        "      mask = tf.image.rot90(tf.expand_dims(mask, [2]))\n",
        "      mask = tf.squeeze(mask)\n",
        "\n",
        "    return image, mask"
      ],
      "execution_count": null,
      "outputs": []
    },
    {
      "cell_type": "code",
      "metadata": {
        "id": "vMPtqyNh0CN6"
      },
      "source": [
        "def optimise_dataset(ds):\n",
        "\n",
        "  \"\"\"\n",
        "  Improve performance of tensorflow dataset\n",
        "  \"\"\"\n",
        "\n",
        "  ds = ds.prefetch(tf.data.experimental.AUTOTUNE)\n",
        "  # ds = ds.cache()\n",
        "  return ds\n",
        "\n",
        "def prepare_data(ds, shuffle=True):\n",
        "  \"\"\"\n",
        "  Normalise, batch, shuffle and optimise the dataset\n",
        "  \"\"\"\n",
        "  # ds = normalise(ds)\n",
        "  if shuffle:\n",
        "    ds = ds.shuffle(5000)\n",
        "  batch_size = 8 * tpu_strategy.num_replicas_in_sync # 16*8 (tpu_strategy.num_replicas_in_sync value shown in output of previous cell)\n",
        "  ds = ds.batch(batch_size)\n",
        "  ds = optimise_dataset(ds)\n",
        "  return ds\n",
        "\n",
        "def to_3_channels(image, mask):\n",
        "  img_shape = (256, 256)\n",
        "  image = tf.reshape(tf.repeat(image, 3), (*img_shape, 3))\n",
        "  # mask = tf.reshape(tf.repeat(mask, 3), (*img_shape, 3)) \n",
        "  return image, mask"
      ],
      "execution_count": null,
      "outputs": []
    },
    {
      "cell_type": "markdown",
      "metadata": {
        "id": "QybjGHsl0HbM"
      },
      "source": [
        "# Load data"
      ]
    },
    {
      "cell_type": "markdown",
      "metadata": {
        "id": "aWuYqRjJ6yob"
      },
      "source": [
        "87 test images in 40_bounding_box_step1and2/test_non_empty"
      ]
    },
    {
      "cell_type": "code",
      "metadata": {
        "id": "W5mP34jt04mH"
      },
      "source": [
        "test_nonempty_gcs_pattern = \"gs://40_bounding_box_step1and2/test_non_empty*\"\n",
        "test_nonempty_filenames = tf.io.gfile.glob(test_nonempty_gcs_pattern)\n",
        "\n",
        "test_nonempty_ds = tf.data.TFRecordDataset(test_nonempty_filenames)\n",
        "test_nonempty_ds = test_nonempty_ds.map(_parse_image_function)\n",
        "test_nonempty_ds = test_nonempty_ds.map(_unpack_proto_aug)\n",
        "test_nonempty_ds = test_nonempty_ds.map(to_3_channels)\n",
        "\n",
        "test_ds = prepare_data(test_nonempty_ds)"
      ],
      "execution_count": null,
      "outputs": []
    },
    {
      "cell_type": "code",
      "metadata": {
        "id": "nWpHcr6X6bCr"
      },
      "source": [
        "def display_img_mask(batch_num, img_num):\n",
        "\n",
        "  for images, masks in test_ds.take(batch_num):  # only take first element of dataset\n",
        "      numpy_images = images.numpy()\n",
        "      numpy_masks = masks.numpy()\n",
        "\n",
        "  plt.subplot(1,2,1)\n",
        "  plt.imshow(numpy_images[img_num], cmap='gray')\n",
        "  plt.title('Img')\n",
        "\n",
        "  plt.subplot(1,2,2)\n",
        "  plt.imshow(numpy_masks[img_num].reshape((256,256)), cmap='gray')\n",
        "  plt.title('Mask')"
      ],
      "execution_count": null,
      "outputs": []
    },
    {
      "cell_type": "code",
      "metadata": {
        "colab": {
          "base_uri": "https://localhost:8080/"
        },
        "id": "0QbghWmP6eJT",
        "outputId": "123002bf-9d1b-44ed-8d16-a414ddf311cb"
      },
      "source": [
        "display_img_mask(1,15)"
      ],
      "execution_count": null,
      "outputs": [
        {
          "output_type": "display_data",
          "data": {
            "image/png": "[encoded data removed]",
            "text/plain": [
              "<Figure size 432x288 with 2 Axes>"
            ]
          },
          "metadata": {
            "needs_background": "light"
          }
        }
      ]
    },
    {
      "cell_type": "markdown",
      "metadata": {
        "id": "vhd7Ul8kNmv-"
      },
      "source": [
        "# Loss Function"
      ]
    },
    {
      "cell_type": "code",
      "metadata": {
        "id": "rHzoH7QFNoM8"
      },
      "source": [
        "# return our metric and loss\n",
        "\n",
        "with tpu_strategy.scope():\n",
        "\n",
        "  def dice_coef(y_true, y_pred, smooth=1e-15):\n",
        "    y_true_f = tf.cast(K.flatten(y_true), tf.float32)\n",
        "    y_pred_f = K.flatten(y_pred)\n",
        "    intersection = K.sum(y_true_f * y_pred_f)\n",
        "\n",
        "    return (2* intersection + smooth)/(K.sum(y_true_f) + K.sum(y_pred_f) + smooth)\n",
        "\n",
        "\n",
        "  def dice_coef_loss(y_true, y_pred):\n",
        "\n",
        "    return (1.0 - dice_coef(y_true, y_pred))\n",
        "\n",
        "\n",
        "  def mixed_loss(y_true, y_pred):\n",
        "\n",
        "    y_true_f = tf.cast(K.flatten(y_true), tf.float32)\n",
        "    y_pred_f = K.flatten(y_pred)\n",
        "\n",
        "    bce = tf.keras.losses.binary_crossentropy(y_true_f, y_pred_f, from_logits=False)\n",
        "    dice = dice_coef(y_true, y_pred)\n",
        "\n",
        "    return bce + (1.0 - dice)"
      ],
      "execution_count": null,
      "outputs": []
    },
    {
      "cell_type": "markdown",
      "metadata": {
        "id": "LChLaF6UNrjM"
      },
      "source": [
        "# Model Architecture"
      ]
    },
    {
      "cell_type": "code",
      "metadata": {
        "id": "E7QTA6dMNuLV"
      },
      "source": [
        "# model parameters\n",
        "\n",
        "with tpu_strategy.scope():\n",
        "\n",
        "  loss = dice_coef_loss\n",
        "  # loss = tf.keras.losses.binary_crossentropy\n",
        "  # loss = mixed_loss\n",
        "  metrics = dice_coef\n",
        "  # metrics = ['binary_accuracy']"
      ],
      "execution_count": null,
      "outputs": []
    },
    {
      "cell_type": "markdown",
      "metadata": {
        "id": "APlhckegN-qn"
      },
      "source": [
        "# Pre-trained Model: Original"
      ]
    },
    {
      "cell_type": "code",
      "metadata": {
        "id": "lQLimwGCOAoJ"
      },
      "source": [
        "def rescale_output(y_pred):\n",
        "\n",
        "  y_pred = tf.clip_by_value(y_pred, clip_value_min=0., clip_value_max=1.) # force values to be between 0 and 1\n",
        "\n",
        "  return y_pred"
      ],
      "execution_count": null,
      "outputs": []
    },
    {
      "cell_type": "code",
      "metadata": {
        "id": "jKIBSP8lOBZx"
      },
      "source": [
        "with tpu_strategy.scope(): \n",
        "\n",
        "  def unet_model(output_channels):\n",
        "\n",
        "    inputs = tf.keras.layers.Input(shape=[256, 256, 3])\n",
        "\n",
        "    # Downsampling through the model\n",
        "    base_model = tf.keras.applications.MobileNetV2(input_shape=[256, 256, 3], include_top=False) # ImageNet weights only work with 3 channel images\n",
        "\n",
        "    # # adding regularization\n",
        "    # penalty = 0.001\n",
        "    # regularizer = tf.keras.regularizers.l2(penalty)\n",
        "\n",
        "    # for layer in base_model.layers:\n",
        "    #     for attr in ['kernel_regularizer']:\n",
        "    #         if hasattr(layer, attr):\n",
        "    #           setattr(layer, attr, regularizer)\n",
        "\n",
        "    #  # When we change the layers attributes, the change only happens in the model config file\n",
        "    # model_json = base_model.to_json()\n",
        "\n",
        "    # # Save the weights before reloading the model.\n",
        "    # weights_path = \"/content/drive/My Drive/Masters Project/Vascular Segmentation/Model Weights/test5.h5\"\n",
        "    # # weights_path = os.path.join(weights_path, 'test1.h5')\n",
        "    # base_model.save_weights(weights_path)\n",
        "\n",
        "    # # load the model from the config\n",
        "    # base_model = tf.keras.models.model_from_json(model_json)\n",
        "    \n",
        "    # # Reload the model weights\n",
        "    # base_model.load_weights(weights_path, by_name=True)\n",
        "\n",
        "    # Use the activations of these layers\n",
        "    layer_names = [\n",
        "        'block_1_expand_relu',   # 48x48\n",
        "        'block_3_expand_relu',   # 24x24\n",
        "        'block_6_expand_relu',   # 12x12\n",
        "        'block_13_expand_relu',  # 6x6\n",
        "        'block_16_project',      # 3x3\n",
        "    ]\n",
        "    base_model_outputs = [base_model.get_layer(name).output for name in layer_names]\n",
        "\n",
        "    # # Create the feature extraction model\n",
        "    down_stack = tf.keras.Model(inputs=base_model.input, outputs=base_model_outputs)\n",
        "\n",
        "    down_stack.trainable = False\n",
        "\n",
        "    up_stack = [\n",
        "        pix2pix.upsample(512, 3),  # 4x4 -> 8x8\n",
        "        pix2pix.upsample(256, 3),  # 8x8 -> 16x16\n",
        "        pix2pix.upsample(128, 3),  # 16x16 -> 32x32\n",
        "        pix2pix.upsample(64, 3),   # 32x32 -> 64x64\n",
        "    ]\n",
        "\n",
        "\n",
        "    skips = down_stack(inputs)\n",
        "    x = skips[-1] # final output of encoder\n",
        "    skips = reversed(skips[:-1]) # all outputs of encoder except final, reversed\n",
        "    # Upsampling and establishing the skip connections\n",
        "    \n",
        "    for up, skip in zip(up_stack, skips):\n",
        "      x = up(x) # pass output of encoder through decoder (iterates through outputs of decoder)\n",
        "      concat = tf.keras.layers.Concatenate() \n",
        "      x = concat([x, skip]) # cross-link: output of decoder concatenated with encoder output\n",
        "    # This is the last layer of the model\n",
        "    last = tf.keras.layers.Conv2DTranspose(\n",
        "        output_channels, 3, strides=2,\n",
        "        padding='same')  #64x64 -> 128x128\n",
        "\n",
        "    normalise_output = tf.keras.layers.Lambda(rescale_output)\n",
        "\n",
        "    x = last(x)\n",
        "    x = normalise_output(x)\n",
        "    # x = tf.keras.activations.sigmoid(x)\n",
        "\n",
        "    return tf.keras.Model(inputs=inputs, outputs=x)"
      ],
      "execution_count": null,
      "outputs": []
    },
    {
      "cell_type": "markdown",
      "metadata": {
        "id": "W0hOoO85MeTJ"
      },
      "source": [
        "# Load trained Step 1 model"
      ]
    },
    {
      "cell_type": "code",
      "metadata": {
        "id": "CLbVhijM4TRc"
      },
      "source": [
        "model = keras.models.load_model(\"/content/drive/My Drive/Masters Project/Vascular Segmentation/Model Weights/Step1 40x40 bounding box/lr=1e-3_l2(0.001).h5\", custom_objects={'dice_coef_loss': dice_coef_loss, 'dice_coef': dice_coef})"
      ],
      "execution_count": null,
      "outputs": []
    },
    {
      "cell_type": "markdown",
      "metadata": {
        "id": "KqDj1_gSPUIM"
      },
      "source": [
        "# Evaluate on Test Set"
      ]
    },
    {
      "cell_type": "code",
      "metadata": {
        "id": "B2Xj2ZkQOtw4"
      },
      "source": [
        "test_images = []\n",
        "test_masks = []\n",
        "\n",
        "for batch_num in [2]:\n",
        "  for images, masks in test_ds.take(batch_num):  \n",
        "        numpy_images = images.numpy()\n",
        "        numpy_masks = masks.numpy()\n",
        "\n",
        "        test_images.append(numpy_images)\n",
        "        test_masks.append(numpy_masks)\n",
        "\n",
        "numpy_images = np.concatenate(test_images)\n",
        "numpy_masks = np.concatenate(test_masks)"
      ],
      "execution_count": null,
      "outputs": []
    },
    {
      "cell_type": "code",
      "metadata": {
        "colab": {
          "base_uri": "https://localhost:8080/"
        },
        "id": "3l8RoQBPPZvc",
        "outputId": "c7d532c8-29ce-4f16-b158-04933d0762d6"
      },
      "source": [
        "print('Predicting masks on test data...')\n",
        "\n",
        "test_preds = [model.predict(tf.expand_dims(image, axis=[0])) for image in numpy_images]\n",
        "test_preds = np.concatenate(test_preds) "
      ],
      "execution_count": null,
      "outputs": [
        {
          "output_type": "stream",
          "text": [
            "Predicting masks on test data...\n"
          ],
          "name": "stdout"
        }
      ]
    },
    {
      "cell_type": "code",
      "metadata": {
        "colab": {
          "base_uri": "https://localhost:8080/"
        },
        "id": "i3oMrB12RpZk",
        "outputId": "07a983f2-21dc-4c80-faac-21380e9ade5f"
      },
      "source": [
        "# calculate dice coeff for each pair of true (test_masks) and predicted (test_preds) masks in the test set\n",
        "\n",
        "dice_coeff_list = []\n",
        "dice_coeff_dict = {}\n",
        "\n",
        "for i in range(len(numpy_masks)):\n",
        "  true_mask = numpy_masks[i]\n",
        "  pred_mask = test_preds[i].reshape((256,256))\n",
        "  pred_mask = np.round(pred_mask)\n",
        "\n",
        "  dice_coeff = np.array(dice_coef(true_mask, pred_mask))\n",
        "  dice_coeff_list.append(dice_coeff)\n",
        "  dice_coeff_dict[i] = dice_coeff\n",
        "\n",
        "np.mean(dice_coeff_list), np.std(dice_coeff_list)"
      ],
      "execution_count": null,
      "outputs": [
        {
          "output_type": "execute_result",
          "data": {
            "text/plain": [
              "(0.00459719, 0.004716298)"
            ]
          },
          "metadata": {},
          "execution_count": 20
        }
      ]
    },
    {
      "cell_type": "code",
      "metadata": {
        "colab": {
          "base_uri": "https://localhost:8080/",
          "height": 316
        },
        "id": "seHhylfzR4HU",
        "outputId": "f298ab2e-735e-4eb5-8f4e-c534fe05045b"
      },
      "source": [
        "plt.hist(dice_coeff_list)\n",
        "plt.title('Distribution of Dice Coefficient Scores over Test set')\n",
        "plt.xlabel('Dice Coefficient Score', size=14)\n",
        "plt.ylabel('Number of Images', size=14)"
      ],
      "execution_count": null,
      "outputs": [
        {
          "output_type": "execute_result",
          "data": {
            "text/plain": [
              "Text(0, 0.5, 'Number of Images')"
            ]
          },
          "metadata": {},
          "execution_count": 21
        },
        {
          "output_type": "display_data",
          "data": {
            "image/png": "[encoded data removed]",
            "text/plain": [
              "<Figure size 432x288 with 1 Axes>"
            ]
          },
          "metadata": {
            "needs_background": "light"
          }
        }
      ]
    },
    {
      "cell_type": "code",
      "metadata": {
        "id": "e2yA7FN4STNh"
      },
      "source": [
        "def compare_img_mask(img_num):\n",
        "\n",
        "  \"\"\"\n",
        "  Display original image with mask, true mask and predicted mask for a specified image number\n",
        "  \n",
        "  Args:\n",
        "  train_, test_ or valid_ + images/masks/preds\n",
        "  \"\"\"\n",
        "  \n",
        "  plt.figure(figsize=(20, 4)) \n",
        "\n",
        "  plt.subplot(1,3,1)\n",
        "  plt.imshow(numpy_images[img_num])\n",
        "  plt.title('Original image patch')\n",
        "\n",
        "  plt.subplot(1,3,2)\n",
        "  plt.imshow(numpy_masks[img_num].reshape((256,256)), cmap='gray')\n",
        "  plt.title('True mask')\n",
        "\n",
        "  plt.subplot(1,3,3)\n",
        "  plt.imshow(test_preds[img_num].reshape((256,256)), cmap='gray')\n",
        "  plt.title('Predicted mask')"
      ],
      "execution_count": null,
      "outputs": []
    },
    {
      "cell_type": "code",
      "metadata": {
        "colab": {
          "base_uri": "https://localhost:8080/",
          "height": 281
        },
        "id": "9Uw_oMNvSTSf",
        "outputId": "034bbad7-4767-4157-f004-94588d609f12"
      },
      "source": [
        "compare_img_mask(25)"
      ],
      "execution_count": null,
      "outputs": [
        {
          "output_type": "display_data",
          "data": {
            "image/png": "[encoded data removed]",
            "text/plain": [
              "<Figure size 1440x288 with 3 Axes>"
            ]
          },
          "metadata": {
            "needs_background": "light"
          }
        }
      ]
    },
    {
      "cell_type": "markdown",
      "metadata": {
        "id": "QMhzK8CGSgUD"
      },
      "source": [
        "# Convert predictions to 40x40 bounding boxes"
      ]
    },
    {
      "cell_type": "code",
      "metadata": {
        "colab": {
          "base_uri": "https://localhost:8080/",
          "height": 286
        },
        "id": "DzIdnqM_Sn-d",
        "outputId": "6e4b1bd3-6f1c-48bd-8a0b-f1724ecc64d7"
      },
      "source": [
        "test_test = test_preds[20].reshape((256,256))\n",
        "plt.imshow(test_test, cmap='gray')"
      ],
      "execution_count": null,
      "outputs": [
        {
          "output_type": "execute_result",
          "data": {
            "text/plain": [
              "<matplotlib.image.AxesImage at 0x7fb886573450>"
            ]
          },
          "metadata": {},
          "execution_count": 63
        },
        {
          "output_type": "display_data",
          "data": {
            "image/png": "[encoded data removed]",
            "text/plain": [
              "<Figure size 432x288 with 1 Axes>"
            ]
          },
          "metadata": {
            "needs_background": "light"
          }
        }
      ]
    },
    {
      "cell_type": "markdown",
      "metadata": {
        "id": "P4BywUEbmTMX"
      },
      "source": [
        "### testing connected components / filtering methods"
      ]
    },
    {
      "cell_type": "markdown",
      "metadata": {
        "id": "aW1fDXSnt0J7"
      },
      "source": [
        "https://scipy-lectures.org/packages/scikit-image/auto_examples/plot_labels.html"
      ]
    },
    {
      "cell_type": "code",
      "metadata": {
        "id": "6YoBu1i-_HkZ"
      },
      "source": [
        "from skimage import measure\n",
        "from skimage import filters\n",
        "from skimage.segmentation import mark_boundaries\n",
        "from skimage.exposure import rescale_intensity\n",
        "import matplotlib.pyplot as plt\n",
        "import numpy as np"
      ],
      "execution_count": null,
      "outputs": []
    },
    {
      "cell_type": "code",
      "metadata": {
        "colab": {
          "base_uri": "https://localhost:8080/",
          "height": 231
        },
        "id": "A6XrO8eGS9k4",
        "outputId": "cb42f927-2abd-4809-b1c6-dcc8b47c8fd6"
      },
      "source": [
        "n = 2\n",
        "l = 80\n",
        "threshold = 15.0\n",
        "\n",
        "im = filters.gaussian(test_test, sigma= l / (4. * n))\n",
        "blobs = im > threshold * im.mean()\n",
        "blobs_labels = measure.label(blobs, background=0)\n",
        "\n",
        "while(np.max(blobs_labels) == 0):\n",
        "  print('False')\n",
        "  threshold -= 1\n",
        "  blobs = im > threshold * im.mean()\n",
        "  blobs_labels = measure.label(blobs, background=0)\n",
        "\n",
        "print(np.max(blobs_labels))\n",
        "\n",
        "plt.imshow(blobs_labels, cmap='gray')\n",
        "plt.title('Gaussian filter with \\n threshold parameter = {}'.format(threshold))"
      ],
      "execution_count": null,
      "outputs": [
        {
          "output_type": "error",
          "ename": "NameError",
          "evalue": "ignored",
          "traceback": [
            "\u001b[0;31m---------------------------------------------------------------------------\u001b[0m",
            "\u001b[0;31mNameError\u001b[0m                                 Traceback (most recent call last)",
            "\u001b[0;32m<ipython-input-28-3d55b0bfd73b>\u001b[0m in \u001b[0;36m<module>\u001b[0;34m()\u001b[0m\n\u001b[1;32m      3\u001b[0m \u001b[0mthreshold\u001b[0m \u001b[0;34m=\u001b[0m \u001b[0;36m15.0\u001b[0m\u001b[0;34m\u001b[0m\u001b[0;34m\u001b[0m\u001b[0m\n\u001b[1;32m      4\u001b[0m \u001b[0;34m\u001b[0m\u001b[0m\n\u001b[0;32m----> 5\u001b[0;31m \u001b[0mim\u001b[0m \u001b[0;34m=\u001b[0m \u001b[0mfilters\u001b[0m\u001b[0;34m.\u001b[0m\u001b[0mgaussian\u001b[0m\u001b[0;34m(\u001b[0m\u001b[0mtest_test\u001b[0m\u001b[0;34m,\u001b[0m \u001b[0msigma\u001b[0m\u001b[0;34m=\u001b[0m \u001b[0ml\u001b[0m \u001b[0;34m/\u001b[0m \u001b[0;34m(\u001b[0m\u001b[0;36m4.\u001b[0m \u001b[0;34m*\u001b[0m \u001b[0mn\u001b[0m\u001b[0;34m)\u001b[0m\u001b[0;34m)\u001b[0m\u001b[0;34m\u001b[0m\u001b[0;34m\u001b[0m\u001b[0m\n\u001b[0m\u001b[1;32m      6\u001b[0m \u001b[0mblobs\u001b[0m \u001b[0;34m=\u001b[0m \u001b[0mim\u001b[0m \u001b[0;34m>\u001b[0m \u001b[0mthreshold\u001b[0m \u001b[0;34m*\u001b[0m \u001b[0mim\u001b[0m\u001b[0;34m.\u001b[0m\u001b[0mmean\u001b[0m\u001b[0;34m(\u001b[0m\u001b[0;34m)\u001b[0m\u001b[0;34m\u001b[0m\u001b[0;34m\u001b[0m\u001b[0m\n\u001b[1;32m      7\u001b[0m \u001b[0mblobs_labels\u001b[0m \u001b[0;34m=\u001b[0m \u001b[0mmeasure\u001b[0m\u001b[0;34m.\u001b[0m\u001b[0mlabel\u001b[0m\u001b[0;34m(\u001b[0m\u001b[0mblobs\u001b[0m\u001b[0;34m,\u001b[0m \u001b[0mbackground\u001b[0m\u001b[0;34m=\u001b[0m\u001b[0;36m0\u001b[0m\u001b[0;34m)\u001b[0m\u001b[0;34m\u001b[0m\u001b[0;34m\u001b[0m\u001b[0m\n",
            "\u001b[0;31mNameError\u001b[0m: name 'test_test' is not defined"
          ]
        }
      ]
    },
    {
      "cell_type": "code",
      "metadata": {
        "id": "0EhUutorcRIN"
      },
      "source": [
        "pixel_value_dict = {}\n",
        "\n",
        "for i in range((np.min(blobs_labels)+1), (np.max(blobs_labels)+1)):\n",
        "  pixel_value_dict[i] = np.count_nonzero(blobs_labels == i)\n",
        "\n",
        "max_value = max(pixel_value_dict.values())\n",
        "\n",
        "biggest_blob = [key for key, val in pixel_value_dict.items() if val == max_value][0]\n",
        "biggest_blob"
      ],
      "execution_count": null,
      "outputs": []
    },
    {
      "cell_type": "code",
      "metadata": {
        "id": "M1n6w2qR7Ptl"
      },
      "source": [
        "a = rescale_intensity(test_test) # image\n",
        "b = (blobs_labels==biggest_blob) # mask\n",
        "plt.imshow(mark_boundaries(a,b, mode='thick')) # display image with mask overlaid\n",
        "plt.title('Predicted mask with \\n result of Gaussian filter \\n (threshold parameter = 20) overlaid ')"
      ],
      "execution_count": null,
      "outputs": []
    },
    {
      "cell_type": "code",
      "metadata": {
        "id": "W41z08Qs5eN6"
      },
      "source": [
        "x_coords = np.where(blobs_labels == biggest_blob)[0]\n",
        "y_coords = np.where(blobs_labels == biggest_blob)[1]\n",
        "\n",
        "plt.imshow(test_test[np.min(x_coords):np.max(x_coords), np.min(y_coords):np.max(y_coords)], cmap='gray')"
      ],
      "execution_count": null,
      "outputs": []
    },
    {
      "cell_type": "code",
      "metadata": {
        "id": "4Cqi844W5rCD"
      },
      "source": [
        "test_test2 = test_test.copy()\n",
        "\n",
        "x_diff = np.max(x_coords) - np.min(x_coords)\n",
        "x_centre = np.min(x_coords) + x_diff//2\n",
        "\n",
        "y_diff = np.max(y_coords) - np.min(y_coords)\n",
        "y_centre = np.min(y_coords) + y_diff//2\n",
        "\n",
        "test_test2[x_centre, y_centre] = 3\n",
        "\n",
        "plt.figure(figsize=(12, 6))\n",
        "\n",
        "plt.imshow(test_test2, cmap='gray')\n",
        "plt.title('Predicted mask with centre of predicted \\n aneurysm area marked by white pixel', size=16)"
      ],
      "execution_count": null,
      "outputs": []
    },
    {
      "cell_type": "code",
      "metadata": {
        "id": "uUiOkCEPK6Ah"
      },
      "source": [
        "# define bounding box around central pixel\n",
        "\n",
        "x_left = x_centre-20\n",
        "x_right = x_left + 40\n",
        "\n",
        "y_top = y_centre-20\n",
        "y_bottom = y_top + 40\n",
        "\n",
        "plt.figure(figsize=(12, 6))\n",
        "\n",
        "plt.imshow(test_test2[x_left:x_right, y_top:y_bottom],cmap='gray')\n",
        "plt.title('40x40 bounding box centred at \\n centre of predicted aneurysm area', size=18)"
      ],
      "execution_count": null,
      "outputs": []
    },
    {
      "cell_type": "code",
      "metadata": {
        "id": "zy-I1rUwjvik"
      },
      "source": [
        "def get_blobs_labels(test_pred):\n",
        "\n",
        "  n = 2\n",
        "  l = 80\n",
        "  threshold = 15.0\n",
        "\n",
        "  im = filters.gaussian(test_pred, sigma= l / (4. * n))\n",
        "  blobs = im > threshold * im.mean()\n",
        "  blobs_labels = measure.label(blobs, background=0)\n",
        "\n",
        "  while(np.max(blobs_labels) == 0):\n",
        "    print('False')\n",
        "    threshold -= 1\n",
        "    blobs = im > threshold * im.mean()\n",
        "    blobs_labels = measure.label(blobs, background=0)\n",
        "\n",
        "  return blobs_labels\n",
        "\n",
        "def get_biggest_blob(blobs_labels):\n",
        "\n",
        "  pixel_value_dict = {}\n",
        "  for i in range((np.min(blobs_labels)+1), (np.max(blobs_labels)+1)):\n",
        "    pixel_value_dict[i] = np.count_nonzero(blobs_labels == i)\n",
        "\n",
        "  max_value = max(pixel_value_dict.values())\n",
        "  biggest_blob = [key for key, val in pixel_value_dict.items() if val == max_value][0]\n",
        "\n",
        "  return biggest_blob\n",
        "\n",
        "def get_bounding_box1(test_pred, blobs_labels, biggest_blob):\n",
        "\n",
        "  x_coords = np.where(blobs_labels==biggest_blob)[0]\n",
        "  y_coords = np.where(blobs_labels==biggest_blob)[1]\n",
        "\n",
        "  x_diff = np.max(x_coords) - np.min(x_coords)\n",
        "  x_centre = np.min(x_coords) + x_diff//2\n",
        "\n",
        "  y_diff = np.max(y_coords) - np.min(y_coords)\n",
        "  y_centre = np.min(y_coords) + y_diff//2\n",
        "\n",
        "  x_left = x_centre-20\n",
        "  y_top = y_centre-20\n",
        "\n",
        "  return x_centre, y_centre, x_left, y_top"
      ],
      "execution_count": null,
      "outputs": []
    },
    {
      "cell_type": "markdown",
      "metadata": {
        "id": "JCAkW9uEf8C2"
      },
      "source": [
        "### Create and display predicted mask bounding boxes"
      ]
    },
    {
      "cell_type": "code",
      "metadata": {
        "id": "nBRh8pRYhEY4"
      },
      "source": [
        "def get_random_xy(x_centre, y_centre):\n",
        "    rand_x = np.random.randint(x_centre - 40, x_centre) # always shows at least 5 pixels of an aneurysm\n",
        "    rand_y = np.random.randint(y_centre - 40, y_centre)\n",
        "\n",
        "    return rand_x, rand_y"
      ],
      "execution_count": null,
      "outputs": []
    },
    {
      "cell_type": "code",
      "metadata": {
        "id": "S9ZhBBeBgAfM",
        "colab": {
          "base_uri": "https://localhost:8080/",
          "height": 355
        },
        "outputId": "71b96e79-a6b1-4288-e1d4-e32391ef5062"
      },
      "source": [
        "# iterate through all predicted masks and create bounding boxes\n",
        "\n",
        "# for i in range(test_preds.shape[0]):\n",
        "\n",
        "i = 1\n",
        "\n",
        "plt.figure(figsize=(20,10))\n",
        "\n",
        "test_pred = test_preds[i].reshape((256,256))\n",
        "\n",
        "plt.subplot(1,4,1)\n",
        "plt.imshow(test_pred, cmap='gray')\n",
        "plt.title('Predicted mask'.format(threshold), size=18)\n",
        "plt.xticks(size=12)\n",
        "plt.yticks(size=12)\n",
        "\n",
        "blobs_labels = get_blobs_labels(test_pred)\n",
        "\n",
        "plt.subplot(1,4,2)\n",
        "plt.imshow(blobs_labels, cmap='gray')\n",
        "plt.title('Result of applying \\n Gaussian filter', size=18)\n",
        "plt.xticks(size=12)\n",
        "plt.yticks(size=12)\n",
        "\n",
        "biggest_blob = get_biggest_blob(blobs_labels)\n",
        "\n",
        "a = rescale_intensity(test_pred) # image\n",
        "b = (blobs_labels == biggest_blob) # mask\n",
        "plt.subplot(1,4,3)\n",
        "plt.imshow(mark_boundaries(a,b, mode='thick')) # display image with mask overlaid\n",
        "plt.title('Predicted mask with \\n result of Gaussian filter \\n overlaid in yellow ', size=18)\n",
        "plt.xticks(size=12)\n",
        "plt.yticks(size=12)\n",
        "\n",
        "x_centre, y_centre, x_left, y_top = get_bounding_box1(test_pred, blobs_labels, biggest_blob)\n",
        "bbox1 = test_pred[x_left:x_left+40, y_top:y_top+40]\n",
        "\n",
        "plt.subplot(1,4,4)\n",
        "plt.imshow(bbox1,cmap='gray')\n",
        "plt.title('40x40 bounding box \\n centred at central pixel of \\n predicted aneurysm area', size=18)\n",
        "plt.xticks(size=12)\n",
        "plt.yticks(size=12)\n",
        "\n",
        "rand_x, rand_y = get_random_xy(x_centre, y_centre)\n",
        "bbox2 = test_pred[rand_x:rand_x+40, rand_y:rand_y+40]\n",
        "\n",
        "rand_x, rand_y = get_random_xy(x_centre, y_centre)\n",
        "bbox3 = test_pred[rand_x:rand_x+40, rand_y:rand_y+40]\n",
        "\n",
        "rand_x, rand_y = get_random_xy(x_centre, y_centre)\n",
        "bbox4 = test_pred[rand_x:rand_x+40, rand_y:rand_y+40]\n",
        "\n",
        "rand_x, rand_y = get_random_xy(x_centre, y_centre)\n",
        "bbox5 = test_pred[rand_x:rand_x+40, rand_y:rand_y+40]"
      ],
      "execution_count": null,
      "outputs": [
        {
          "output_type": "display_data",
          "data": {
            "image/png": "[encoded data removed]",
            "text/plain": [
              "<Figure size 1440x720 with 4 Axes>"
            ]
          },
          "metadata": {
            "needs_background": "light"
          }
        }
      ]
    },
    {
      "cell_type": "code",
      "metadata": {
        "colab": {
          "base_uri": "https://localhost:8080/",
          "height": 368
        },
        "id": "eM1LNboY6m0J",
        "outputId": "391b80cb-4c14-4308-c1a7-0218164423be"
      },
      "source": [
        "plt.figure(figsize=(20,10))\n",
        "\n",
        "plt.subplot(1,4,1)\n",
        "plt.imshow(bbox2,cmap='gray')\n",
        "plt.title('Randomly-positioned \\n bounding box 1', size=18)\n",
        "plt.xticks(size=12)\n",
        "plt.yticks(size=12)\n",
        "\n",
        "plt.subplot(1,4,2)\n",
        "plt.imshow(bbox3,cmap='gray')\n",
        "plt.title('Randomly-positioned \\n bounding box 2', size=18)\n",
        "plt.xticks(size=12)\n",
        "plt.yticks(size=12)\n",
        "\n",
        "plt.subplot(1,4,3)\n",
        "plt.imshow(bbox4,cmap='gray')\n",
        "plt.title('Randomly-positioned \\n bounding box 3', size=18)\n",
        "plt.xticks(size=12)\n",
        "plt.yticks(size=12)\n",
        "\n",
        "plt.subplot(1,4,4)\n",
        "plt.imshow(bbox5,cmap='gray')\n",
        "plt.title('Randomly-positioned \\n bounding box 4', size=18)\n",
        "plt.xticks(size=12)\n",
        "plt.yticks(size=12)"
      ],
      "execution_count": null,
      "outputs": [
        {
          "output_type": "execute_result",
          "data": {
            "text/plain": [
              "(array([-5.,  0.,  5., 10., 15., 20., 25., 30., 35., 40.]),\n",
              " <a list of 10 Text major ticklabel objects>)"
            ]
          },
          "metadata": {},
          "execution_count": 106
        },
        {
          "output_type": "display_data",
          "data": {
            "image/png": "[encoded data removed]",
            "text/plain": [
              "<Figure size 1440x720 with 4 Axes>"
            ]
          },
          "metadata": {
            "needs_background": "light"
          }
        }
      ]
    },
    {
      "cell_type": "markdown",
      "metadata": {
        "id": "KvOv5zIigCmV"
      },
      "source": [
        "### Create bounding boxes for predicted masks, true masks and original images"
      ]
    },
    {
      "cell_type": "code",
      "metadata": {
        "id": "RQt6B3jkh--p"
      },
      "source": [
        "def crop_to_bbox1(img_array):\n",
        "  return img_array[x_left:x_left+40, y_top:y_top+40]\n",
        "\n",
        "def crop_to_bbox2(img_array):\n",
        "  return img_array[rand_x:rand_x+40, rand_y:rand_y+40]\n",
        "  \n",
        "def crop_to_bbox3(img_array):\n",
        "  return img_array[rand_x:rand_x+40, rand_y:rand_y+40]\n",
        "\n",
        "def crop_to_bbox4(img_array):\n",
        "  return img_array[rand_x:rand_x+40, rand_y:rand_y+40]\n",
        "\n",
        "def crop_to_bbox5(img_array):\n",
        "  return img_array[rand_x:rand_x+40, rand_y:rand_y+40]"
      ],
      "execution_count": null,
      "outputs": []
    },
    {
      "cell_type": "code",
      "metadata": {
        "colab": {
          "base_uri": "https://localhost:8080/",
          "height": 1000
        },
        "id": "_7bhuFNAMLws",
        "outputId": "6ff1757b-f946-41dd-fdeb-d89768f26116"
      },
      "source": [
        "# iterate through all predicted masks and create bounding boxes\n",
        "\n",
        "images_40x40 = []\n",
        "true_masks_40x40 = []\n",
        "pred_masks_40x40 = []\n",
        "\n",
        "for i in range(test_preds.shape[0]):\n",
        "\n",
        "  print(i)\n",
        "\n",
        "  plt.figure(figsize=(10,10))\n",
        "\n",
        "  test_pred = test_preds[i].reshape((256,256))\n",
        "  test_image = numpy_images[i] # (256, 256, 3)\n",
        "  test_mask = numpy_masks[i]\n",
        "\n",
        "  blobs_labels = get_blobs_labels(test_pred)\n",
        "\n",
        "  biggest_blob = get_biggest_blob(blobs_labels)\n",
        "\n",
        "  a = rescale_intensity(test_pred) # image\n",
        "  b = (blobs_labels == biggest_blob) # mask\n",
        "\n",
        "  x_centre, y_centre, x_left, y_top = get_bounding_box1(test_pred, blobs_labels, biggest_blob)\n",
        "  bbox1 = crop_to_bbox1(test_pred)\n",
        "  pred_masks_40x40.append(bbox1)\n",
        "  img_box1 = crop_to_bbox1(test_image)\n",
        "  images_40x40.append(img_box1)\n",
        "  mask_box1 = crop_to_bbox1(test_mask)\n",
        "  true_masks_40x40.append(mask_box1)\n",
        "\n",
        "  rand_x, rand_y = get_random_xy(x_centre, y_centre)\n",
        "  bbox2 = crop_to_bbox2(test_pred)\n",
        "  pred_masks_40x40.append(bbox2)\n",
        "  img_box2 = crop_to_bbox2(test_image)\n",
        "  images_40x40.append(img_box2)\n",
        "  mask_box2 = crop_to_bbox2(test_mask)\n",
        "  true_masks_40x40.append(mask_box2)\n",
        "\n",
        "  rand_x, rand_y = get_random_xy(x_centre, y_centre)\n",
        "  bbox3 = crop_to_bbox3(test_pred)\n",
        "  pred_masks_40x40.append(bbox3)\n",
        "  img_box3 = crop_to_bbox3(test_image)\n",
        "  images_40x40.append(img_box3)\n",
        "  mask_box3 = crop_to_bbox3(test_mask)\n",
        "  true_masks_40x40.append(mask_box3)\n",
        "\n",
        "  rand_x, rand_y = get_random_xy(x_centre, y_centre)\n",
        "  bbox4 = crop_to_bbox4(test_pred)\n",
        "  pred_masks_40x40.append(bbox4)\n",
        "  img_box4 = crop_to_bbox4(test_image)\n",
        "  images_40x40.append(img_box4)\n",
        "  mask_box4 = crop_to_bbox4(test_mask)\n",
        "  true_masks_40x40.append(mask_box4)\n",
        "\n",
        "  rand_x, rand_y = get_random_xy(x_centre, y_centre)\n",
        "  bbox5 = crop_to_bbox5(test_pred)\n",
        "  pred_masks_40x40.append(bbox5)\n",
        "  img_box5 = crop_to_bbox5(test_image)\n",
        "  images_40x40.append(img_box5)\n",
        "  mask_box5 = crop_to_bbox5(test_mask)\n",
        "  true_masks_40x40.append(mask_box5)\n",
        "\n",
        "  for j, img_box in enumerate([img_box1, img_box2, img_box3, img_box4, img_box5]):\n",
        "    if img_box.shape != (40,40,3):\n",
        "      print('Image number: {}, Box number: {}'.format(i,j))\n",
        "\n",
        "\n"
      ],
      "execution_count": null,
      "outputs": [
        {
          "output_type": "stream",
          "text": [
            "0\n",
            "1\n",
            "2\n",
            "False\n",
            "False\n",
            "False\n",
            "False\n",
            "False\n",
            "3\n",
            "4\n",
            "5\n",
            "6\n",
            "7\n",
            "8\n",
            "9\n",
            "10\n",
            "False\n",
            "False\n",
            "False\n",
            "False\n",
            "11\n",
            "12\n",
            "13\n",
            "14\n",
            "15\n",
            "16\n",
            "17\n",
            "18\n",
            "19\n",
            "20\n",
            "21\n",
            "22\n",
            "23\n",
            "24\n",
            "25\n",
            "26\n",
            "27\n",
            "28\n",
            "29\n",
            "30\n",
            "31\n",
            "32\n",
            "False\n",
            "False\n",
            "33\n",
            "34\n",
            "35\n",
            "36\n",
            "37\n"
          ],
          "name": "stdout"
        },
        {
          "output_type": "stream",
          "text": [
            "/usr/local/lib/python3.7/dist-packages/ipykernel_launcher.py:11: RuntimeWarning: More than 20 figures have been opened. Figures created through the pyplot interface (`matplotlib.pyplot.figure`) are retained until explicitly closed and may consume too much memory. (To control this warning, see the rcParam `figure.max_open_warning`).\n",
            "  # This is added back by InteractiveShellApp.init_path()\n"
          ],
          "name": "stderr"
        },
        {
          "output_type": "stream",
          "text": [
            "38\n",
            "39\n",
            "40\n",
            "41\n",
            "42\n",
            "43\n",
            "44\n",
            "45\n",
            "46\n",
            "47\n",
            "48\n",
            "49\n",
            "False\n",
            "False\n",
            "50\n",
            "51\n",
            "52\n",
            "53\n",
            "54\n",
            "55\n",
            "56\n",
            "57\n",
            "58\n",
            "59\n",
            "60\n",
            "61\n",
            "62\n",
            "63\n",
            "64\n",
            "65\n",
            "66\n",
            "67\n",
            "68\n",
            "69\n",
            "False\n",
            "False\n",
            "False\n",
            "False\n",
            "70\n",
            "71\n",
            "72\n",
            "73\n",
            "74\n",
            "75\n",
            "76\n",
            "77\n",
            "78\n",
            "79\n",
            "80\n",
            "81\n",
            "82\n",
            "83\n",
            "84\n",
            "85\n",
            "86\n"
          ],
          "name": "stdout"
        },
        {
          "output_type": "display_data",
          "data": {
            "text/plain": [
              "<Figure size 720x720 with 0 Axes>"
            ]
          },
          "metadata": {}
        },
        {
          "output_type": "display_data",
          "data": {
            "text/plain": [
              "<Figure size 720x720 with 0 Axes>"
            ]
          },
          "metadata": {}
        },
        {
          "output_type": "display_data",
          "data": {
            "text/plain": [
              "<Figure size 720x720 with 0 Axes>"
            ]
          },
          "metadata": {}
        },
        {
          "output_type": "display_data",
          "data": {
            "text/plain": [
              "<Figure size 720x720 with 0 Axes>"
            ]
          },
          "metadata": {}
        },
        {
          "output_type": "display_data",
          "data": {
            "text/plain": [
              "<Figure size 720x720 with 0 Axes>"
            ]
          },
          "metadata": {}
        },
        {
          "output_type": "display_data",
          "data": {
            "text/plain": [
              "<Figure size 720x720 with 0 Axes>"
            ]
          },
          "metadata": {}
        },
        {
          "output_type": "display_data",
          "data": {
            "text/plain": [
              "<Figure size 720x720 with 0 Axes>"
            ]
          },
          "metadata": {}
        },
        {
          "output_type": "display_data",
          "data": {
            "text/plain": [
              "<Figure size 720x720 with 0 Axes>"
            ]
          },
          "metadata": {}
        },
        {
          "output_type": "display_data",
          "data": {
            "text/plain": [
              "<Figure size 720x720 with 0 Axes>"
            ]
          },
          "metadata": {}
        },
        {
          "output_type": "display_data",
          "data": {
            "text/plain": [
              "<Figure size 720x720 with 0 Axes>"
            ]
          },
          "metadata": {}
        },
        {
          "output_type": "display_data",
          "data": {
            "text/plain": [
              "<Figure size 720x720 with 0 Axes>"
            ]
          },
          "metadata": {}
        },
        {
          "output_type": "display_data",
          "data": {
            "text/plain": [
              "<Figure size 720x720 with 0 Axes>"
            ]
          },
          "metadata": {}
        },
        {
          "output_type": "display_data",
          "data": {
            "text/plain": [
              "<Figure size 720x720 with 0 Axes>"
            ]
          },
          "metadata": {}
        },
        {
          "output_type": "display_data",
          "data": {
            "text/plain": [
              "<Figure size 720x720 with 0 Axes>"
            ]
          },
          "metadata": {}
        },
        {
          "output_type": "display_data",
          "data": {
            "text/plain": [
              "<Figure size 720x720 with 0 Axes>"
            ]
          },
          "metadata": {}
        },
        {
          "output_type": "display_data",
          "data": {
            "text/plain": [
              "<Figure size 720x720 with 0 Axes>"
            ]
          },
          "metadata": {}
        },
        {
          "output_type": "display_data",
          "data": {
            "text/plain": [
              "<Figure size 720x720 with 0 Axes>"
            ]
          },
          "metadata": {}
        },
        {
          "output_type": "display_data",
          "data": {
            "text/plain": [
              "<Figure size 720x720 with 0 Axes>"
            ]
          },
          "metadata": {}
        },
        {
          "output_type": "display_data",
          "data": {
            "text/plain": [
              "<Figure size 720x720 with 0 Axes>"
            ]
          },
          "metadata": {}
        },
        {
          "output_type": "display_data",
          "data": {
            "text/plain": [
              "<Figure size 720x720 with 0 Axes>"
            ]
          },
          "metadata": {}
        },
        {
          "output_type": "display_data",
          "data": {
            "text/plain": [
              "<Figure size 720x720 with 0 Axes>"
            ]
          },
          "metadata": {}
        },
        {
          "output_type": "display_data",
          "data": {
            "text/plain": [
              "<Figure size 720x720 with 0 Axes>"
            ]
          },
          "metadata": {}
        },
        {
          "output_type": "display_data",
          "data": {
            "text/plain": [
              "<Figure size 720x720 with 0 Axes>"
            ]
          },
          "metadata": {}
        },
        {
          "output_type": "display_data",
          "data": {
            "text/plain": [
              "<Figure size 720x720 with 0 Axes>"
            ]
          },
          "metadata": {}
        },
        {
          "output_type": "display_data",
          "data": {
            "text/plain": [
              "<Figure size 720x720 with 0 Axes>"
            ]
          },
          "metadata": {}
        },
        {
          "output_type": "display_data",
          "data": {
            "text/plain": [
              "<Figure size 720x720 with 0 Axes>"
            ]
          },
          "metadata": {}
        },
        {
          "output_type": "display_data",
          "data": {
            "text/plain": [
              "<Figure size 720x720 with 0 Axes>"
            ]
          },
          "metadata": {}
        },
        {
          "output_type": "display_data",
          "data": {
            "text/plain": [
              "<Figure size 720x720 with 0 Axes>"
            ]
          },
          "metadata": {}
        },
        {
          "output_type": "display_data",
          "data": {
            "text/plain": [
              "<Figure size 720x720 with 0 Axes>"
            ]
          },
          "metadata": {}
        },
        {
          "output_type": "display_data",
          "data": {
            "text/plain": [
              "<Figure size 720x720 with 0 Axes>"
            ]
          },
          "metadata": {}
        },
        {
          "output_type": "display_data",
          "data": {
            "text/plain": [
              "<Figure size 720x720 with 0 Axes>"
            ]
          },
          "metadata": {}
        },
        {
          "output_type": "display_data",
          "data": {
            "text/plain": [
              "<Figure size 720x720 with 0 Axes>"
            ]
          },
          "metadata": {}
        },
        {
          "output_type": "display_data",
          "data": {
            "text/plain": [
              "<Figure size 720x720 with 0 Axes>"
            ]
          },
          "metadata": {}
        },
        {
          "output_type": "display_data",
          "data": {
            "text/plain": [
              "<Figure size 720x720 with 0 Axes>"
            ]
          },
          "metadata": {}
        },
        {
          "output_type": "display_data",
          "data": {
            "text/plain": [
              "<Figure size 720x720 with 0 Axes>"
            ]
          },
          "metadata": {}
        },
        {
          "output_type": "display_data",
          "data": {
            "text/plain": [
              "<Figure size 720x720 with 0 Axes>"
            ]
          },
          "metadata": {}
        },
        {
          "output_type": "display_data",
          "data": {
            "text/plain": [
              "<Figure size 720x720 with 0 Axes>"
            ]
          },
          "metadata": {}
        },
        {
          "output_type": "display_data",
          "data": {
            "text/plain": [
              "<Figure size 720x720 with 0 Axes>"
            ]
          },
          "metadata": {}
        },
        {
          "output_type": "display_data",
          "data": {
            "text/plain": [
              "<Figure size 720x720 with 0 Axes>"
            ]
          },
          "metadata": {}
        },
        {
          "output_type": "display_data",
          "data": {
            "text/plain": [
              "<Figure size 720x720 with 0 Axes>"
            ]
          },
          "metadata": {}
        },
        {
          "output_type": "display_data",
          "data": {
            "text/plain": [
              "<Figure size 720x720 with 0 Axes>"
            ]
          },
          "metadata": {}
        },
        {
          "output_type": "display_data",
          "data": {
            "text/plain": [
              "<Figure size 720x720 with 0 Axes>"
            ]
          },
          "metadata": {}
        },
        {
          "output_type": "display_data",
          "data": {
            "text/plain": [
              "<Figure size 720x720 with 0 Axes>"
            ]
          },
          "metadata": {}
        },
        {
          "output_type": "display_data",
          "data": {
            "text/plain": [
              "<Figure size 720x720 with 0 Axes>"
            ]
          },
          "metadata": {}
        },
        {
          "output_type": "display_data",
          "data": {
            "text/plain": [
              "<Figure size 720x720 with 0 Axes>"
            ]
          },
          "metadata": {}
        },
        {
          "output_type": "display_data",
          "data": {
            "text/plain": [
              "<Figure size 720x720 with 0 Axes>"
            ]
          },
          "metadata": {}
        },
        {
          "output_type": "display_data",
          "data": {
            "text/plain": [
              "<Figure size 720x720 with 0 Axes>"
            ]
          },
          "metadata": {}
        },
        {
          "output_type": "display_data",
          "data": {
            "text/plain": [
              "<Figure size 720x720 with 0 Axes>"
            ]
          },
          "metadata": {}
        },
        {
          "output_type": "display_data",
          "data": {
            "text/plain": [
              "<Figure size 720x720 with 0 Axes>"
            ]
          },
          "metadata": {}
        },
        {
          "output_type": "display_data",
          "data": {
            "text/plain": [
              "<Figure size 720x720 with 0 Axes>"
            ]
          },
          "metadata": {}
        },
        {
          "output_type": "display_data",
          "data": {
            "text/plain": [
              "<Figure size 720x720 with 0 Axes>"
            ]
          },
          "metadata": {}
        },
        {
          "output_type": "display_data",
          "data": {
            "text/plain": [
              "<Figure size 720x720 with 0 Axes>"
            ]
          },
          "metadata": {}
        },
        {
          "output_type": "display_data",
          "data": {
            "text/plain": [
              "<Figure size 720x720 with 0 Axes>"
            ]
          },
          "metadata": {}
        },
        {
          "output_type": "display_data",
          "data": {
            "text/plain": [
              "<Figure size 720x720 with 0 Axes>"
            ]
          },
          "metadata": {}
        },
        {
          "output_type": "display_data",
          "data": {
            "text/plain": [
              "<Figure size 720x720 with 0 Axes>"
            ]
          },
          "metadata": {}
        },
        {
          "output_type": "display_data",
          "data": {
            "text/plain": [
              "<Figure size 720x720 with 0 Axes>"
            ]
          },
          "metadata": {}
        },
        {
          "output_type": "display_data",
          "data": {
            "text/plain": [
              "<Figure size 720x720 with 0 Axes>"
            ]
          },
          "metadata": {}
        },
        {
          "output_type": "display_data",
          "data": {
            "text/plain": [
              "<Figure size 720x720 with 0 Axes>"
            ]
          },
          "metadata": {}
        },
        {
          "output_type": "display_data",
          "data": {
            "text/plain": [
              "<Figure size 720x720 with 0 Axes>"
            ]
          },
          "metadata": {}
        },
        {
          "output_type": "display_data",
          "data": {
            "text/plain": [
              "<Figure size 720x720 with 0 Axes>"
            ]
          },
          "metadata": {}
        },
        {
          "output_type": "display_data",
          "data": {
            "text/plain": [
              "<Figure size 720x720 with 0 Axes>"
            ]
          },
          "metadata": {}
        },
        {
          "output_type": "display_data",
          "data": {
            "text/plain": [
              "<Figure size 720x720 with 0 Axes>"
            ]
          },
          "metadata": {}
        },
        {
          "output_type": "display_data",
          "data": {
            "text/plain": [
              "<Figure size 720x720 with 0 Axes>"
            ]
          },
          "metadata": {}
        },
        {
          "output_type": "display_data",
          "data": {
            "text/plain": [
              "<Figure size 720x720 with 0 Axes>"
            ]
          },
          "metadata": {}
        },
        {
          "output_type": "display_data",
          "data": {
            "text/plain": [
              "<Figure size 720x720 with 0 Axes>"
            ]
          },
          "metadata": {}
        },
        {
          "output_type": "display_data",
          "data": {
            "text/plain": [
              "<Figure size 720x720 with 0 Axes>"
            ]
          },
          "metadata": {}
        },
        {
          "output_type": "display_data",
          "data": {
            "text/plain": [
              "<Figure size 720x720 with 0 Axes>"
            ]
          },
          "metadata": {}
        },
        {
          "output_type": "display_data",
          "data": {
            "text/plain": [
              "<Figure size 720x720 with 0 Axes>"
            ]
          },
          "metadata": {}
        },
        {
          "output_type": "display_data",
          "data": {
            "text/plain": [
              "<Figure size 720x720 with 0 Axes>"
            ]
          },
          "metadata": {}
        },
        {
          "output_type": "display_data",
          "data": {
            "text/plain": [
              "<Figure size 720x720 with 0 Axes>"
            ]
          },
          "metadata": {}
        },
        {
          "output_type": "display_data",
          "data": {
            "text/plain": [
              "<Figure size 720x720 with 0 Axes>"
            ]
          },
          "metadata": {}
        },
        {
          "output_type": "display_data",
          "data": {
            "text/plain": [
              "<Figure size 720x720 with 0 Axes>"
            ]
          },
          "metadata": {}
        },
        {
          "output_type": "display_data",
          "data": {
            "text/plain": [
              "<Figure size 720x720 with 0 Axes>"
            ]
          },
          "metadata": {}
        },
        {
          "output_type": "display_data",
          "data": {
            "text/plain": [
              "<Figure size 720x720 with 0 Axes>"
            ]
          },
          "metadata": {}
        },
        {
          "output_type": "display_data",
          "data": {
            "text/plain": [
              "<Figure size 720x720 with 0 Axes>"
            ]
          },
          "metadata": {}
        },
        {
          "output_type": "display_data",
          "data": {
            "text/plain": [
              "<Figure size 720x720 with 0 Axes>"
            ]
          },
          "metadata": {}
        },
        {
          "output_type": "display_data",
          "data": {
            "text/plain": [
              "<Figure size 720x720 with 0 Axes>"
            ]
          },
          "metadata": {}
        },
        {
          "output_type": "display_data",
          "data": {
            "text/plain": [
              "<Figure size 720x720 with 0 Axes>"
            ]
          },
          "metadata": {}
        },
        {
          "output_type": "display_data",
          "data": {
            "text/plain": [
              "<Figure size 720x720 with 0 Axes>"
            ]
          },
          "metadata": {}
        },
        {
          "output_type": "display_data",
          "data": {
            "text/plain": [
              "<Figure size 720x720 with 0 Axes>"
            ]
          },
          "metadata": {}
        },
        {
          "output_type": "display_data",
          "data": {
            "text/plain": [
              "<Figure size 720x720 with 0 Axes>"
            ]
          },
          "metadata": {}
        },
        {
          "output_type": "display_data",
          "data": {
            "text/plain": [
              "<Figure size 720x720 with 0 Axes>"
            ]
          },
          "metadata": {}
        },
        {
          "output_type": "display_data",
          "data": {
            "text/plain": [
              "<Figure size 720x720 with 0 Axes>"
            ]
          },
          "metadata": {}
        },
        {
          "output_type": "display_data",
          "data": {
            "text/plain": [
              "<Figure size 720x720 with 0 Axes>"
            ]
          },
          "metadata": {}
        },
        {
          "output_type": "display_data",
          "data": {
            "text/plain": [
              "<Figure size 720x720 with 0 Axes>"
            ]
          },
          "metadata": {}
        },
        {
          "output_type": "display_data",
          "data": {
            "text/plain": [
              "<Figure size 720x720 with 0 Axes>"
            ]
          },
          "metadata": {}
        },
        {
          "output_type": "display_data",
          "data": {
            "text/plain": [
              "<Figure size 720x720 with 0 Axes>"
            ]
          },
          "metadata": {}
        }
      ]
    },
    {
      "cell_type": "code",
      "metadata": {
        "colab": {
          "base_uri": "https://localhost:8080/",
          "height": 366
        },
        "id": "103NFmwgEJ8M",
        "outputId": "56868996-fd95-487c-b9f9-fb8eba91df58"
      },
      "source": [
        "img_num = 5\n",
        "\n",
        "plt.figure(figsize=(15,10))\n",
        "\n",
        "plt.subplot(1,3,1)\n",
        "plt.imshow(pred_masks_40x40[img_num], cmap='gray')\n",
        "plt.title('Bounding box mask \\n predicted in step 1', size=16)\n",
        "plt.xticks(size=12)\n",
        "plt.yticks(size=12)\n",
        "\n",
        "plt.subplot(1,3,2)\n",
        "plt.imshow(images_40x40[img_num])\n",
        "plt.title('Corresponding patch \\n of original image', size=16)\n",
        "plt.xticks(size=12)\n",
        "plt.yticks(size=12)\n",
        "\n",
        "plt.subplot(1,3,3)\n",
        "plt.imshow(true_masks_40x40[img_num], cmap='gray')\n",
        "plt.title('Corresponding patch \\n of true mask', size=16)\n",
        "plt.xticks(size=12)\n",
        "plt.yticks(size=12)\n",
        "\n"
      ],
      "execution_count": null,
      "outputs": [
        {
          "output_type": "execute_result",
          "data": {
            "text/plain": [
              "(array([-5.,  0.,  5., 10., 15., 20., 25., 30., 35., 40.]),\n",
              " <a list of 10 Text major ticklabel objects>)"
            ]
          },
          "metadata": {},
          "execution_count": 124
        },
        {
          "output_type": "display_data",
          "data": {
            "image/png": "[encoded data removed]",
            "text/plain": [
              "<Figure size 1080x720 with 3 Axes>"
            ]
          },
          "metadata": {
            "needs_background": "light"
          }
        }
      ]
    },
    {
      "cell_type": "markdown",
      "metadata": {
        "id": "bFIjNLCG-7c2"
      },
      "source": [
        "# Step 2 Model"
      ]
    },
    {
      "cell_type": "code",
      "metadata": {
        "id": "GkPOo96F-9V1"
      },
      "source": [
        "model2 = keras.models.load_model(\"/content/drive/My Drive/Masters Project/Vascular Segmentation/Model Weights/Step2 40x40 bounding box/lr=1e-3_l2(0.01).h5\", custom_objects={'dice_coef_loss': dice_coef_loss, 'dice_coef': dice_coef})"
      ],
      "execution_count": null,
      "outputs": []
    },
    {
      "cell_type": "code",
      "metadata": {
        "id": "y8VBPyk4LoAL"
      },
      "source": [
        "model2 = keras.models.load_model(\"/content/drive/My Drive/Masters Project/Vascular Segmentation/Model Weights/Step2 40x40 bounding box/v2/lr=1e-3_l2(0.01).h5\", custom_objects={'dice_coef_loss': dice_coef_loss, 'dice_coef': dice_coef})"
      ],
      "execution_count": null,
      "outputs": []
    },
    {
      "cell_type": "markdown",
      "metadata": {
        "id": "5WlszNGTANPm"
      },
      "source": [
        "# Evaluate step2"
      ]
    },
    {
      "cell_type": "code",
      "metadata": {
        "id": "OomTG7O__CEW",
        "colab": {
          "base_uri": "https://localhost:8080/"
        },
        "outputId": "e13ce98d-12dc-42d9-9f9b-d93c3ed47ee2"
      },
      "source": [
        "print('Predicting masks on test data...')\n",
        "\n",
        "test_preds2 = [model2.predict(tf.expand_dims(image, axis=[0])) for image in images_40x40]\n",
        "test_preds2 = np.concatenate(test_preds2)"
      ],
      "execution_count": null,
      "outputs": [
        {
          "output_type": "stream",
          "text": [
            "Predicting masks on test data...\n"
          ],
          "name": "stdout"
        }
      ]
    },
    {
      "cell_type": "code",
      "metadata": {
        "id": "_wJQLURImdcA"
      },
      "source": [
        "def compare_img_mask(img_num):\n",
        "\n",
        "  plt.figure(figsize=(15,10))\n",
        "\n",
        "  plt.subplot(1,3,1)\n",
        "  plt.imshow(images_40x40[img_num])\n",
        "  plt.title('Image patch \\n (input to step 2)', size=18)\n",
        "  plt.xticks(size=12)\n",
        "  plt.yticks(size=12)\n",
        "\n",
        "  plt.subplot(1,3,2)\n",
        "  plt.imshow(true_masks_40x40[img_num],CMAP='gray')\n",
        "  plt.title('Corresponding patch \\n of true mask', size=18)\n",
        "  plt.xticks(size=12)\n",
        "  plt.yticks(size=12)\n",
        "\n",
        "  dice_score = np.round(float(dice_coeff_dict2[img_num]),3)\n",
        "\n",
        "  plt.subplot(1,3,3)\n",
        "  plt.imshow(np.round(test_preds2[img_num].reshape((40,40))), cmap='gray')\n",
        "  plt.title('Predicted mask \\n Dice score = {}'.format(dice_score), size=18)\n",
        "  plt.xticks(size=12)\n",
        "  plt.yticks(size=12)"
      ],
      "execution_count": null,
      "outputs": []
    },
    {
      "cell_type": "markdown",
      "metadata": {
        "id": "s5jOcwLXQ5z8"
      },
      "source": [
        "## Evaluate all predictions"
      ]
    },
    {
      "cell_type": "markdown",
      "metadata": {
        "id": "Xjjr3GRKUK17"
      },
      "source": [
        "### Dice Score"
      ]
    },
    {
      "cell_type": "code",
      "metadata": {
        "colab": {
          "base_uri": "https://localhost:8080/"
        },
        "id": "HfSSE_e0NrIu",
        "outputId": "aef25505-075e-4d1d-a6e6-cafbf72fc3a1"
      },
      "source": [
        "# calculate dice coeff for each pair of true (test_masks) and predicted (test_preds) masks in the test set\n",
        "\n",
        "dice_coeff_list2 = []\n",
        "dice_coeff_dict2 = {}\n",
        "\n",
        "for i in range(len(true_masks_40x40)):\n",
        "  true_mask = true_masks_40x40[i]\n",
        "  pred_mask = test_preds2[i].reshape((40,40))\n",
        "  pred_mask = np.round(pred_mask)\n",
        "\n",
        "  dice_coeff = np.array(dice_coef(true_mask, pred_mask))\n",
        "  dice_coeff_list2.append(dice_coeff)\n",
        "  dice_coeff_dict2[i] = dice_coeff\n",
        "\n",
        "np.mean(dice_coeff_list2), np.std(dice_coeff_list2)"
      ],
      "execution_count": null,
      "outputs": [
        {
          "output_type": "execute_result",
          "data": {
            "text/plain": [
              "(0.299438, 0.42508426)"
            ]
          },
          "metadata": {},
          "execution_count": 36
        }
      ]
    },
    {
      "cell_type": "code",
      "metadata": {
        "colab": {
          "base_uri": "https://localhost:8080/",
          "height": 403
        },
        "id": "0-SK-AHbONw5",
        "outputId": "65f597e7-7b48-40d4-8600-0ec683ba157b"
      },
      "source": [
        "plt.figure(figsize=(7,5))\n",
        "\n",
        "plt.hist(dice_coeff_list2)\n",
        "plt.title('Distribution of Dice Coefficient \\n Scores over Test set', size=18)\n",
        "plt.xlabel('Dice Coefficient Score', size=18)\n",
        "plt.ylabel('Number of Images', size=18)\n",
        "plt.xticks(size=14)\n",
        "plt.yticks(size=14)\n",
        "plt.xlim([0,1])\n",
        "plt.ylim([0,350])"
      ],
      "execution_count": null,
      "outputs": [
        {
          "output_type": "execute_result",
          "data": {
            "text/plain": [
              "(0.0, 350.0)"
            ]
          },
          "metadata": {},
          "execution_count": 37
        },
        {
          "output_type": "display_data",
          "data": {
            "image/png": "[encoded data removed]",
            "text/plain": [
              "<Figure size 504x360 with 1 Axes>"
            ]
          },
          "metadata": {
            "needs_background": "light"
          }
        }
      ]
    },
    {
      "cell_type": "code",
      "metadata": {
        "colab": {
          "base_uri": "https://localhost:8080/"
        },
        "id": "qWMR7vB7HZmw",
        "outputId": "25ba2d37-e290-4990-854c-8c941b96a8fc"
      },
      "source": [
        "# create lists 'low' and 'high' that store indices of low and high scoring masks respectively\n",
        "\n",
        "low = []\n",
        "med = []\n",
        "high = []\n",
        "\n",
        "for key,val in dice_coeff_dict2.items():\n",
        "  if val<0.1:\n",
        "    low.append(key)\n",
        "  elif val<0.5 and val>0.3:\n",
        "    med.append(key)\n",
        "  elif val>0.5:\n",
        "    high.append(key)\n",
        "\n",
        "len(low), len(med), len(high)"
      ],
      "execution_count": null,
      "outputs": [
        {
          "output_type": "execute_result",
          "data": {
            "text/plain": [
              "(275, 19, 126)"
            ]
          },
          "metadata": {},
          "execution_count": 38
        }
      ]
    },
    {
      "cell_type": "code",
      "metadata": {
        "colab": {
          "base_uri": "https://localhost:8080/"
        },
        "id": "Ox_jN-KIO0R2",
        "outputId": "09a51fdc-53e5-42a9-cc1e-fcf7e3e0cf95"
      },
      "source": [
        "# how many predicted masks that score highly are actually empty?\n",
        "\n",
        "tot = 0\n",
        "\n",
        "for i, pred_mask in enumerate(test_preds2):\n",
        "  if np.any(test_preds2[i] != 0):\n",
        "    if i in high:\n",
        "      tot += 1\n",
        "\n",
        "print('Empty: {}, Not empty: {}'.format(len(high) - tot, tot))"
      ],
      "execution_count": null,
      "outputs": [
        {
          "output_type": "stream",
          "text": [
            "Empty: 65, Not empty: 61\n"
          ],
          "name": "stdout"
        }
      ]
    },
    {
      "cell_type": "code",
      "metadata": {
        "colab": {
          "base_uri": "https://localhost:8080/"
        },
        "id": "r_ZZLm50H6C1",
        "outputId": "62d1dad0-140a-4b2d-ec70-c757b0c58f50"
      },
      "source": [
        "med"
      ],
      "execution_count": null,
      "outputs": [
        {
          "output_type": "execute_result",
          "data": {
            "text/plain": [
              "[9, 33, 144, 151, 241, 286, 305, 364, 408, 409, 417]"
            ]
          },
          "metadata": {},
          "execution_count": 244
        }
      ]
    },
    {
      "cell_type": "code",
      "metadata": {
        "id": "XuKo9m_vOfcU"
      },
      "source": [
        "high"
      ],
      "execution_count": null,
      "outputs": []
    },
    {
      "cell_type": "code",
      "metadata": {
        "colab": {
          "base_uri": "https://localhost:8080/",
          "height": 338
        },
        "id": "HZlHqJBnHjjT",
        "outputId": "85681690-06e4-4cd1-b22c-9e18e246469b"
      },
      "source": [
        "compare_img_mask(406)"
      ],
      "execution_count": null,
      "outputs": [
        {
          "output_type": "display_data",
          "data": {
            "image/png": "[encoded data removed]",
            "text/plain": [
              "<Figure size 1080x720 with 3 Axes>"
            ]
          },
          "metadata": {
            "needs_background": "light"
          }
        }
      ]
    },
    {
      "cell_type": "markdown",
      "metadata": {
        "id": "gsCIXtarUTmr"
      },
      "source": [
        "### Hausdorff Distance"
      ]
    },
    {
      "cell_type": "code",
      "metadata": {
        "id": "rJlXUHHKUbYF"
      },
      "source": [
        "from scipy.spatial.distance import directed_hausdorff"
      ],
      "execution_count": null,
      "outputs": []
    },
    {
      "cell_type": "code",
      "metadata": {
        "colab": {
          "base_uri": "https://localhost:8080/"
        },
        "id": "mDjzvg-BUbac",
        "outputId": "2e775cba-925f-461f-9ff1-dfa4510a1f1b"
      },
      "source": [
        "hausdorff_list2 = []\n",
        "hausdorff_dict2 = {}\n",
        "\n",
        "for i in range(len(true_masks_40x40)):\n",
        "  true_mask = true_masks_40x40[i]\n",
        "  pred_mask = test_preds2[i].reshape((40,40))\n",
        "  pred_mask = np.round(pred_mask)\n",
        "\n",
        "  hausdorff = directed_hausdorff(true_mask, pred_mask)[0]\n",
        "  hausdorff_list2.append(hausdorff)\n",
        "  hausdorff_dict2[i] = hausdorff\n",
        "\n",
        "np.mean(hausdorff_list2), np.std(hausdorff_list2)"
      ],
      "execution_count": null,
      "outputs": [
        {
          "output_type": "execute_result",
          "data": {
            "text/plain": [
              "(0.5219744049507004, 0.7588271098513335)"
            ]
          },
          "metadata": {},
          "execution_count": 45
        }
      ]
    },
    {
      "cell_type": "code",
      "metadata": {
        "colab": {
          "base_uri": "https://localhost:8080/",
          "height": 403
        },
        "id": "8MCVhNoNUbc9",
        "outputId": "6fb92fae-3cfb-4645-8f73-006b1db657e0"
      },
      "source": [
        "plt.figure(figsize=(7,5))\n",
        "\n",
        "plt.hist(hausdorff_list2)\n",
        "plt.title('Distribution of Hausdorff Distances \\n over Test set', size=18)\n",
        "plt.xlabel('Hausdorff Distance', size=18)\n",
        "plt.ylabel('Number of Images', size=18)\n",
        "plt.xticks(size=14)\n",
        "plt.yticks(size=14)\n",
        "plt.xlim([0,4])\n",
        "plt.ylim([0,350])"
      ],
      "execution_count": null,
      "outputs": [
        {
          "output_type": "execute_result",
          "data": {
            "text/plain": [
              "(0.0, 350.0)"
            ]
          },
          "metadata": {},
          "execution_count": 46
        },
        {
          "output_type": "display_data",
          "data": {
            "image/png": "[encoded data removed]",
            "text/plain": [
              "<Figure size 504x360 with 1 Axes>"
            ]
          },
          "metadata": {
            "needs_background": "light"
          }
        }
      ]
    },
    {
      "cell_type": "markdown",
      "metadata": {
        "id": "mwr8qTG8Qoxw"
      },
      "source": [
        "## Evaluate non-empty masks only"
      ]
    },
    {
      "cell_type": "markdown",
      "metadata": {
        "id": "6UtCImj7UVoM"
      },
      "source": [
        "### Dice Score"
      ]
    },
    {
      "cell_type": "code",
      "metadata": {
        "colab": {
          "base_uri": "https://localhost:8080/"
        },
        "id": "H9eNSjPDQFkE",
        "outputId": "09b6aad0-933e-408a-827b-e0f6a49e157d"
      },
      "source": [
        "# calculate dice coeff only where true and predicted masks are non-empty\n",
        "\n",
        "dice_coeff_list3 = []\n",
        "dice_coeff_dict3 = {}\n",
        "tot = 0\n",
        "\n",
        "for i in range(len(true_masks_40x40)):\n",
        "  true_mask = true_masks_40x40[i]\n",
        "  pred_mask = test_preds2[i].reshape((40,40))\n",
        "  pred_mask = np.round(pred_mask)\n",
        "\n",
        "  if np.any(true_mask != 0) and np.any(pred_mask != 0):\n",
        "    tot += 1\n",
        "    dice_coeff = np.array(dice_coef(true_mask, pred_mask))\n",
        "    dice_coeff_list3.append(dice_coeff)\n",
        "    dice_coeff_dict3[i] = dice_coeff\n",
        "\n",
        "np.mean(dice_coeff_list3), np.std(dice_coeff_list3)"
      ],
      "execution_count": null,
      "outputs": [
        {
          "output_type": "execute_result",
          "data": {
            "text/plain": [
              "(0.26818973, 0.30701062)"
            ]
          },
          "metadata": {},
          "execution_count": 47
        }
      ]
    },
    {
      "cell_type": "code",
      "metadata": {
        "colab": {
          "base_uri": "https://localhost:8080/",
          "height": 424
        },
        "id": "zNhC3MTNQbKe",
        "outputId": "f9ddec1c-e409-40a9-a287-e6902422bfea"
      },
      "source": [
        "plt.figure(figsize=(7,5))\n",
        "\n",
        "plt.hist(dice_coeff_list3)\n",
        "plt.title('Distribution of Dice Coefficient \\n Scores over Test set \\n (non-empty masks only)', size=18)\n",
        "plt.xlabel('Dice Coefficient Score', size=18)\n",
        "plt.ylabel('Number of Images', size=18)\n",
        "plt.xticks(size=14)\n",
        "plt.yticks(size=14)\n",
        "plt.xlim([0,1])\n",
        "plt.ylim([0,80])"
      ],
      "execution_count": null,
      "outputs": [
        {
          "output_type": "execute_result",
          "data": {
            "text/plain": [
              "(0.0, 80.0)"
            ]
          },
          "metadata": {},
          "execution_count": 48
        },
        {
          "output_type": "display_data",
          "data": {
            "image/png": "[encoded data removed]",
            "text/plain": [
              "<Figure size 504x360 with 1 Axes>"
            ]
          },
          "metadata": {
            "needs_background": "light"
          }
        }
      ]
    },
    {
      "cell_type": "code",
      "metadata": {
        "colab": {
          "base_uri": "https://localhost:8080/"
        },
        "id": "fgAjqm2hQ_Sj",
        "outputId": "ea78d539-3aa9-4c8e-bb46-0962fad6c717"
      },
      "source": [
        "# create lists 'low' and 'high' that store indices of low and high scoring masks respectively\n",
        "\n",
        "low = []\n",
        "med = []\n",
        "high = []\n",
        "\n",
        "for key,val in dice_coeff_dict3.items():\n",
        "  if val<0.1:\n",
        "    low.append(key)\n",
        "  elif val<0.5 and val>0.3:\n",
        "    med.append(key)\n",
        "  elif val>0.5:\n",
        "    high.append(key)\n",
        "\n",
        "len(low), len(med), len(high)"
      ],
      "execution_count": null,
      "outputs": [
        {
          "output_type": "execute_result",
          "data": {
            "text/plain": [
              "(52, 11, 32)"
            ]
          },
          "metadata": {},
          "execution_count": 284
        }
      ]
    },
    {
      "cell_type": "code",
      "metadata": {
        "colab": {
          "base_uri": "https://localhost:8080/"
        },
        "id": "s6xc4-ZyRIMu",
        "outputId": "2e521cb1-0faa-4b7e-b905-9304789867ac"
      },
      "source": [
        "med"
      ],
      "execution_count": null,
      "outputs": [
        {
          "output_type": "execute_result",
          "data": {
            "text/plain": [
              "[9, 33, 144, 151, 241, 286, 305, 364, 408, 409, 417]"
            ]
          },
          "metadata": {},
          "execution_count": 285
        }
      ]
    },
    {
      "cell_type": "code",
      "metadata": {
        "colab": {
          "base_uri": "https://localhost:8080/"
        },
        "id": "LoRn_7RoRJEA",
        "outputId": "b7834a5c-2b7f-41b4-fa8f-bfc3f5befb1d"
      },
      "source": [
        "high"
      ],
      "execution_count": null,
      "outputs": [
        {
          "output_type": "execute_result",
          "data": {
            "text/plain": [
              "[12,\n",
              " 97,\n",
              " 122,\n",
              " 143,\n",
              " 145,\n",
              " 146,\n",
              " 148,\n",
              " 149,\n",
              " 240,\n",
              " 242,\n",
              " 244,\n",
              " 265,\n",
              " 266,\n",
              " 267,\n",
              " 268,\n",
              " 269,\n",
              " 289,\n",
              " 345,\n",
              " 346,\n",
              " 347,\n",
              " 348,\n",
              " 352,\n",
              " 365,\n",
              " 366,\n",
              " 367,\n",
              " 369,\n",
              " 380,\n",
              " 381,\n",
              " 382,\n",
              " 383,\n",
              " 406,\n",
              " 415]"
            ]
          },
          "metadata": {},
          "execution_count": 286
        }
      ]
    },
    {
      "cell_type": "code",
      "metadata": {
        "colab": {
          "base_uri": "https://localhost:8080/",
          "height": 338
        },
        "id": "7dSN70HpRJ19",
        "outputId": "11ef1f93-7036-4904-bacf-a833fb3ba111"
      },
      "source": [
        "compare_img_mask(143)"
      ],
      "execution_count": null,
      "outputs": [
        {
          "output_type": "display_data",
          "data": {
            "image/png": "[encoded data removed]",
            "text/plain": [
              "<Figure size 1080x720 with 3 Axes>"
            ]
          },
          "metadata": {
            "needs_background": "light"
          }
        }
      ]
    },
    {
      "cell_type": "markdown",
      "metadata": {
        "id": "eoJgu3kkUXq8"
      },
      "source": [
        "### Hausdorff Distance"
      ]
    },
    {
      "cell_type": "code",
      "metadata": {
        "colab": {
          "base_uri": "https://localhost:8080/"
        },
        "id": "Bz7lTrbXUZPk",
        "outputId": "35a81a19-5720-4949-c568-ab39223e4319"
      },
      "source": [
        "hausdorff_list3 = []\n",
        "hausdorff_dict3 = {}\n",
        "tot = 0\n",
        "\n",
        "for i in range(len(true_masks_40x40)):\n",
        "  true_mask = true_masks_40x40[i]\n",
        "  pred_mask = test_preds2[i].reshape((40,40))\n",
        "  pred_mask = np.round(pred_mask)\n",
        "\n",
        "  if np.any(true_mask != 0) and np.any(pred_mask != 0):\n",
        "    tot += 1\n",
        "    hausdorff = directed_hausdorff(true_mask, pred_mask)[0]\n",
        "    hausdorff_list3.append(hausdorff)\n",
        "    hausdorff_dict3[i] = hausdorff\n",
        "\n",
        "np.mean(hausdorff_list3), np.std(hausdorff_list3)"
      ],
      "execution_count": null,
      "outputs": [
        {
          "output_type": "execute_result",
          "data": {
            "text/plain": [
              "(1.2960301295688819, 0.5505129643698882)"
            ]
          },
          "metadata": {},
          "execution_count": 300
        }
      ]
    },
    {
      "cell_type": "code",
      "metadata": {
        "colab": {
          "base_uri": "https://localhost:8080/",
          "height": 424
        },
        "id": "7yFNq7l4UZUL",
        "outputId": "6fb54bf7-c149-4613-a69d-fb88dde26b36"
      },
      "source": [
        "plt.figure(figsize=(7,5))\n",
        "\n",
        "plt.hist(hausdorff_list3)\n",
        "plt.title('Distribution of Hausdorff Distances \\n over Test set \\n (non-empty masks only)', size=18)\n",
        "plt.xlabel('Hausdorff Distance', size=18)\n",
        "plt.ylabel('Number of Images', size=18)\n",
        "plt.xticks(size=14)\n",
        "plt.yticks(size=14)\n",
        "plt.xlim([0,4])\n",
        "plt.ylim([0,60])"
      ],
      "execution_count": null,
      "outputs": [
        {
          "output_type": "execute_result",
          "data": {
            "text/plain": [
              "(0.0, 60.0)"
            ]
          },
          "metadata": {},
          "execution_count": 313
        },
        {
          "output_type": "display_data",
          "data": {
            "image/png": "[encoded data removed]",
            "text/plain": [
              "<Figure size 504x360 with 1 Axes>"
            ]
          },
          "metadata": {
            "needs_background": "light"
          }
        }
      ]
    }
  ]
}