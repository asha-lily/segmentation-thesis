{
  "nbformat": 4,
  "nbformat_minor": 0,
  "metadata": {
    "accelerator": "TPU",
    "colab": {
      "name": "Step2_40_bounding_box.ipynb",
      "provenance": [],
      "collapsed_sections": [
        "4DH_GSd2HqAM",
        "I88pvrA_dDrl",
        "kAOERs-_CsGM",
        "yaItKqOddymr",
        "scZZ5aT4e1__",
        "Z7ihrOWQd_TN",
        "k20tQHsIeI5G",
        "cMXplGjKeObf",
        "VtvGbpMDhJk1",
        "Zsc_mXBREdZI",
        "O5vlJvSphR1F",
        "8jfGh1tzqOV8",
        "l1bs79hMqWzt"
      ]
    },
    "kernelspec": {
      "display_name": "Python 3",
      "name": "python3"
    },
    "language_info": {
      "name": "python"
    },
    "widgets": {
      "application/vnd.jupyter.widget-state+json": {
        "9fc58d415f43421c8471f698dcff4217": {
          "model_module": "@jupyter-widgets/controls",
          "model_name": "HBoxModel",
          "model_module_version": "1.5.0",
          "state": {
            "_view_name": "HBoxView",
            "_dom_classes": [],
            "_model_name": "HBoxModel",
            "_view_module": "@jupyter-widgets/controls",
            "_model_module_version": "1.5.0",
            "_view_count": null,
            "_view_module_version": "1.5.0",
            "box_style": "",
            "layout": "IPY_MODEL_67a392e17a394365a4610a3dab0fde11",
            "_model_module": "@jupyter-widgets/controls",
            "children": [
              "IPY_MODEL_3753d639fea44241bbfce13cadfebe48",
              "IPY_MODEL_a4a3501d0e3b49a5a688d64485069427",
              "IPY_MODEL_3aa2fc711e4f4afaa982a866729f7a0a"
            ]
          }
        },
        "67a392e17a394365a4610a3dab0fde11": {
          "model_module": "@jupyter-widgets/base",
          "model_name": "LayoutModel",
          "model_module_version": "1.2.0",
          "state": {
            "_view_name": "LayoutView",
            "grid_template_rows": null,
            "right": null,
            "justify_content": null,
            "_view_module": "@jupyter-widgets/base",
            "overflow": null,
            "_model_module_version": "1.2.0",
            "_view_count": null,
            "flex_flow": null,
            "width": null,
            "min_width": null,
            "border": null,
            "align_items": null,
            "bottom": null,
            "_model_module": "@jupyter-widgets/base",
            "top": null,
            "grid_column": null,
            "overflow_y": null,
            "overflow_x": null,
            "grid_auto_flow": null,
            "grid_area": null,
            "grid_template_columns": null,
            "flex": null,
            "_model_name": "LayoutModel",
            "justify_items": null,
            "grid_row": null,
            "max_height": null,
            "align_content": null,
            "visibility": null,
            "align_self": null,
            "height": null,
            "min_height": null,
            "padding": null,
            "grid_auto_rows": null,
            "grid_gap": null,
            "max_width": null,
            "order": null,
            "_view_module_version": "1.2.0",
            "grid_template_areas": null,
            "object_position": null,
            "object_fit": null,
            "grid_auto_columns": null,
            "margin": null,
            "display": null,
            "left": null
          }
        },
        "3753d639fea44241bbfce13cadfebe48": {
          "model_module": "@jupyter-widgets/controls",
          "model_name": "HTMLModel",
          "model_module_version": "1.5.0",
          "state": {
            "_view_name": "HTMLView",
            "style": "IPY_MODEL_4faddceb84284942a4923c9b57c52c00",
            "_dom_classes": [],
            "description": "",
            "_model_name": "HTMLModel",
            "placeholder": "​",
            "_view_module": "@jupyter-widgets/controls",
            "_model_module_version": "1.5.0",
            "value": "100%",
            "_view_count": null,
            "_view_module_version": "1.5.0",
            "description_tooltip": null,
            "_model_module": "@jupyter-widgets/controls",
            "layout": "IPY_MODEL_e60fc878f5c64789be915256f79fe11e"
          }
        },
        "a4a3501d0e3b49a5a688d64485069427": {
          "model_module": "@jupyter-widgets/controls",
          "model_name": "FloatProgressModel",
          "model_module_version": "1.5.0",
          "state": {
            "_view_name": "ProgressView",
            "style": "IPY_MODEL_78817d0b99904e2483862bd9f5299295",
            "_dom_classes": [],
            "description": "",
            "_model_name": "FloatProgressModel",
            "bar_style": "success",
            "max": 50,
            "_view_module": "@jupyter-widgets/controls",
            "_model_module_version": "1.5.0",
            "value": 50,
            "_view_count": null,
            "_view_module_version": "1.5.0",
            "orientation": "horizontal",
            "min": 0,
            "description_tooltip": null,
            "_model_module": "@jupyter-widgets/controls",
            "layout": "IPY_MODEL_ecfe148af3744491811ce5d2120e73c3"
          }
        },
        "3aa2fc711e4f4afaa982a866729f7a0a": {
          "model_module": "@jupyter-widgets/controls",
          "model_name": "HTMLModel",
          "model_module_version": "1.5.0",
          "state": {
            "_view_name": "HTMLView",
            "style": "IPY_MODEL_baf5309264104d2e88a4cbb8127ef0e3",
            "_dom_classes": [],
            "description": "",
            "_model_name": "HTMLModel",
            "placeholder": "​",
            "_view_module": "@jupyter-widgets/controls",
            "_model_module_version": "1.5.0",
            "value": " 50/50 [04:00&lt;00:00,  4.72s/it]",
            "_view_count": null,
            "_view_module_version": "1.5.0",
            "description_tooltip": null,
            "_model_module": "@jupyter-widgets/controls",
            "layout": "IPY_MODEL_762672eff83f4a17a86aa8520eba8daa"
          }
        },
        "4faddceb84284942a4923c9b57c52c00": {
          "model_module": "@jupyter-widgets/controls",
          "model_name": "DescriptionStyleModel",
          "model_module_version": "1.5.0",
          "state": {
            "_view_name": "StyleView",
            "_model_name": "DescriptionStyleModel",
            "description_width": "",
            "_view_module": "@jupyter-widgets/base",
            "_model_module_version": "1.5.0",
            "_view_count": null,
            "_view_module_version": "1.2.0",
            "_model_module": "@jupyter-widgets/controls"
          }
        },
        "e60fc878f5c64789be915256f79fe11e": {
          "model_module": "@jupyter-widgets/base",
          "model_name": "LayoutModel",
          "model_module_version": "1.2.0",
          "state": {
            "_view_name": "LayoutView",
            "grid_template_rows": null,
            "right": null,
            "justify_content": null,
            "_view_module": "@jupyter-widgets/base",
            "overflow": null,
            "_model_module_version": "1.2.0",
            "_view_count": null,
            "flex_flow": null,
            "width": null,
            "min_width": null,
            "border": null,
            "align_items": null,
            "bottom": null,
            "_model_module": "@jupyter-widgets/base",
            "top": null,
            "grid_column": null,
            "overflow_y": null,
            "overflow_x": null,
            "grid_auto_flow": null,
            "grid_area": null,
            "grid_template_columns": null,
            "flex": null,
            "_model_name": "LayoutModel",
            "justify_items": null,
            "grid_row": null,
            "max_height": null,
            "align_content": null,
            "visibility": null,
            "align_self": null,
            "height": null,
            "min_height": null,
            "padding": null,
            "grid_auto_rows": null,
            "grid_gap": null,
            "max_width": null,
            "order": null,
            "_view_module_version": "1.2.0",
            "grid_template_areas": null,
            "object_position": null,
            "object_fit": null,
            "grid_auto_columns": null,
            "margin": null,
            "display": null,
            "left": null
          }
        },
        "78817d0b99904e2483862bd9f5299295": {
          "model_module": "@jupyter-widgets/controls",
          "model_name": "ProgressStyleModel",
          "model_module_version": "1.5.0",
          "state": {
            "_view_name": "StyleView",
            "_model_name": "ProgressStyleModel",
            "description_width": "",
            "_view_module": "@jupyter-widgets/base",
            "_model_module_version": "1.5.0",
            "_view_count": null,
            "_view_module_version": "1.2.0",
            "bar_color": null,
            "_model_module": "@jupyter-widgets/controls"
          }
        },
        "ecfe148af3744491811ce5d2120e73c3": {
          "model_module": "@jupyter-widgets/base",
          "model_name": "LayoutModel",
          "model_module_version": "1.2.0",
          "state": {
            "_view_name": "LayoutView",
            "grid_template_rows": null,
            "right": null,
            "justify_content": null,
            "_view_module": "@jupyter-widgets/base",
            "overflow": null,
            "_model_module_version": "1.2.0",
            "_view_count": null,
            "flex_flow": null,
            "width": null,
            "min_width": null,
            "border": null,
            "align_items": null,
            "bottom": null,
            "_model_module": "@jupyter-widgets/base",
            "top": null,
            "grid_column": null,
            "overflow_y": null,
            "overflow_x": null,
            "grid_auto_flow": null,
            "grid_area": null,
            "grid_template_columns": null,
            "flex": null,
            "_model_name": "LayoutModel",
            "justify_items": null,
            "grid_row": null,
            "max_height": null,
            "align_content": null,
            "visibility": null,
            "align_self": null,
            "height": null,
            "min_height": null,
            "padding": null,
            "grid_auto_rows": null,
            "grid_gap": null,
            "max_width": null,
            "order": null,
            "_view_module_version": "1.2.0",
            "grid_template_areas": null,
            "object_position": null,
            "object_fit": null,
            "grid_auto_columns": null,
            "margin": null,
            "display": null,
            "left": null
          }
        },
        "baf5309264104d2e88a4cbb8127ef0e3": {
          "model_module": "@jupyter-widgets/controls",
          "model_name": "DescriptionStyleModel",
          "model_module_version": "1.5.0",
          "state": {
            "_view_name": "StyleView",
            "_model_name": "DescriptionStyleModel",
            "description_width": "",
            "_view_module": "@jupyter-widgets/base",
            "_model_module_version": "1.5.0",
            "_view_count": null,
            "_view_module_version": "1.2.0",
            "_model_module": "@jupyter-widgets/controls"
          }
        },
        "762672eff83f4a17a86aa8520eba8daa": {
          "model_module": "@jupyter-widgets/base",
          "model_name": "LayoutModel",
          "model_module_version": "1.2.0",
          "state": {
            "_view_name": "LayoutView",
            "grid_template_rows": null,
            "right": null,
            "justify_content": null,
            "_view_module": "@jupyter-widgets/base",
            "overflow": null,
            "_model_module_version": "1.2.0",
            "_view_count": null,
            "flex_flow": null,
            "width": null,
            "min_width": null,
            "border": null,
            "align_items": null,
            "bottom": null,
            "_model_module": "@jupyter-widgets/base",
            "top": null,
            "grid_column": null,
            "overflow_y": null,
            "overflow_x": null,
            "grid_auto_flow": null,
            "grid_area": null,
            "grid_template_columns": null,
            "flex": null,
            "_model_name": "LayoutModel",
            "justify_items": null,
            "grid_row": null,
            "max_height": null,
            "align_content": null,
            "visibility": null,
            "align_self": null,
            "height": null,
            "min_height": null,
            "padding": null,
            "grid_auto_rows": null,
            "grid_gap": null,
            "max_width": null,
            "order": null,
            "_view_module_version": "1.2.0",
            "grid_template_areas": null,
            "object_position": null,
            "object_fit": null,
            "grid_auto_columns": null,
            "margin": null,
            "display": null,
            "left": null
          }
        }
      }
    }
  },
  "cells": [
    {
      "cell_type": "markdown",
      "metadata": {
        "id": "UaXHxTGD5aib"
      },
      "source": [
        "This notebook contains code relating to section 4.5.2 of the thesis: step 2 (segmentation) of the 2-step bounding box localisation & segmentation method. In particular, for bounding boxes of size 40 by 40 pixels."
      ]
    },
    {
      "cell_type": "markdown",
      "metadata": {
        "id": "4DH_GSd2HqAM"
      },
      "source": [
        "# Installations"
      ]
    },
    {
      "cell_type": "code",
      "metadata": {
        "id": "zL0r1kUqE6gl",
        "colab": {
          "base_uri": "https://localhost:8080/"
        },
        "outputId": "482257fa-bc55-496a-e5d4-911f4491be51"
      },
      "source": [
        "pip -q install wandb"
      ],
      "execution_count": null,
      "outputs": [
        {
          "output_type": "stream",
          "text": [
            "\u001b[K     |████████████████████████████████| 1.7 MB 5.5 MB/s \n",
            "\u001b[K     |████████████████████████████████| 170 kB 49.0 MB/s \n",
            "\u001b[K     |████████████████████████████████| 97 kB 5.2 MB/s \n",
            "\u001b[K     |████████████████████████████████| 133 kB 52.5 MB/s \n",
            "\u001b[K     |████████████████████████████████| 63 kB 1.4 MB/s \n",
            "\u001b[?25h  Building wheel for subprocess32 (setup.py) ... \u001b[?25l\u001b[?25hdone\n",
            "  Building wheel for pathtools (setup.py) ... \u001b[?25l\u001b[?25hdone\n"
          ],
          "name": "stdout"
        }
      ]
    },
    {
      "cell_type": "code",
      "metadata": {
        "id": "3oQyp6xwHtjL",
        "colab": {
          "base_uri": "https://localhost:8080/"
        },
        "outputId": "db640a08-b775-468a-8f65-5f1ced4d196a"
      },
      "source": [
        "pip -q install tensorflow_addons"
      ],
      "execution_count": null,
      "outputs": [
        {
          "output_type": "stream",
          "text": [
            "\u001b[?25l\r\u001b[K     |▎                               | 10 kB 18.9 MB/s eta 0:00:01\r\u001b[K     |▋                               | 20 kB 24.1 MB/s eta 0:00:01\r\u001b[K     |▉                               | 30 kB 13.7 MB/s eta 0:00:01\r\u001b[K     |█▏                              | 40 kB 10.0 MB/s eta 0:00:01\r\u001b[K     |█▌                              | 51 kB 5.4 MB/s eta 0:00:01\r\u001b[K     |█▊                              | 61 kB 6.0 MB/s eta 0:00:01\r\u001b[K     |██                              | 71 kB 5.8 MB/s eta 0:00:01\r\u001b[K     |██▍                             | 81 kB 6.5 MB/s eta 0:00:01\r\u001b[K     |██▋                             | 92 kB 4.9 MB/s eta 0:00:01\r\u001b[K     |███                             | 102 kB 5.3 MB/s eta 0:00:01\r\u001b[K     |███▎                            | 112 kB 5.3 MB/s eta 0:00:01\r\u001b[K     |███▌                            | 122 kB 5.3 MB/s eta 0:00:01\r\u001b[K     |███▉                            | 133 kB 5.3 MB/s eta 0:00:01\r\u001b[K     |████▏                           | 143 kB 5.3 MB/s eta 0:00:01\r\u001b[K     |████▍                           | 153 kB 5.3 MB/s eta 0:00:01\r\u001b[K     |████▊                           | 163 kB 5.3 MB/s eta 0:00:01\r\u001b[K     |█████                           | 174 kB 5.3 MB/s eta 0:00:01\r\u001b[K     |█████▎                          | 184 kB 5.3 MB/s eta 0:00:01\r\u001b[K     |█████▋                          | 194 kB 5.3 MB/s eta 0:00:01\r\u001b[K     |██████                          | 204 kB 5.3 MB/s eta 0:00:01\r\u001b[K     |██████▏                         | 215 kB 5.3 MB/s eta 0:00:01\r\u001b[K     |██████▌                         | 225 kB 5.3 MB/s eta 0:00:01\r\u001b[K     |██████▉                         | 235 kB 5.3 MB/s eta 0:00:01\r\u001b[K     |███████                         | 245 kB 5.3 MB/s eta 0:00:01\r\u001b[K     |███████▍                        | 256 kB 5.3 MB/s eta 0:00:01\r\u001b[K     |███████▊                        | 266 kB 5.3 MB/s eta 0:00:01\r\u001b[K     |████████                        | 276 kB 5.3 MB/s eta 0:00:01\r\u001b[K     |████████▎                       | 286 kB 5.3 MB/s eta 0:00:01\r\u001b[K     |████████▋                       | 296 kB 5.3 MB/s eta 0:00:01\r\u001b[K     |████████▉                       | 307 kB 5.3 MB/s eta 0:00:01\r\u001b[K     |█████████▏                      | 317 kB 5.3 MB/s eta 0:00:01\r\u001b[K     |█████████▌                      | 327 kB 5.3 MB/s eta 0:00:01\r\u001b[K     |█████████▊                      | 337 kB 5.3 MB/s eta 0:00:01\r\u001b[K     |██████████                      | 348 kB 5.3 MB/s eta 0:00:01\r\u001b[K     |██████████▍                     | 358 kB 5.3 MB/s eta 0:00:01\r\u001b[K     |██████████▋                     | 368 kB 5.3 MB/s eta 0:00:01\r\u001b[K     |███████████                     | 378 kB 5.3 MB/s eta 0:00:01\r\u001b[K     |███████████▎                    | 389 kB 5.3 MB/s eta 0:00:01\r\u001b[K     |███████████▌                    | 399 kB 5.3 MB/s eta 0:00:01\r\u001b[K     |███████████▉                    | 409 kB 5.3 MB/s eta 0:00:01\r\u001b[K     |████████████▏                   | 419 kB 5.3 MB/s eta 0:00:01\r\u001b[K     |████████████▍                   | 430 kB 5.3 MB/s eta 0:00:01\r\u001b[K     |████████████▊                   | 440 kB 5.3 MB/s eta 0:00:01\r\u001b[K     |█████████████                   | 450 kB 5.3 MB/s eta 0:00:01\r\u001b[K     |█████████████▎                  | 460 kB 5.3 MB/s eta 0:00:01\r\u001b[K     |█████████████▋                  | 471 kB 5.3 MB/s eta 0:00:01\r\u001b[K     |██████████████                  | 481 kB 5.3 MB/s eta 0:00:01\r\u001b[K     |██████████████▏                 | 491 kB 5.3 MB/s eta 0:00:01\r\u001b[K     |██████████████▌                 | 501 kB 5.3 MB/s eta 0:00:01\r\u001b[K     |██████████████▉                 | 512 kB 5.3 MB/s eta 0:00:01\r\u001b[K     |███████████████                 | 522 kB 5.3 MB/s eta 0:00:01\r\u001b[K     |███████████████▍                | 532 kB 5.3 MB/s eta 0:00:01\r\u001b[K     |███████████████▊                | 542 kB 5.3 MB/s eta 0:00:01\r\u001b[K     |████████████████                | 552 kB 5.3 MB/s eta 0:00:01\r\u001b[K     |████████████████▎               | 563 kB 5.3 MB/s eta 0:00:01\r\u001b[K     |████████████████▋               | 573 kB 5.3 MB/s eta 0:00:01\r\u001b[K     |████████████████▉               | 583 kB 5.3 MB/s eta 0:00:01\r\u001b[K     |█████████████████▏              | 593 kB 5.3 MB/s eta 0:00:01\r\u001b[K     |█████████████████▌              | 604 kB 5.3 MB/s eta 0:00:01\r\u001b[K     |█████████████████▊              | 614 kB 5.3 MB/s eta 0:00:01\r\u001b[K     |██████████████████              | 624 kB 5.3 MB/s eta 0:00:01\r\u001b[K     |██████████████████▍             | 634 kB 5.3 MB/s eta 0:00:01\r\u001b[K     |██████████████████▋             | 645 kB 5.3 MB/s eta 0:00:01\r\u001b[K     |███████████████████             | 655 kB 5.3 MB/s eta 0:00:01\r\u001b[K     |███████████████████▎            | 665 kB 5.3 MB/s eta 0:00:01\r\u001b[K     |███████████████████▌            | 675 kB 5.3 MB/s eta 0:00:01\r\u001b[K     |███████████████████▉            | 686 kB 5.3 MB/s eta 0:00:01\r\u001b[K     |████████████████████▏           | 696 kB 5.3 MB/s eta 0:00:01\r\u001b[K     |████████████████████▍           | 706 kB 5.3 MB/s eta 0:00:01\r\u001b[K     |████████████████████▊           | 716 kB 5.3 MB/s eta 0:00:01\r\u001b[K     |█████████████████████           | 727 kB 5.3 MB/s eta 0:00:01\r\u001b[K     |█████████████████████▎          | 737 kB 5.3 MB/s eta 0:00:01\r\u001b[K     |█████████████████████▋          | 747 kB 5.3 MB/s eta 0:00:01\r\u001b[K     |██████████████████████          | 757 kB 5.3 MB/s eta 0:00:01\r\u001b[K     |██████████████████████▏         | 768 kB 5.3 MB/s eta 0:00:01\r\u001b[K     |██████████████████████▌         | 778 kB 5.3 MB/s eta 0:00:01\r\u001b[K     |██████████████████████▉         | 788 kB 5.3 MB/s eta 0:00:01\r\u001b[K     |███████████████████████         | 798 kB 5.3 MB/s eta 0:00:01\r\u001b[K     |███████████████████████▍        | 808 kB 5.3 MB/s eta 0:00:01\r\u001b[K     |███████████████████████▊        | 819 kB 5.3 MB/s eta 0:00:01\r\u001b[K     |████████████████████████        | 829 kB 5.3 MB/s eta 0:00:01\r\u001b[K     |████████████████████████▎       | 839 kB 5.3 MB/s eta 0:00:01\r\u001b[K     |████████████████████████▋       | 849 kB 5.3 MB/s eta 0:00:01\r\u001b[K     |████████████████████████▉       | 860 kB 5.3 MB/s eta 0:00:01\r\u001b[K     |█████████████████████████▏      | 870 kB 5.3 MB/s eta 0:00:01\r\u001b[K     |█████████████████████████▍      | 880 kB 5.3 MB/s eta 0:00:01\r\u001b[K     |█████████████████████████▊      | 890 kB 5.3 MB/s eta 0:00:01\r\u001b[K     |██████████████████████████      | 901 kB 5.3 MB/s eta 0:00:01\r\u001b[K     |██████████████████████████▎     | 911 kB 5.3 MB/s eta 0:00:01\r\u001b[K     |██████████████████████████▋     | 921 kB 5.3 MB/s eta 0:00:01\r\u001b[K     |███████████████████████████     | 931 kB 5.3 MB/s eta 0:00:01\r\u001b[K     |███████████████████████████▏    | 942 kB 5.3 MB/s eta 0:00:01\r\u001b[K     |███████████████████████████▌    | 952 kB 5.3 MB/s eta 0:00:01\r\u001b[K     |███████████████████████████▉    | 962 kB 5.3 MB/s eta 0:00:01\r\u001b[K     |████████████████████████████    | 972 kB 5.3 MB/s eta 0:00:01\r\u001b[K     |████████████████████████████▍   | 983 kB 5.3 MB/s eta 0:00:01\r\u001b[K     |████████████████████████████▊   | 993 kB 5.3 MB/s eta 0:00:01\r\u001b[K     |█████████████████████████████   | 1.0 MB 5.3 MB/s eta 0:00:01\r\u001b[K     |█████████████████████████████▎  | 1.0 MB 5.3 MB/s eta 0:00:01\r\u001b[K     |█████████████████████████████▋  | 1.0 MB 5.3 MB/s eta 0:00:01\r\u001b[K     |█████████████████████████████▉  | 1.0 MB 5.3 MB/s eta 0:00:01\r\u001b[K     |██████████████████████████████▏ | 1.0 MB 5.3 MB/s eta 0:00:01\r\u001b[K     |██████████████████████████████▌ | 1.1 MB 5.3 MB/s eta 0:00:01\r\u001b[K     |██████████████████████████████▊ | 1.1 MB 5.3 MB/s eta 0:00:01\r\u001b[K     |███████████████████████████████ | 1.1 MB 5.3 MB/s eta 0:00:01\r\u001b[K     |███████████████████████████████▍| 1.1 MB 5.3 MB/s eta 0:00:01\r\u001b[K     |███████████████████████████████▋| 1.1 MB 5.3 MB/s eta 0:00:01\r\u001b[K     |████████████████████████████████| 1.1 MB 5.3 MB/s eta 0:00:01\r\u001b[K     |████████████████████████████████| 1.1 MB 5.3 MB/s \n",
            "\u001b[?25h"
          ],
          "name": "stdout"
        }
      ]
    },
    {
      "cell_type": "code",
      "metadata": {
        "colab": {
          "base_uri": "https://localhost:8080/"
        },
        "id": "R6C0x3b_Ht8D",
        "outputId": "543f76f1-b983-4f5a-e182-2cc709ccfa93"
      },
      "source": [
        "import numpy as np\n",
        "import nibabel\n",
        "import os\n",
        "import tensorflow as tf\n",
        "import matplotlib.pyplot as plt\n",
        "\n",
        "import albumentations as A\n",
        "\n",
        "from __future__ import print_function\n",
        "\n",
        "from skimage.transform import resize\n",
        "from skimage.io import imsave\n",
        "from skimage.segmentation import mark_boundaries\n",
        "from skimage.exposure import rescale_intensity\n",
        "from skimage import io\n",
        "from scipy.spatial.distance import directed_hausdorff\n",
        "\n",
        "import keras\n",
        "from keras.models import Model, Sequential\n",
        "from tensorflow.keras.layers.experimental import preprocessing\n",
        "from keras.layers import Input, concatenate, Conv2D, MaxPooling2D, Conv2DTranspose, Dropout, BatchNormalization, Flatten, Dense\n",
        "from tensorflow.keras.optimizers import Adam, SGD\n",
        "from keras.callbacks import ModelCheckpoint\n",
        "from keras import backend as K\n",
        "from keras.callbacks import History\n",
        "from tensorflow.keras.utils import plot_model\n",
        "from tensorflow_addons.optimizers import AdamW\n",
        "from tensorflow.keras import layers\n",
        "\n",
        "import wandb\n",
        "from wandb.keras import WandbCallback\n",
        "\n",
        "from tqdm.auto import tqdm\n",
        "\n",
        "os.getcwd()"
      ],
      "execution_count": null,
      "outputs": [
        {
          "output_type": "execute_result",
          "data": {
            "application/vnd.google.colaboratory.intrinsic+json": {
              "type": "string"
            },
            "text/plain": [
              "'/content'"
            ]
          },
          "metadata": {},
          "execution_count": 40
        }
      ]
    },
    {
      "cell_type": "code",
      "metadata": {
        "id": "vMzPKmK7HvkK",
        "colab": {
          "base_uri": "https://localhost:8080/"
        },
        "outputId": "60d55ce9-57a7-4dd7-892b-16f566dd03e1"
      },
      "source": [
        "from google.colab import drive\n",
        "drive.mount('/content/drive')"
      ],
      "execution_count": null,
      "outputs": [
        {
          "output_type": "stream",
          "text": [
            "Mounted at /content/drive\n"
          ],
          "name": "stdout"
        }
      ]
    },
    {
      "cell_type": "code",
      "metadata": {
        "id": "7HhxY6xuc30z",
        "colab": {
          "base_uri": "https://localhost:8080/"
        },
        "outputId": "4f518096-5335-4a91-dde0-c22ebe7664aa"
      },
      "source": [
        "!pip install -q git+https://github.com/tensorflow/examples.git\n",
        "\n",
        "from tensorflow_examples.models.pix2pix import pix2pix"
      ],
      "execution_count": null,
      "outputs": [
        {
          "output_type": "stream",
          "text": [
            "  Building wheel for tensorflow-examples (setup.py) ... \u001b[?25l\u001b[?25hdone\n",
            "\u001b[33m  WARNING: Built wheel for tensorflow-examples is invalid: Metadata 1.2 mandates PEP 440 version, but 'db19ab009cc1c17a9e3ddbda4081437704332ad6-' is not\u001b[0m\n",
            "    Running setup.py install for tensorflow-examples ... \u001b[?25l\u001b[?25hdone\n",
            "\u001b[33m  DEPRECATION: tensorflow-examples was installed using the legacy 'setup.py install' method, because a wheel could not be built for it. A possible replacement is to fix the wheel build issue reported above. You can find discussion regarding this at https://github.com/pypa/pip/issues/8368.\u001b[0m\n"
          ],
          "name": "stdout"
        }
      ]
    },
    {
      "cell_type": "code",
      "metadata": {
        "id": "vrk2MGVNc93M"
      },
      "source": [
        "def get_tpu_strategy():\n",
        "    try:\n",
        "        tpu = tf.distribute.cluster_resolver.TPUClusterResolver(\n",
        "            tpu=\"grpc://\" + os.environ[\"COLAB_TPU_ADDR\"]\n",
        "        )  # TPU detection\n",
        "        print(\"Running on TPU \", tpu.cluster_spec().as_dict()[\"worker\"])\n",
        "    except ValueError:\n",
        "        raise BaseException(\"ERROR: Not connected to a TPU runtime\")\n",
        "\n",
        "    tf.config.experimental_connect_to_cluster(tpu)\n",
        "    tf.tpu.experimental.initialize_tpu_system(tpu)\n",
        "    return tf.distribute.TPUStrategy(tpu)"
      ],
      "execution_count": null,
      "outputs": []
    },
    {
      "cell_type": "code",
      "metadata": {
        "id": "zcSCpy_BdAK7",
        "colab": {
          "base_uri": "https://localhost:8080/"
        },
        "outputId": "56152704-b9f7-4ea3-f375-a8e4f618272c"
      },
      "source": [
        "tpu_strategy = get_tpu_strategy()"
      ],
      "execution_count": null,
      "outputs": [
        {
          "output_type": "stream",
          "text": [
            "Running on TPU  ['10.88.153.226:8470']\n",
            "INFO:tensorflow:Clearing out eager caches\n"
          ],
          "name": "stdout"
        },
        {
          "output_type": "stream",
          "text": [
            "INFO:tensorflow:Clearing out eager caches\n"
          ],
          "name": "stderr"
        },
        {
          "output_type": "stream",
          "text": [
            "INFO:tensorflow:Initializing the TPU system: grpc://10.88.153.226:8470\n"
          ],
          "name": "stdout"
        },
        {
          "output_type": "stream",
          "text": [
            "INFO:tensorflow:Initializing the TPU system: grpc://10.88.153.226:8470\n"
          ],
          "name": "stderr"
        },
        {
          "output_type": "stream",
          "text": [
            "INFO:tensorflow:Finished initializing TPU system.\n"
          ],
          "name": "stdout"
        },
        {
          "output_type": "stream",
          "text": [
            "INFO:tensorflow:Finished initializing TPU system.\n"
          ],
          "name": "stderr"
        },
        {
          "output_type": "stream",
          "text": [
            "INFO:tensorflow:Found TPU system:\n"
          ],
          "name": "stdout"
        },
        {
          "output_type": "stream",
          "text": [
            "INFO:tensorflow:Found TPU system:\n"
          ],
          "name": "stderr"
        },
        {
          "output_type": "stream",
          "text": [
            "INFO:tensorflow:*** Num TPU Cores: 8\n"
          ],
          "name": "stdout"
        },
        {
          "output_type": "stream",
          "text": [
            "INFO:tensorflow:*** Num TPU Cores: 8\n"
          ],
          "name": "stderr"
        },
        {
          "output_type": "stream",
          "text": [
            "INFO:tensorflow:*** Num TPU Workers: 1\n"
          ],
          "name": "stdout"
        },
        {
          "output_type": "stream",
          "text": [
            "INFO:tensorflow:*** Num TPU Workers: 1\n"
          ],
          "name": "stderr"
        },
        {
          "output_type": "stream",
          "text": [
            "INFO:tensorflow:*** Num TPU Cores Per Worker: 8\n"
          ],
          "name": "stdout"
        },
        {
          "output_type": "stream",
          "text": [
            "INFO:tensorflow:*** Num TPU Cores Per Worker: 8\n"
          ],
          "name": "stderr"
        },
        {
          "output_type": "stream",
          "text": [
            "INFO:tensorflow:*** Available Device: _DeviceAttributes(/job:localhost/replica:0/task:0/device:CPU:0, CPU, 0, 0)\n"
          ],
          "name": "stdout"
        },
        {
          "output_type": "stream",
          "text": [
            "INFO:tensorflow:*** Available Device: _DeviceAttributes(/job:localhost/replica:0/task:0/device:CPU:0, CPU, 0, 0)\n"
          ],
          "name": "stderr"
        },
        {
          "output_type": "stream",
          "text": [
            "INFO:tensorflow:*** Available Device: _DeviceAttributes(/job:worker/replica:0/task:0/device:CPU:0, CPU, 0, 0)\n"
          ],
          "name": "stdout"
        },
        {
          "output_type": "stream",
          "text": [
            "INFO:tensorflow:*** Available Device: _DeviceAttributes(/job:worker/replica:0/task:0/device:CPU:0, CPU, 0, 0)\n"
          ],
          "name": "stderr"
        },
        {
          "output_type": "stream",
          "text": [
            "INFO:tensorflow:*** Available Device: _DeviceAttributes(/job:worker/replica:0/task:0/device:TPU:0, TPU, 0, 0)\n"
          ],
          "name": "stdout"
        },
        {
          "output_type": "stream",
          "text": [
            "INFO:tensorflow:*** Available Device: _DeviceAttributes(/job:worker/replica:0/task:0/device:TPU:0, TPU, 0, 0)\n"
          ],
          "name": "stderr"
        },
        {
          "output_type": "stream",
          "text": [
            "INFO:tensorflow:*** Available Device: _DeviceAttributes(/job:worker/replica:0/task:0/device:TPU:1, TPU, 0, 0)\n"
          ],
          "name": "stdout"
        },
        {
          "output_type": "stream",
          "text": [
            "INFO:tensorflow:*** Available Device: _DeviceAttributes(/job:worker/replica:0/task:0/device:TPU:1, TPU, 0, 0)\n"
          ],
          "name": "stderr"
        },
        {
          "output_type": "stream",
          "text": [
            "INFO:tensorflow:*** Available Device: _DeviceAttributes(/job:worker/replica:0/task:0/device:TPU:2, TPU, 0, 0)\n"
          ],
          "name": "stdout"
        },
        {
          "output_type": "stream",
          "text": [
            "INFO:tensorflow:*** Available Device: _DeviceAttributes(/job:worker/replica:0/task:0/device:TPU:2, TPU, 0, 0)\n"
          ],
          "name": "stderr"
        },
        {
          "output_type": "stream",
          "text": [
            "INFO:tensorflow:*** Available Device: _DeviceAttributes(/job:worker/replica:0/task:0/device:TPU:3, TPU, 0, 0)\n"
          ],
          "name": "stdout"
        },
        {
          "output_type": "stream",
          "text": [
            "INFO:tensorflow:*** Available Device: _DeviceAttributes(/job:worker/replica:0/task:0/device:TPU:3, TPU, 0, 0)\n"
          ],
          "name": "stderr"
        },
        {
          "output_type": "stream",
          "text": [
            "INFO:tensorflow:*** Available Device: _DeviceAttributes(/job:worker/replica:0/task:0/device:TPU:4, TPU, 0, 0)\n"
          ],
          "name": "stdout"
        },
        {
          "output_type": "stream",
          "text": [
            "INFO:tensorflow:*** Available Device: _DeviceAttributes(/job:worker/replica:0/task:0/device:TPU:4, TPU, 0, 0)\n"
          ],
          "name": "stderr"
        },
        {
          "output_type": "stream",
          "text": [
            "INFO:tensorflow:*** Available Device: _DeviceAttributes(/job:worker/replica:0/task:0/device:TPU:5, TPU, 0, 0)\n"
          ],
          "name": "stdout"
        },
        {
          "output_type": "stream",
          "text": [
            "INFO:tensorflow:*** Available Device: _DeviceAttributes(/job:worker/replica:0/task:0/device:TPU:5, TPU, 0, 0)\n"
          ],
          "name": "stderr"
        },
        {
          "output_type": "stream",
          "text": [
            "INFO:tensorflow:*** Available Device: _DeviceAttributes(/job:worker/replica:0/task:0/device:TPU:6, TPU, 0, 0)\n"
          ],
          "name": "stdout"
        },
        {
          "output_type": "stream",
          "text": [
            "INFO:tensorflow:*** Available Device: _DeviceAttributes(/job:worker/replica:0/task:0/device:TPU:6, TPU, 0, 0)\n"
          ],
          "name": "stderr"
        },
        {
          "output_type": "stream",
          "text": [
            "INFO:tensorflow:*** Available Device: _DeviceAttributes(/job:worker/replica:0/task:0/device:TPU:7, TPU, 0, 0)\n"
          ],
          "name": "stdout"
        },
        {
          "output_type": "stream",
          "text": [
            "INFO:tensorflow:*** Available Device: _DeviceAttributes(/job:worker/replica:0/task:0/device:TPU:7, TPU, 0, 0)\n"
          ],
          "name": "stderr"
        },
        {
          "output_type": "stream",
          "text": [
            "INFO:tensorflow:*** Available Device: _DeviceAttributes(/job:worker/replica:0/task:0/device:TPU_SYSTEM:0, TPU_SYSTEM, 0, 0)\n"
          ],
          "name": "stdout"
        },
        {
          "output_type": "stream",
          "text": [
            "INFO:tensorflow:*** Available Device: _DeviceAttributes(/job:worker/replica:0/task:0/device:TPU_SYSTEM:0, TPU_SYSTEM, 0, 0)\n"
          ],
          "name": "stderr"
        },
        {
          "output_type": "stream",
          "text": [
            "INFO:tensorflow:*** Available Device: _DeviceAttributes(/job:worker/replica:0/task:0/device:XLA_CPU:0, XLA_CPU, 0, 0)\n"
          ],
          "name": "stdout"
        },
        {
          "output_type": "stream",
          "text": [
            "INFO:tensorflow:*** Available Device: _DeviceAttributes(/job:worker/replica:0/task:0/device:XLA_CPU:0, XLA_CPU, 0, 0)\n"
          ],
          "name": "stderr"
        }
      ]
    },
    {
      "cell_type": "code",
      "metadata": {
        "id": "iZnk6GfDdBfj"
      },
      "source": [
        "# give permission to read data from google cloud bucket\n",
        "from google.colab import auth\n",
        "auth.authenticate_user()"
      ],
      "execution_count": null,
      "outputs": []
    },
    {
      "cell_type": "markdown",
      "metadata": {
        "id": "I88pvrA_dDrl"
      },
      "source": [
        "# Load data in TFRecords format"
      ]
    },
    {
      "cell_type": "code",
      "metadata": {
        "id": "W1VRi8-EdDF7"
      },
      "source": [
        "def _parse_image_function(example_proto):\n",
        "\n",
        "    \"\"\"\n",
        "    Reads from TFRecord file\n",
        "    Returns a tf.train.Example object (can be read like a dictionary)\n",
        "    \"\"\"\n",
        "\n",
        "    image_feature_description = {\n",
        "\n",
        "        \"image_raw\": tf.io.FixedLenFeature([40 * 40], tf.float32),\n",
        "        \"mask_raw\": tf.io.FixedLenFeature([40 * 40], tf.int64),\n",
        "    }\n",
        "\n",
        "    # Parse the input tf.train.Example proto using the dictionary above.\n",
        "    return tf.io.parse_single_example(example_proto, image_feature_description)\n",
        "\n",
        "\n",
        "def _unpack_proto(example_proto):\n",
        "\n",
        "    \"\"\"\n",
        "    Extract image and mask from example_proto object\n",
        "    \"\"\"\n",
        "\n",
        "    image = example_proto[\"image_raw\"]\n",
        "    image = tf.reshape(image, [40, 40, 1])\n",
        "\n",
        "    mask = example_proto[\"mask_raw\"]\n",
        "    mask = tf.reshape(mask, [40, 40])\n",
        "\n",
        "    return image, mask"
      ],
      "execution_count": null,
      "outputs": []
    },
    {
      "cell_type": "code",
      "metadata": {
        "id": "-JPTHxX2dL19"
      },
      "source": [
        "### Data Augmentation\n",
        "\n",
        "def _unpack_proto_aug(example_proto):\n",
        "\n",
        "    \"\"\"\n",
        "    Extract image and mask from example_proto object\n",
        "    \"\"\"\n",
        "\n",
        "    image = example_proto[\"image_raw\"]\n",
        "    image = tf.reshape(image, [40, 40, 1])\n",
        "\n",
        "    mask = example_proto[\"mask_raw\"]\n",
        "    mask = tf.reshape(mask, [40, 40])\n",
        "\n",
        "    # DATA AUGMENTATION\n",
        "    if tf.random.uniform(()) > 0.5:\n",
        "      image = tf.image.flip_left_right(image)\n",
        "      mask = tf.image.flip_left_right(tf.expand_dims(mask, [2]))\n",
        "      mask = tf.squeeze(mask)\n",
        "\n",
        "    if tf.random.uniform(()) > 0.5:\n",
        "      image = tf.image.rot90(image)\n",
        "      mask = tf.image.rot90(tf.expand_dims(mask, [2]))\n",
        "      mask = tf.squeeze(mask)\n",
        "\n",
        "    return image, mask\n"
      ],
      "execution_count": null,
      "outputs": []
    },
    {
      "cell_type": "code",
      "metadata": {
        "id": "mhCdChnSdjZh"
      },
      "source": [
        "def optimise_dataset(ds):\n",
        "\n",
        "  \"\"\"\n",
        "  Improve performance of tensorflow dataset\n",
        "  \"\"\"\n",
        "\n",
        "  ds = ds.prefetch(tf.data.experimental.AUTOTUNE)\n",
        "  # ds = ds.cache()\n",
        "  return ds\n",
        "\n",
        "def prepare_data(ds, shuffle=True):\n",
        "  \"\"\"\n",
        "  Normalise, batch, shuffle and optimise the dataset\n",
        "  \"\"\"\n",
        "  # ds = normalise(ds)\n",
        "  if shuffle:\n",
        "    ds = ds.shuffle(5000)\n",
        "  batch_size = 8 * tpu_strategy.num_replicas_in_sync # 16*8 (tpu_strategy.num_replicas_in_sync value shown in output of previous cell)\n",
        "  ds = ds.batch(batch_size)\n",
        "  ds = optimise_dataset(ds)\n",
        "  return ds\n",
        "\n",
        "def to_3_channels(image, mask):\n",
        "  img_shape = (40, 40)\n",
        "  image = tf.reshape(tf.repeat(image, 3), (*img_shape, 3))\n",
        "  # mask = tf.reshape(tf.repeat(mask, 3), (*img_shape, 3)) \n",
        "  return image, mask"
      ],
      "execution_count": null,
      "outputs": []
    },
    {
      "cell_type": "markdown",
      "metadata": {
        "id": "kAOERs-_CsGM"
      },
      "source": [
        "# Load training and validation data"
      ]
    },
    {
      "cell_type": "code",
      "metadata": {
        "id": "usPv16Q1Cumt"
      },
      "source": [
        "train_nonempty_gcs_pattern = \"gs://40_bounding_box_step2_ver2/train_non_empty*\"\n",
        "train_nonempty_filenames = tf.io.gfile.glob(train_nonempty_gcs_pattern)\n",
        "\n",
        "train_nonempty_ds = tf.data.TFRecordDataset(train_nonempty_filenames)\n",
        "train_nonempty_ds = train_nonempty_ds.map(_parse_image_function)\n",
        "train_nonempty_ds = train_nonempty_ds.map(_unpack_proto_aug)\n",
        "train_nonempty_ds = train_nonempty_ds.map(to_3_channels)\n",
        "\n",
        "train_ds = prepare_data(train_nonempty_ds)"
      ],
      "execution_count": null,
      "outputs": []
    },
    {
      "cell_type": "code",
      "metadata": {
        "colab": {
          "base_uri": "https://localhost:8080/"
        },
        "id": "2BvUQWd1DaAE",
        "outputId": "0e9b968a-a751-418f-83a0-94fd397b0ebd"
      },
      "source": [
        "for images, masks in train_ds.take(1):  # only take first element of dataset\n",
        "      numpy_images = images.numpy()\n",
        "      numpy_masks = masks.numpy()\n",
        "\n",
        "numpy_images.shape, numpy_masks.shape"
      ],
      "execution_count": null,
      "outputs": [
        {
          "output_type": "execute_result",
          "data": {
            "text/plain": [
              "((64, 40, 40, 3), (64, 40, 40))"
            ]
          },
          "metadata": {},
          "execution_count": 13
        }
      ]
    },
    {
      "cell_type": "code",
      "metadata": {
        "id": "HXssig6tlc5X"
      },
      "source": [
        "val_nonempty_gcs_pattern = \"gs://40_bounding_box_step2_ver2/val_non_empty*\"\n",
        "val_nonempty_filenames = tf.io.gfile.glob(val_nonempty_gcs_pattern)\n",
        "\n",
        "val_nonempty_ds = tf.data.TFRecordDataset(val_nonempty_filenames)\n",
        "val_nonempty_ds = val_nonempty_ds.map(_parse_image_function)\n",
        "val_nonempty_ds = val_nonempty_ds.map(_unpack_proto)\n",
        "val_nonempty_ds = val_nonempty_ds.map(to_3_channels)\n",
        "\n",
        "val_ds = prepare_data(val_nonempty_ds)"
      ],
      "execution_count": null,
      "outputs": []
    },
    {
      "cell_type": "markdown",
      "metadata": {
        "id": "yaItKqOddymr"
      },
      "source": [
        "# Display Images"
      ]
    },
    {
      "cell_type": "code",
      "metadata": {
        "id": "rGCBk98Md1HF"
      },
      "source": [
        "def display_img_mask(batch_num, img_num):\n",
        "\n",
        "  for images, masks in train_ds.take(batch_num):  # only take first element of dataset\n",
        "      numpy_images = images.numpy()\n",
        "      numpy_masks = masks.numpy()\n",
        "\n",
        "  plt.subplot(1,2,1)\n",
        "  plt.imshow(numpy_images[img_num], cmap='gray')\n",
        "  plt.title('Img')\n",
        "\n",
        "  plt.subplot(1,2,2)\n",
        "  plt.imshow(numpy_masks[img_num].reshape((40,40)), cmap='gray')\n",
        "  plt.title('Mask')"
      ],
      "execution_count": null,
      "outputs": []
    },
    {
      "cell_type": "code",
      "metadata": {
        "colab": {
          "base_uri": "https://localhost:8080/",
          "height": 216
        },
        "id": "L9gbWAkMd42L",
        "outputId": "67a38d15-7041-4d20-b69c-ce02b4f39ea0"
      },
      "source": [
        "display_img_mask(1,10)"
      ],
      "execution_count": null,
      "outputs": [
        {
          "output_type": "display_data",
          "data": {
            "image/png": "[encoded data removed]",
            "text/plain": [
              "<Figure size 432x288 with 2 Axes>"
            ]
          },
          "metadata": {
            "needs_background": "light"
          }
        }
      ]
    },
    {
      "cell_type": "markdown",
      "metadata": {
        "id": "scZZ5aT4e1__"
      },
      "source": [
        "### Test resizing "
      ]
    },
    {
      "cell_type": "code",
      "metadata": {
        "colab": {
          "base_uri": "https://localhost:8080/"
        },
        "id": "I-q8RftPesuW",
        "outputId": "94b6a23e-d457-42c2-f757-e76865ce4802"
      },
      "source": [
        "for images, masks in train_ds.take(1):  # only take first element of dataset\n",
        "      numpy_images = images.numpy()\n",
        "      numpy_masks = masks.numpy()\n",
        "\n",
        "test_img = numpy_images[0]\n",
        "test_img.shape"
      ],
      "execution_count": null,
      "outputs": [
        {
          "output_type": "execute_result",
          "data": {
            "text/plain": [
              "(40, 40, 3)"
            ]
          },
          "metadata": {
            "tags": []
          },
          "execution_count": 28
        }
      ]
    },
    {
      "cell_type": "code",
      "metadata": {
        "colab": {
          "base_uri": "https://localhost:8080/",
          "height": 284
        },
        "id": "jJtPb7Y4e0xW",
        "outputId": "023d4e91-a3f1-45c0-d4c9-39c95d820854"
      },
      "source": [
        "plt.imshow(test_img)"
      ],
      "execution_count": null,
      "outputs": [
        {
          "output_type": "execute_result",
          "data": {
            "text/plain": [
              "<matplotlib.image.AxesImage at 0x7f215b2ed450>"
            ]
          },
          "metadata": {
            "tags": []
          },
          "execution_count": 29
        },
        {
          "output_type": "display_data",
          "data": {
            "image/png": "[encoded data removed]",
            "text/plain": [
              "<Figure size 432x288 with 1 Axes>"
            ]
          },
          "metadata": {
            "tags": [],
            "needs_background": "light"
          }
        }
      ]
    },
    {
      "cell_type": "code",
      "metadata": {
        "colab": {
          "base_uri": "https://localhost:8080/",
          "height": 285
        },
        "id": "vzJSKh_Mer4c",
        "outputId": "d11b2aec-6f64-434e-859d-c12acc1e23a0"
      },
      "source": [
        "# test_img_resized = tf.image.resize(test_img, size=(96,96,3), method=ResizeMethod.BILINEAR, preserve_aspect_ratio=False, antialias=False, name=None)\n",
        "test_img_resized = tf.image.resize(test_img, size=(96,96))\n",
        "\n",
        "plt.imshow(test_img_resized)"
      ],
      "execution_count": null,
      "outputs": [
        {
          "output_type": "execute_result",
          "data": {
            "text/plain": [
              "<matplotlib.image.AxesImage at 0x7f215b27e3d0>"
            ]
          },
          "metadata": {
            "tags": []
          },
          "execution_count": 38
        },
        {
          "output_type": "display_data",
          "data": {
            "image/png": "[encoded data removed]",
            "text/plain": [
              "<Figure size 432x288 with 1 Axes>"
            ]
          },
          "metadata": {
            "tags": [],
            "needs_background": "light"
          }
        }
      ]
    },
    {
      "cell_type": "code",
      "metadata": {
        "id": "4Id-HDrder6-"
      },
      "source": [
        ""
      ],
      "execution_count": null,
      "outputs": []
    },
    {
      "cell_type": "markdown",
      "metadata": {
        "id": "Z7ihrOWQd_TN"
      },
      "source": [
        "# Loss Function"
      ]
    },
    {
      "cell_type": "code",
      "metadata": {
        "id": "NZaO2iIdeALc"
      },
      "source": [
        "# return our metric and loss\n",
        "\n",
        "with tpu_strategy.scope():\n",
        "\n",
        "  def dice_coef(y_true, y_pred, smooth=1e-16):\n",
        "    y_true_f = tf.cast(K.flatten(y_true), tf.float32)\n",
        "    y_pred_f = K.flatten(y_pred)\n",
        "    intersection = K.sum(y_true_f * y_pred_f)\n",
        "\n",
        "    return (2* intersection + smooth)/(K.sum(y_true_f) + K.sum(y_pred_f) + smooth)\n",
        "\n",
        "\n",
        "  def dice_coef_loss(y_true, y_pred):\n",
        "\n",
        "    return (1.0 - dice_coef(y_true, y_pred))\n",
        "\n",
        "\n",
        "  def mixed_loss(y_true, y_pred):\n",
        "\n",
        "    y_true_f = tf.cast(K.flatten(y_true), tf.float32)\n",
        "    y_pred_f = K.flatten(y_pred)\n",
        "\n",
        "    bce = tf.keras.losses.binary_crossentropy(y_true_f, y_pred_f, from_logits=True)\n",
        "    dice = dice_coef(y_true, y_pred)\n",
        "\n",
        "    return bce + (1.0 - dice)"
      ],
      "execution_count": null,
      "outputs": []
    },
    {
      "cell_type": "markdown",
      "metadata": {
        "id": "k20tQHsIeI5G"
      },
      "source": [
        "# Model Architecture"
      ]
    },
    {
      "cell_type": "markdown",
      "metadata": {
        "id": "cMXplGjKeObf"
      },
      "source": [
        "## Pre-trained model: original"
      ]
    },
    {
      "cell_type": "code",
      "metadata": {
        "id": "R55H6l-weK3u"
      },
      "source": [
        "def rescale_output(y_pred):\n",
        "\n",
        "  y_pred = tf.clip_by_value(y_pred, clip_value_min=0., clip_value_max=1.) # force values to be between 0 and 1\n",
        "\n",
        "  return y_pred"
      ],
      "execution_count": null,
      "outputs": []
    },
    {
      "cell_type": "code",
      "metadata": {
        "id": "3srJYlRXeRUH"
      },
      "source": [
        "with tpu_strategy.scope(): \n",
        "\n",
        "  def unet_model(output_channels):\n",
        "\n",
        "    inputs = tf.keras.layers.Input(shape=[40, 40, 3])\n",
        "    resize_layer = tf.keras.layers.Lambda(lambda img: tf.image.resize(img, (96, 96)))\n",
        "    x = resize_layer(inputs)\n",
        "\n",
        "    # Downsampling through the model\n",
        "    base_model = tf.keras.applications.MobileNetV2(input_shape=[96, 96, 3], include_top=False) # ImageNet weights only work with 3 channel images\n",
        "\n",
        "    # adding regularization\n",
        "    penalty = 0.0001\n",
        "    regularizer = tf.keras.regularizers.l2(penalty)\n",
        "\n",
        "    for layer in base_model.layers:\n",
        "        for attr in ['kernel_regularizer']:\n",
        "            if hasattr(layer, attr):\n",
        "              setattr(layer, attr, regularizer)\n",
        "\n",
        "     # When we change the layers attributes, the change only happens in the model config file\n",
        "    model_json = base_model.to_json()\n",
        "\n",
        "    # Save the weights before reloading the model.\n",
        "    weights_path = \"/content/drive/My Drive/Masters Project/Vascular Segmentation/Model Weights/test5.h5\"\n",
        "    # weights_path = os.path.join(weights_path, 'test1.h5')\n",
        "    base_model.save_weights(weights_path)\n",
        "\n",
        "    # load the model from the config\n",
        "    base_model = tf.keras.models.model_from_json(model_json)\n",
        "    \n",
        "    # Reload the model weights\n",
        "    base_model.load_weights(weights_path, by_name=True)\n",
        "\n",
        "    # Use the activations of these layers\n",
        "    layer_names = [\n",
        "        'block_1_expand_relu',   # 48x48\n",
        "        'block_3_expand_relu',   # 24x24\n",
        "        'block_6_expand_relu',   # 12x12\n",
        "        'block_13_expand_relu',  # 6x6\n",
        "        'block_16_project',      # 3x3\n",
        "    ]\n",
        "    base_model_outputs = [base_model.get_layer(name).output for name in layer_names]\n",
        "\n",
        "    # # Create the feature extraction model\n",
        "    down_stack = tf.keras.Model(inputs=base_model.input, outputs=base_model_outputs)\n",
        "\n",
        "    down_stack.trainable = False\n",
        "\n",
        "    up_stack = [\n",
        "        pix2pix.upsample(512, 3),  # 4x4 -> 8x8\n",
        "        pix2pix.upsample(256, 3),  # 8x8 -> 16x16\n",
        "        pix2pix.upsample(128, 3),  # 16x16 -> 32x32\n",
        "        pix2pix.upsample(64, 3),   # 32x32 -> 64x64\n",
        "    ]\n",
        "\n",
        "\n",
        "    skips = down_stack(x)\n",
        "    x = skips[-1] # final output of encoder\n",
        "    skips = reversed(skips[:-1]) # all outputs of encoder except final, reversed\n",
        "    # Upsampling and establishing the skip connections\n",
        "    \n",
        "    for up, skip in zip(up_stack, skips):\n",
        "      x = up(x) # pass output of encoder through decoder (iterates through outputs of decoder)\n",
        "      concat = tf.keras.layers.Concatenate() \n",
        "      x = concat([x, skip]) # cross-link: output of decoder concatenated with encoder output\n",
        "    # This is the last layer of the model\n",
        "    last = tf.keras.layers.Conv2DTranspose(\n",
        "        output_channels, 3, strides=2,\n",
        "        padding='same')  #64x64 -> 128x128\n",
        "\n",
        "    normalise_output = tf.keras.layers.Lambda(rescale_output)\n",
        "\n",
        "    x = last(x)\n",
        "    shrinking_layer = tf.keras.layers.Lambda(lambda img: tf.image.resize(img, (40, 40)))\n",
        "    x = shrinking_layer(x)\n",
        "    # x = tf.keras.activations.sigmoid(x)\n",
        "    x = normalise_output(x)\n",
        "\n",
        "    return tf.keras.Model(inputs=inputs, outputs=x)"
      ],
      "execution_count": null,
      "outputs": []
    },
    {
      "cell_type": "code",
      "metadata": {
        "colab": {
          "base_uri": "https://localhost:8080/"
        },
        "id": "4HWL64fIPp2e",
        "outputId": "095366bf-77ac-45f3-bcb5-ed9583aee53d"
      },
      "source": [
        "model = unet_model(output_channels=1)\n",
        "model.summary()"
      ],
      "execution_count": null,
      "outputs": [
        {
          "output_type": "stream",
          "text": [
            "Downloading data from https://storage.googleapis.com/tensorflow/keras-applications/mobilenet_v2/mobilenet_v2_weights_tf_dim_ordering_tf_kernels_1.0_96_no_top.h5\n",
            "9412608/9406464 [==============================] - 0s 0us/step\n",
            "9420800/9406464 [==============================] - 0s 0us/step\n"
          ],
          "name": "stdout"
        },
        {
          "output_type": "stream",
          "text": [
            "/usr/local/lib/python3.7/dist-packages/keras/utils/generic_utils.py:497: CustomMaskWarning: Custom mask layers require a config and must override get_config. When loading, the custom mask layer must be passed to the custom_objects argument.\n",
            "  category=CustomMaskWarning)\n"
          ],
          "name": "stderr"
        },
        {
          "output_type": "stream",
          "text": [
            "Model: \"model_1\"\n",
            "__________________________________________________________________________________________________\n",
            "Layer (type)                    Output Shape         Param #     Connected to                     \n",
            "==================================================================================================\n",
            "input_1 (InputLayer)            [(None, 40, 40, 3)]  0                                            \n",
            "__________________________________________________________________________________________________\n",
            "lambda (Lambda)                 (None, 96, 96, 3)    0           input_1[0][0]                    \n",
            "__________________________________________________________________________________________________\n",
            "model (Functional)              [(None, 48, 48, 96), 1841984     lambda[0][0]                     \n",
            "__________________________________________________________________________________________________\n",
            "sequential (Sequential)         (None, 6, 6, 512)    1476608     model[0][4]                      \n",
            "__________________________________________________________________________________________________\n",
            "concatenate (Concatenate)       (None, 6, 6, 1088)   0           sequential[0][0]                 \n",
            "                                                                 model[0][3]                      \n",
            "__________________________________________________________________________________________________\n",
            "sequential_1 (Sequential)       (None, 12, 12, 256)  2507776     concatenate[0][0]                \n",
            "__________________________________________________________________________________________________\n",
            "concatenate_1 (Concatenate)     (None, 12, 12, 448)  0           sequential_1[0][0]               \n",
            "                                                                 model[0][2]                      \n",
            "__________________________________________________________________________________________________\n",
            "sequential_2 (Sequential)       (None, 24, 24, 128)  516608      concatenate_1[0][0]              \n",
            "__________________________________________________________________________________________________\n",
            "concatenate_2 (Concatenate)     (None, 24, 24, 272)  0           sequential_2[0][0]               \n",
            "                                                                 model[0][1]                      \n",
            "__________________________________________________________________________________________________\n",
            "sequential_3 (Sequential)       (None, 48, 48, 64)   156928      concatenate_2[0][0]              \n",
            "__________________________________________________________________________________________________\n",
            "concatenate_3 (Concatenate)     (None, 48, 48, 160)  0           sequential_3[0][0]               \n",
            "                                                                 model[0][0]                      \n",
            "__________________________________________________________________________________________________\n",
            "conv2d_transpose_4 (Conv2DTrans (None, 96, 96, 1)    1441        concatenate_3[0][0]              \n",
            "__________________________________________________________________________________________________\n",
            "lambda_2 (Lambda)               (None, 40, 40, 1)    0           conv2d_transpose_4[0][0]         \n",
            "__________________________________________________________________________________________________\n",
            "lambda_1 (Lambda)               (None, 40, 40, 1)    0           lambda_2[0][0]                   \n",
            "==================================================================================================\n",
            "Total params: 6,501,345\n",
            "Trainable params: 4,657,441\n",
            "Non-trainable params: 1,843,904\n",
            "__________________________________________________________________________________________________\n"
          ],
          "name": "stdout"
        }
      ]
    },
    {
      "cell_type": "markdown",
      "metadata": {
        "id": "VtvGbpMDhJk1"
      },
      "source": [
        "# Learning Rate Scheduling & Early Stopping"
      ]
    },
    {
      "cell_type": "code",
      "metadata": {
        "id": "OIUNfkTWhGeC"
      },
      "source": [
        "def build_learning_rate_cycler(\n",
        "    lr_start=1e-5,\n",
        "    lr_max=5e-5,\n",
        "    lr_min=1e-6,\n",
        "    lr_rampup_epochs=10,\n",
        "    lr_sustain_epochs=2,\n",
        "    lr_exp_decay=0.9,\n",
        "):\n",
        "    lr_max = lr_max\n",
        "\n",
        "    def lrfn(epoch):\n",
        "        if epoch < lr_rampup_epochs:\n",
        "            lr = (lr_max - lr_start) / lr_rampup_epochs * epoch + lr_start\n",
        "        elif epoch < lr_rampup_epochs + lr_sustain_epochs:\n",
        "            lr = lr_max\n",
        "        else:\n",
        "            lr = (lr_max - lr_min) * lr_exp_decay ** (\n",
        "                epoch - lr_rampup_epochs - lr_sustain_epochs\n",
        "            ) + lr_min\n",
        "        return lr\n",
        "\n",
        "    return lrfn\n",
        "\n",
        "lr_cycler = build_learning_rate_cycler(\n",
        "          lr_start=1e-5,\n",
        "          lr_max=1e-2,\n",
        "          lr_min=1e-6,\n",
        "          lr_rampup_epochs=20,\n",
        "          lr_sustain_epochs=0,\n",
        "          lr_exp_decay=0.9,\n",
        "      )   "
      ],
      "execution_count": null,
      "outputs": []
    },
    {
      "cell_type": "code",
      "metadata": {
        "id": "-20RlSxChOti"
      },
      "source": [
        "early_stopping = tf.keras.callbacks.EarlyStopping(\n",
        "                    monitor='val_loss',\n",
        "                    patience=20,\n",
        "                    restore_best_weights=True,\n",
        "                    mode='auto',\n",
        "                )"
      ],
      "execution_count": null,
      "outputs": []
    },
    {
      "cell_type": "markdown",
      "metadata": {
        "id": "Zsc_mXBREdZI"
      },
      "source": [
        "# Find Optimal Learning Rate"
      ]
    },
    {
      "cell_type": "code",
      "metadata": {
        "colab": {
          "base_uri": "https://localhost:8080/"
        },
        "id": "Eho78vRxEfum",
        "outputId": "e6e4348f-e20b-485c-fa8c-0f0b52e5031e"
      },
      "source": [
        "loss = dice_coef_loss\n",
        "metrics = dice_coef\n",
        "\n",
        "model = unet_model(output_channels=1)\n",
        "model.compile(optimizer=Adam(), loss=loss, metrics=metrics)\n",
        "\n",
        "initial_weights = model.get_weights()\n",
        "len(initial_weights)"
      ],
      "execution_count": null,
      "outputs": [
        {
          "output_type": "stream",
          "text": [
            "Downloading data from https://storage.googleapis.com/tensorflow/keras-applications/mobilenet_v2/mobilenet_v2_weights_tf_dim_ordering_tf_kernels_1.0_96_no_top.h5\n",
            "9412608/9406464 [==============================] - 0s 0us/step\n",
            "9420800/9406464 [==============================] - 0s 0us/step\n"
          ],
          "name": "stdout"
        },
        {
          "output_type": "execute_result",
          "data": {
            "text/plain": [
              "273"
            ]
          },
          "metadata": {},
          "execution_count": 26
        }
      ]
    },
    {
      "cell_type": "code",
      "metadata": {
        "colab": {
          "base_uri": "https://localhost:8080/",
          "height": 49,
          "referenced_widgets": [
            "9fc58d415f43421c8471f698dcff4217",
            "67a392e17a394365a4610a3dab0fde11",
            "3753d639fea44241bbfce13cadfebe48",
            "a4a3501d0e3b49a5a688d64485069427",
            "3aa2fc711e4f4afaa982a866729f7a0a",
            "4faddceb84284942a4923c9b57c52c00",
            "e60fc878f5c64789be915256f79fe11e",
            "78817d0b99904e2483862bd9f5299295",
            "ecfe148af3744491811ce5d2120e73c3",
            "baf5309264104d2e88a4cbb8127ef0e3",
            "762672eff83f4a17a86aa8520eba8daa"
          ]
        },
        "id": "YRqThxm5EfxG",
        "outputId": "f65e8c90-8e95-479c-819f-1478fb6bde08"
      },
      "source": [
        "def find_learning_rate(num_rates=50):\n",
        "    rates = np.logspace(-5, -1, num=num_rates)\n",
        "    img, label = list(train_ds.take(1))[0]\n",
        "    losses = []\n",
        "    \n",
        "    for rate in tqdm(rates):\n",
        "          model.compile(optimizer=Adam(learning_rate=rate), loss=loss, metrics=metrics)\n",
        "          model.set_weights(initial_weights)\n",
        "          model.fit(img, label, epochs=5, verbose=0)\n",
        "          losses.append(model.history.history['loss'][-1])\n",
        "    return losses, rates\n",
        "\n",
        "losses, rates = find_learning_rate(50)"
      ],
      "execution_count": null,
      "outputs": [
        {
          "output_type": "display_data",
          "data": {
            "application/vnd.jupyter.widget-view+json": {
              "model_id": "9fc58d415f43421c8471f698dcff4217",
              "version_minor": 0,
              "version_major": 2
            },
            "text/plain": [
              "  0%|          | 0/50 [00:00<?, ?it/s]"
            ]
          },
          "metadata": {}
        }
      ]
    },
    {
      "cell_type": "code",
      "metadata": {
        "colab": {
          "base_uri": "https://localhost:8080/",
          "height": 370
        },
        "id": "aXU_3WziEfzm",
        "outputId": "13926ebe-7926-4efa-b0fd-04615e5cec2a"
      },
      "source": [
        "plt.plot(np.log10(rates), np.clip(losses, 0, 2))\n",
        "plt.title('Dice coefficient loss \\n for a variety of learning rates', size=14)\n",
        "plt.xlabel('\\n Learning rate exponent', size=14)\n",
        "plt.ylabel('Dice Coefficient loss \\n', size=14)\n",
        "plt.xticks(size=12)\n",
        "plt.yticks(size=12)"
      ],
      "execution_count": null,
      "outputs": [
        {
          "output_type": "execute_result",
          "data": {
            "text/plain": [
              "(array([0.6 , 0.65, 0.7 , 0.75, 0.8 , 0.85, 0.9 , 0.95, 1.  , 1.05]),\n",
              " <a list of 10 Text major ticklabel objects>)"
            ]
          },
          "metadata": {},
          "execution_count": 28
        },
        {
          "output_type": "display_data",
          "data": {
            "image/png": "[encoded data removed]",
            "text/plain": [
              "<Figure size 432x288 with 1 Axes>"
            ]
          },
          "metadata": {
            "needs_background": "light"
          }
        }
      ]
    },
    {
      "cell_type": "markdown",
      "metadata": {
        "id": "O5vlJvSphR1F"
      },
      "source": [
        "# Training"
      ]
    },
    {
      "cell_type": "code",
      "metadata": {
        "colab": {
          "base_uri": "https://localhost:8080/"
        },
        "id": "2VOdiDGRhP96",
        "outputId": "c1a268b3-f857-4e1a-bd59-6e815c4136a9"
      },
      "source": [
        "with tpu_strategy.scope():\n",
        "\n",
        "  model = unet_model(output_channels=1)\n",
        "\n",
        "  learning_rate = 10**(-3.15)\n",
        "  loss = dice_coef_loss\n",
        "  # loss = tf.keras.losses.binary_crossentropy\n",
        "  # loss = mixed_loss\n",
        "  metrics = dice_coef\n",
        "\n",
        "  model.compile(optimizer=Adam(learning_rate=learning_rate), loss=loss,metrics=dice_coef)\n",
        "\n",
        "  EPOCHS = 100\n",
        "\n",
        "# train on aneurysm-positive only\n",
        "  history = model.fit(\n",
        "      train_ds.take(10), \n",
        "      epochs=EPOCHS,\n",
        "      validation_data=val_ds.take(2), callbacks = [early_stopping]) # , tf.keras.callbacks.LearningRateScheduler(lr_cycler, verbose=1)\n",
        "\n",
        "  save_model_path = \"/content/drive/My Drive/Masters Project/Vascular Segmentation/Model Weights/Step2 40x40 bounding box/v2\"\n",
        "  model.save(os.path.join(save_model_path, 'lr=1e-3.15_l2(0.0001).h5'))"
      ],
      "execution_count": null,
      "outputs": [
        {
          "output_type": "stream",
          "text": [
            "/usr/local/lib/python3.7/dist-packages/keras/utils/generic_utils.py:497: CustomMaskWarning: Custom mask layers require a config and must override get_config. When loading, the custom mask layer must be passed to the custom_objects argument.\n",
            "  category=CustomMaskWarning)\n"
          ],
          "name": "stderr"
        },
        {
          "output_type": "stream",
          "text": [
            "Epoch 1/100\n",
            "10/10 [==============================] - 25s 861ms/step - loss: 1.2848 - dice_coef: 0.0448 - val_loss: 1.2824 - val_dice_coef: 0.0471\n",
            "Epoch 2/100\n",
            "10/10 [==============================] - 2s 193ms/step - loss: 1.0773 - dice_coef: 0.2522 - val_loss: 1.2391 - val_dice_coef: 0.0905\n",
            "Epoch 3/100\n",
            "10/10 [==============================] - 2s 179ms/step - loss: 1.0011 - dice_coef: 0.3284 - val_loss: 1.2268 - val_dice_coef: 0.1028\n",
            "Epoch 4/100\n",
            "10/10 [==============================] - 3s 206ms/step - loss: 0.9571 - dice_coef: 0.3724 - val_loss: 1.2258 - val_dice_coef: 0.1038\n",
            "Epoch 5/100\n",
            "10/10 [==============================] - 2s 191ms/step - loss: 0.9331 - dice_coef: 0.3964 - val_loss: 1.2097 - val_dice_coef: 0.1198\n",
            "Epoch 6/100\n",
            "10/10 [==============================] - 3s 203ms/step - loss: 0.8939 - dice_coef: 0.4357 - val_loss: 1.2455 - val_dice_coef: 0.0840\n",
            "Epoch 7/100\n",
            "10/10 [==============================] - 2s 187ms/step - loss: 0.8930 - dice_coef: 0.4366 - val_loss: 1.2395 - val_dice_coef: 0.0900\n",
            "Epoch 8/100\n",
            "10/10 [==============================] - 2s 203ms/step - loss: 0.8671 - dice_coef: 0.4625 - val_loss: 1.1753 - val_dice_coef: 0.1542\n",
            "Epoch 9/100\n",
            "10/10 [==============================] - 2s 182ms/step - loss: 0.8732 - dice_coef: 0.4564 - val_loss: 1.2583 - val_dice_coef: 0.0713\n",
            "Epoch 10/100\n",
            "10/10 [==============================] - 4s 323ms/step - loss: 0.8506 - dice_coef: 0.4789 - val_loss: 1.2986 - val_dice_coef: 0.0310\n",
            "Epoch 11/100\n",
            "10/10 [==============================] - 2s 180ms/step - loss: 0.8515 - dice_coef: 0.4781 - val_loss: 1.2676 - val_dice_coef: 0.0620\n",
            "Epoch 12/100\n",
            "10/10 [==============================] - 3s 206ms/step - loss: 0.8330 - dice_coef: 0.4965 - val_loss: 1.1979 - val_dice_coef: 0.1316\n",
            "Epoch 13/100\n",
            "10/10 [==============================] - 2s 180ms/step - loss: 0.8310 - dice_coef: 0.4986 - val_loss: 1.2242 - val_dice_coef: 0.1054\n",
            "Epoch 14/100\n",
            "10/10 [==============================] - 2s 196ms/step - loss: 0.8341 - dice_coef: 0.4954 - val_loss: 1.1789 - val_dice_coef: 0.1506\n",
            "Epoch 15/100\n",
            "10/10 [==============================] - 2s 184ms/step - loss: 0.8176 - dice_coef: 0.5120 - val_loss: 1.2026 - val_dice_coef: 0.1270\n",
            "Epoch 16/100\n",
            "10/10 [==============================] - 2s 196ms/step - loss: 0.8089 - dice_coef: 0.5206 - val_loss: 1.1255 - val_dice_coef: 0.2041\n",
            "Epoch 17/100\n",
            "10/10 [==============================] - 2s 186ms/step - loss: 0.7995 - dice_coef: 0.5301 - val_loss: 1.1241 - val_dice_coef: 0.2054\n",
            "Epoch 18/100\n",
            "10/10 [==============================] - 2s 201ms/step - loss: 0.7903 - dice_coef: 0.5392 - val_loss: 1.1160 - val_dice_coef: 0.2135\n",
            "Epoch 19/100\n",
            "10/10 [==============================] - 2s 177ms/step - loss: 0.7694 - dice_coef: 0.5601 - val_loss: 1.1163 - val_dice_coef: 0.2133\n",
            "Epoch 20/100\n",
            "10/10 [==============================] - 2s 200ms/step - loss: 0.7788 - dice_coef: 0.5507 - val_loss: 1.2034 - val_dice_coef: 0.1261\n",
            "Epoch 21/100\n",
            "10/10 [==============================] - 2s 183ms/step - loss: 0.7936 - dice_coef: 0.5360 - val_loss: 1.0889 - val_dice_coef: 0.2407\n",
            "Epoch 22/100\n",
            "10/10 [==============================] - 2s 196ms/step - loss: 0.7632 - dice_coef: 0.5663 - val_loss: 1.0893 - val_dice_coef: 0.2403\n",
            "Epoch 23/100\n",
            "10/10 [==============================] - 3s 345ms/step - loss: 0.7828 - dice_coef: 0.5468 - val_loss: 1.0981 - val_dice_coef: 0.2314\n",
            "Epoch 24/100\n",
            "10/10 [==============================] - 3s 205ms/step - loss: 0.7678 - dice_coef: 0.5618 - val_loss: 1.1120 - val_dice_coef: 0.2176\n",
            "Epoch 25/100\n",
            "10/10 [==============================] - 2s 188ms/step - loss: 0.7442 - dice_coef: 0.5854 - val_loss: 1.1127 - val_dice_coef: 0.2169\n",
            "Epoch 26/100\n",
            "10/10 [==============================] - 3s 208ms/step - loss: 0.7478 - dice_coef: 0.5818 - val_loss: 1.0821 - val_dice_coef: 0.2474\n",
            "Epoch 27/100\n",
            "10/10 [==============================] - 2s 184ms/step - loss: 0.7486 - dice_coef: 0.5810 - val_loss: 1.0432 - val_dice_coef: 0.2864\n",
            "Epoch 28/100\n",
            "10/10 [==============================] - 2s 198ms/step - loss: 0.7574 - dice_coef: 0.5722 - val_loss: 1.0491 - val_dice_coef: 0.2805\n",
            "Epoch 29/100\n",
            "10/10 [==============================] - 2s 185ms/step - loss: 0.7501 - dice_coef: 0.5795 - val_loss: 1.0526 - val_dice_coef: 0.2770\n",
            "Epoch 30/100\n",
            "10/10 [==============================] - 2s 193ms/step - loss: 0.7406 - dice_coef: 0.5889 - val_loss: 1.0560 - val_dice_coef: 0.2736\n",
            "Epoch 31/100\n",
            "10/10 [==============================] - 2s 181ms/step - loss: 0.7186 - dice_coef: 0.6110 - val_loss: 1.1285 - val_dice_coef: 0.2010\n",
            "Epoch 32/100\n",
            "10/10 [==============================] - 2s 185ms/step - loss: 0.7470 - dice_coef: 0.5825 - val_loss: 1.0860 - val_dice_coef: 0.2436\n",
            "Epoch 33/100\n",
            "10/10 [==============================] - 2s 198ms/step - loss: 0.7399 - dice_coef: 0.5896 - val_loss: 1.0680 - val_dice_coef: 0.2615\n",
            "Epoch 34/100\n",
            "10/10 [==============================] - 2s 185ms/step - loss: 0.7464 - dice_coef: 0.5832 - val_loss: 1.1041 - val_dice_coef: 0.2255\n",
            "Epoch 35/100\n",
            "10/10 [==============================] - 2s 195ms/step - loss: 0.7266 - dice_coef: 0.6030 - val_loss: 1.1015 - val_dice_coef: 0.2281\n",
            "Epoch 36/100\n",
            "10/10 [==============================] - 4s 338ms/step - loss: 0.7317 - dice_coef: 0.5978 - val_loss: 1.1743 - val_dice_coef: 0.1553\n",
            "Epoch 37/100\n",
            "10/10 [==============================] - 2s 203ms/step - loss: 0.7419 - dice_coef: 0.5876 - val_loss: 1.1174 - val_dice_coef: 0.2121\n",
            "Epoch 38/100\n",
            "10/10 [==============================] - 2s 183ms/step - loss: 0.7169 - dice_coef: 0.6126 - val_loss: 1.0784 - val_dice_coef: 0.2511\n",
            "Epoch 39/100\n",
            "10/10 [==============================] - 2s 202ms/step - loss: 0.7177 - dice_coef: 0.6119 - val_loss: 1.0510 - val_dice_coef: 0.2785\n",
            "Epoch 40/100\n",
            "10/10 [==============================] - 2s 183ms/step - loss: 0.6969 - dice_coef: 0.6326 - val_loss: 1.0117 - val_dice_coef: 0.3179\n",
            "Epoch 41/100\n",
            "10/10 [==============================] - 2s 206ms/step - loss: 0.7077 - dice_coef: 0.6218 - val_loss: 1.0548 - val_dice_coef: 0.2747\n",
            "Epoch 42/100\n",
            "10/10 [==============================] - 2s 190ms/step - loss: 0.7077 - dice_coef: 0.6218 - val_loss: 1.0507 - val_dice_coef: 0.2789\n",
            "Epoch 43/100\n",
            "10/10 [==============================] - 2s 199ms/step - loss: 0.6886 - dice_coef: 0.6410 - val_loss: 1.0441 - val_dice_coef: 0.2854\n",
            "Epoch 44/100\n",
            "10/10 [==============================] - 2s 190ms/step - loss: 0.7061 - dice_coef: 0.6235 - val_loss: 1.0404 - val_dice_coef: 0.2891\n",
            "Epoch 45/100\n",
            "10/10 [==============================] - 2s 195ms/step - loss: 0.7049 - dice_coef: 0.6246 - val_loss: 1.0796 - val_dice_coef: 0.2499\n",
            "Epoch 46/100\n",
            "10/10 [==============================] - 2s 182ms/step - loss: 0.6978 - dice_coef: 0.6318 - val_loss: 1.0457 - val_dice_coef: 0.2839\n",
            "Epoch 47/100\n",
            "10/10 [==============================] - 2s 194ms/step - loss: 0.7073 - dice_coef: 0.6222 - val_loss: 1.0066 - val_dice_coef: 0.3229\n",
            "Epoch 48/100\n",
            "10/10 [==============================] - 2s 184ms/step - loss: 0.7048 - dice_coef: 0.6248 - val_loss: 1.1318 - val_dice_coef: 0.1978\n",
            "Epoch 49/100\n",
            "10/10 [==============================] - 2s 200ms/step - loss: 0.6840 - dice_coef: 0.6455 - val_loss: 1.0093 - val_dice_coef: 0.3203\n",
            "Epoch 50/100\n",
            "10/10 [==============================] - 2s 190ms/step - loss: 0.6813 - dice_coef: 0.6483 - val_loss: 1.0822 - val_dice_coef: 0.2473\n",
            "Epoch 51/100\n",
            "10/10 [==============================] - 2s 204ms/step - loss: 0.6880 - dice_coef: 0.6415 - val_loss: 1.0090 - val_dice_coef: 0.3206\n",
            "Epoch 52/100\n",
            "10/10 [==============================] - 2s 193ms/step - loss: 0.6755 - dice_coef: 0.6540 - val_loss: 1.0660 - val_dice_coef: 0.2636\n",
            "Epoch 53/100\n",
            "10/10 [==============================] - 2s 210ms/step - loss: 0.6936 - dice_coef: 0.6360 - val_loss: 1.0464 - val_dice_coef: 0.2831\n",
            "Epoch 54/100\n",
            "10/10 [==============================] - 2s 191ms/step - loss: 0.6740 - dice_coef: 0.6555 - val_loss: 1.0716 - val_dice_coef: 0.2580\n",
            "Epoch 55/100\n",
            "10/10 [==============================] - 2s 198ms/step - loss: 0.6743 - dice_coef: 0.6553 - val_loss: 1.0578 - val_dice_coef: 0.2718\n",
            "Epoch 56/100\n",
            "10/10 [==============================] - 2s 200ms/step - loss: 0.6795 - dice_coef: 0.6501 - val_loss: 1.0707 - val_dice_coef: 0.2589\n",
            "Epoch 57/100\n",
            "10/10 [==============================] - 2s 204ms/step - loss: 0.6764 - dice_coef: 0.6532 - val_loss: 1.0459 - val_dice_coef: 0.2836\n",
            "Epoch 58/100\n",
            "10/10 [==============================] - 2s 187ms/step - loss: 0.6744 - dice_coef: 0.6551 - val_loss: 1.0414 - val_dice_coef: 0.2881\n",
            "Epoch 59/100\n",
            "10/10 [==============================] - 2s 205ms/step - loss: 0.6590 - dice_coef: 0.6706 - val_loss: 1.0040 - val_dice_coef: 0.3255\n",
            "Epoch 60/100\n",
            "10/10 [==============================] - 2s 189ms/step - loss: 0.6743 - dice_coef: 0.6553 - val_loss: 1.0173 - val_dice_coef: 0.3122\n",
            "Epoch 61/100\n",
            "10/10 [==============================] - 4s 363ms/step - loss: 0.6592 - dice_coef: 0.6703 - val_loss: 0.9736 - val_dice_coef: 0.3560\n",
            "Epoch 62/100\n",
            "10/10 [==============================] - 3s 205ms/step - loss: 0.6758 - dice_coef: 0.6538 - val_loss: 1.0696 - val_dice_coef: 0.2599\n",
            "Epoch 63/100\n",
            "10/10 [==============================] - 2s 217ms/step - loss: 0.6717 - dice_coef: 0.6579 - val_loss: 0.9850 - val_dice_coef: 0.3445\n",
            "Epoch 64/100\n",
            "10/10 [==============================] - 2s 199ms/step - loss: 0.6601 - dice_coef: 0.6694 - val_loss: 1.0490 - val_dice_coef: 0.2806\n",
            "Epoch 65/100\n",
            "10/10 [==============================] - 2s 207ms/step - loss: 0.6367 - dice_coef: 0.6928 - val_loss: 0.9871 - val_dice_coef: 0.3425\n",
            "Epoch 66/100\n",
            "10/10 [==============================] - 2s 199ms/step - loss: 0.6528 - dice_coef: 0.6767 - val_loss: 1.0062 - val_dice_coef: 0.3233\n",
            "Epoch 67/100\n",
            "10/10 [==============================] - 2s 218ms/step - loss: 0.6517 - dice_coef: 0.6778 - val_loss: 1.0146 - val_dice_coef: 0.3150\n",
            "Epoch 68/100\n",
            "10/10 [==============================] - 3s 205ms/step - loss: 0.6308 - dice_coef: 0.6988 - val_loss: 1.0562 - val_dice_coef: 0.2733\n",
            "Epoch 69/100\n",
            "10/10 [==============================] - 2s 217ms/step - loss: 0.6293 - dice_coef: 0.7002 - val_loss: 1.0782 - val_dice_coef: 0.2514\n",
            "Epoch 70/100\n",
            "10/10 [==============================] - 3s 214ms/step - loss: 0.6400 - dice_coef: 0.6895 - val_loss: 1.0439 - val_dice_coef: 0.2856\n",
            "Epoch 71/100\n",
            "10/10 [==============================] - 2s 207ms/step - loss: 0.6500 - dice_coef: 0.6796 - val_loss: 1.0746 - val_dice_coef: 0.2550\n",
            "Epoch 72/100\n",
            "10/10 [==============================] - 2s 197ms/step - loss: 0.6751 - dice_coef: 0.6545 - val_loss: 1.0247 - val_dice_coef: 0.3048\n",
            "Epoch 73/100\n",
            "10/10 [==============================] - 2s 207ms/step - loss: 0.6425 - dice_coef: 0.6871 - val_loss: 1.0444 - val_dice_coef: 0.2851\n",
            "Epoch 74/100\n",
            "10/10 [==============================] - 2s 201ms/step - loss: 0.6211 - dice_coef: 0.7085 - val_loss: 0.9906 - val_dice_coef: 0.3389\n",
            "Epoch 75/100\n",
            "10/10 [==============================] - 4s 391ms/step - loss: 0.6266 - dice_coef: 0.7030 - val_loss: 1.0525 - val_dice_coef: 0.2771\n",
            "Epoch 76/100\n",
            "10/10 [==============================] - 3s 197ms/step - loss: 0.6268 - dice_coef: 0.7027 - val_loss: 1.0241 - val_dice_coef: 0.3055\n",
            "Epoch 77/100\n",
            "10/10 [==============================] - 2s 221ms/step - loss: 0.6410 - dice_coef: 0.6886 - val_loss: 1.0226 - val_dice_coef: 0.3070\n",
            "Epoch 78/100\n",
            "10/10 [==============================] - 2s 205ms/step - loss: 0.6150 - dice_coef: 0.7145 - val_loss: 0.9975 - val_dice_coef: 0.3321\n",
            "Epoch 79/100\n",
            "10/10 [==============================] - 2s 208ms/step - loss: 0.6220 - dice_coef: 0.7076 - val_loss: 1.0066 - val_dice_coef: 0.3230\n",
            "Epoch 80/100\n",
            "10/10 [==============================] - 2s 201ms/step - loss: 0.6375 - dice_coef: 0.6920 - val_loss: 1.0685 - val_dice_coef: 0.2611\n",
            "Epoch 81/100\n",
            "10/10 [==============================] - 2s 214ms/step - loss: 0.6297 - dice_coef: 0.6999 - val_loss: 1.0577 - val_dice_coef: 0.2719\n"
          ],
          "name": "stdout"
        }
      ]
    },
    {
      "cell_type": "code",
      "metadata": {
        "colab": {
          "base_uri": "https://localhost:8080/",
          "height": 338
        },
        "id": "SzEk-kD8qI0z",
        "outputId": "d6ebc11b-9a5e-4b13-c20f-31bd5e75cee6"
      },
      "source": [
        "plt.figure(figsize=(12, 4)) \n",
        "\n",
        "plt.subplot(1,2,1)\n",
        "plt.plot(history.history['loss'], label='Training')\n",
        "plt.plot(history.history['val_loss'], label='Validation')\n",
        "plt.xlabel('Epoch', size=16)\n",
        "plt.ylabel('Loss', size=16)\n",
        "plt.xticks(size=12)\n",
        "plt.yticks(size=12)\n",
        "plt.title('Loss throughout training, \\n lr={}, l2(0.0001) regularisation'.format(np.round(learning_rate, 5)), size=14)\n",
        "plt.legend(prop={'size': 12})"
      ],
      "execution_count": null,
      "outputs": [
        {
          "output_type": "execute_result",
          "data": {
            "text/plain": [
              "<matplotlib.legend.Legend at 0x7f42a2f2d550>"
            ]
          },
          "metadata": {},
          "execution_count": 129
        },
        {
          "output_type": "display_data",
          "data": {
            "image/png": "[encoded data removed]",
            "text/plain": [
              "<Figure size 864x288 with 1 Axes>"
            ]
          },
          "metadata": {
            "needs_background": "light"
          }
        }
      ]
    },
    {
      "cell_type": "code",
      "metadata": {
        "colab": {
          "base_uri": "https://localhost:8080/",
          "height": 337
        },
        "id": "IacsQl3nqKji",
        "outputId": "e5ce9933-e928-4e32-e78e-587e39757d54"
      },
      "source": [
        "plt.figure(figsize=(12, 4)) \n",
        "\n",
        "plt.subplot(1,2,2)\n",
        "plt.plot(history.history['dice_coef'], label='Training')\n",
        "plt.plot(history.history['val_dice_coef'], label='Validation')\n",
        "plt.xlabel('Epoch', size=14)\n",
        "plt.ylabel('Dice Coefficient', size=14)\n",
        "plt.xticks(size=12)\n",
        "plt.yticks(size=12)\n",
        "plt.title('Dice Coefficient throughout training, \\n lr={}, l2(0.0001) regularisation'.format(np.round(learning_rate, 5)), size=14)\n",
        "plt.legend(prop={'size': 12})"
      ],
      "execution_count": null,
      "outputs": [
        {
          "output_type": "execute_result",
          "data": {
            "text/plain": [
              "<matplotlib.legend.Legend at 0x7f42a2be81d0>"
            ]
          },
          "metadata": {},
          "execution_count": 130
        },
        {
          "output_type": "display_data",
          "data": {
            "image/png": "[encoded data removed]",
            "text/plain": [
              "<Figure size 864x288 with 1 Axes>"
            ]
          },
          "metadata": {
            "needs_background": "light"
          }
        }
      ]
    },
    {
      "cell_type": "markdown",
      "metadata": {
        "id": "8jfGh1tzqOV8"
      },
      "source": [
        "# Predict on single test image"
      ]
    },
    {
      "cell_type": "code",
      "metadata": {
        "id": "kP0eKo1UqQe0"
      },
      "source": [
        "test_nonempty_gcs_pattern = \"gs://40_bounding_box_step2_ver2/test_non_empty*\"\n",
        "test_nonempty_filenames = tf.io.gfile.glob(test_nonempty_gcs_pattern)\n",
        "\n",
        "test_nonempty_ds = tf.data.TFRecordDataset(test_nonempty_filenames)\n",
        "test_nonempty_ds = test_nonempty_ds.map(_parse_image_function)\n",
        "test_nonempty_ds = test_nonempty_ds.map(_unpack_proto)\n",
        "test_nonempty_ds = test_nonempty_ds.map(to_3_channels)\n",
        "\n",
        "test_ds = prepare_data(test_nonempty_ds)"
      ],
      "execution_count": null,
      "outputs": []
    },
    {
      "cell_type": "code",
      "metadata": {
        "id": "ibi7rPzTqSHa"
      },
      "source": [
        "test_images = []\n",
        "test_masks = []\n",
        "\n",
        "for batch_num in range(3):\n",
        "  for images, masks in test_ds.take(batch_num):  \n",
        "        numpy_images = images.numpy()\n",
        "        numpy_masks = masks.numpy()\n",
        "\n",
        "        test_images.append(numpy_images)\n",
        "        test_masks.append(numpy_masks)\n",
        "\n",
        "numpy_images = np.concatenate(test_images)\n",
        "numpy_masks = np.concatenate(test_masks)"
      ],
      "execution_count": null,
      "outputs": []
    },
    {
      "cell_type": "code",
      "metadata": {
        "colab": {
          "base_uri": "https://localhost:8080/"
        },
        "id": "z_-4seuvH7wx",
        "outputId": "703e3478-e9cb-49f3-a139-996c8c0b9b9a"
      },
      "source": [
        "numpy_images.shape"
      ],
      "execution_count": null,
      "outputs": [
        {
          "output_type": "execute_result",
          "data": {
            "text/plain": [
              "(192, 40, 40, 3)"
            ]
          },
          "metadata": {},
          "execution_count": 33
        }
      ]
    },
    {
      "cell_type": "code",
      "metadata": {
        "colab": {
          "base_uri": "https://localhost:8080/",
          "height": 278
        },
        "id": "KfnKee7YqTS5",
        "outputId": "33ae341e-b128-41bb-e6f8-2644c28371af"
      },
      "source": [
        "plt.figure(figsize=(12, 4)) \n",
        "\n",
        "img_num=17\n",
        "\n",
        "plt.subplot(1,3,1)\n",
        "plt.imshow(numpy_images[img_num])\n",
        "plt.title('Original test image')\n",
        "\n",
        "plt.subplot(1,3,2)\n",
        "plt.imshow(numpy_masks[img_num], cmap='gray')\n",
        "plt.title('True mask for test image')\n",
        "\n",
        "plt.subplot(1,3,3)\n",
        "plt.imshow((model.predict(tf.expand_dims(numpy_images[img_num], axis=[0])))[0].reshape((40,40)), cmap='gray')\n",
        "plt.title('Predicted mask for test image')"
      ],
      "execution_count": null,
      "outputs": [
        {
          "output_type": "execute_result",
          "data": {
            "text/plain": [
              "Text(0.5, 1.0, 'Predicted mask for test image')"
            ]
          },
          "metadata": {},
          "execution_count": 34
        },
        {
          "output_type": "display_data",
          "data": {
            "image/png": "[encoded data removed]",
            "text/plain": [
              "<Figure size 864x288 with 3 Axes>"
            ]
          },
          "metadata": {
            "needs_background": "light"
          }
        }
      ]
    },
    {
      "cell_type": "markdown",
      "metadata": {
        "id": "l1bs79hMqWzt"
      },
      "source": [
        "# Evaluate on whole test set"
      ]
    },
    {
      "cell_type": "code",
      "metadata": {
        "colab": {
          "base_uri": "https://localhost:8080/"
        },
        "id": "0MYkpThQs5XF",
        "outputId": "45ae406c-1a91-4ac4-983d-5bf768797359"
      },
      "source": [
        "print('Predicting masks on test data...')\n",
        "\n",
        "test_preds = [model.predict(tf.expand_dims(image, axis=[0]))[0] for image in numpy_images]\n",
        "# test_preds = np.concatenate(test_preds)\n",
        "test_preds = np.array(test_preds)"
      ],
      "execution_count": null,
      "outputs": [
        {
          "output_type": "stream",
          "text": [
            "Predicting masks on test data...\n"
          ],
          "name": "stdout"
        }
      ]
    },
    {
      "cell_type": "code",
      "metadata": {
        "colab": {
          "base_uri": "https://localhost:8080/"
        },
        "id": "wcHIXgU3tCZC",
        "outputId": "f8f86933-1278-4443-ae94-05cf1213c913"
      },
      "source": [
        "# calculate dice coeff for each pair of true (test_masks) and predicted (test_preds) masks in the test set\n",
        "\n",
        "dice_coeff_list = []\n",
        "dice_coeff_dict = {}\n",
        "\n",
        "for i in range(len(numpy_masks)):\n",
        "  true_mask = numpy_masks[i]\n",
        "  pred_mask = test_preds[i]\n",
        "  pred_mask = np.round(pred_mask)\n",
        "\n",
        "  dice_coeff = np.array(dice_coef(true_mask, pred_mask))\n",
        "  dice_coeff_list.append(dice_coeff)\n",
        "  dice_coeff_dict[i] = dice_coeff\n",
        "\n",
        "np.mean(dice_coeff_list), np.std(dice_coeff_list)"
      ],
      "execution_count": null,
      "outputs": [
        {
          "output_type": "execute_result",
          "data": {
            "text/plain": [
              "(0.2081803, 0.26651737)"
            ]
          },
          "metadata": {},
          "execution_count": 132
        }
      ]
    },
    {
      "cell_type": "code",
      "metadata": {
        "colab": {
          "base_uri": "https://localhost:8080/",
          "height": 340
        },
        "id": "ZxP1-Xf4tGds",
        "outputId": "795ce9be-ed86-4c7d-baef-dbaef36b1754"
      },
      "source": [
        "plt.hist(dice_coeff_list)\n",
        "plt.title('Distribution of Dice Coefficient Scores \\n over Test set: lr=1e-3.15, l2(0.0001)', size=16)\n",
        "plt.xlabel('Dice Coefficient Score', size=16)\n",
        "plt.ylabel('Number of Images', size=16)\n",
        "plt.xticks(size=12)\n",
        "plt.yticks(size=12)\n",
        "plt.xlim([0,1])\n",
        "plt.ylim([0,120])"
      ],
      "execution_count": null,
      "outputs": [
        {
          "output_type": "execute_result",
          "data": {
            "text/plain": [
              "(0.0, 120.0)"
            ]
          },
          "metadata": {},
          "execution_count": 145
        },
        {
          "output_type": "display_data",
          "data": {
            "image/png": "[encoded data removed]",
            "text/plain": [
              "<Figure size 432x288 with 1 Axes>"
            ]
          },
          "metadata": {
            "needs_background": "light"
          }
        }
      ]
    },
    {
      "cell_type": "code",
      "metadata": {
        "colab": {
          "base_uri": "https://localhost:8080/"
        },
        "id": "FkkyQDjD_4mK",
        "outputId": "374f3473-d477-440b-f37c-9339a1f4e7b2"
      },
      "source": [
        "# create lists 'low' and 'high' that store indices of low and high scoring masks respectively\n",
        "\n",
        "low = []\n",
        "med = []\n",
        "high = []\n",
        "\n",
        "for key,val in dice_coeff_dict.items():\n",
        "  if val<0.1:\n",
        "    low.append(key)\n",
        "  elif val<0.5 and val>0.3:\n",
        "    med.append(key)\n",
        "  elif val>0.5:\n",
        "    high.append(key)\n",
        "\n",
        "\n",
        "len(low), len(med), len(high)"
      ],
      "execution_count": null,
      "outputs": [
        {
          "output_type": "execute_result",
          "data": {
            "text/plain": [
              "(103, 22, 32)"
            ]
          },
          "metadata": {},
          "execution_count": 135
        }
      ]
    },
    {
      "cell_type": "code",
      "metadata": {
        "id": "kFpmkxXb_5g8",
        "colab": {
          "base_uri": "https://localhost:8080/"
        },
        "outputId": "04d342cd-1a6d-44cb-f3e5-e3389739461f"
      },
      "source": [
        "high"
      ],
      "execution_count": null,
      "outputs": [
        {
          "output_type": "execute_result",
          "data": {
            "text/plain": [
              "[18,\n",
              " 38,\n",
              " 39,\n",
              " 49,\n",
              " 55,\n",
              " 59,\n",
              " 63,\n",
              " 69,\n",
              " 72,\n",
              " 75,\n",
              " 86,\n",
              " 88,\n",
              " 100,\n",
              " 104,\n",
              " 107,\n",
              " 113,\n",
              " 119,\n",
              " 124,\n",
              " 127,\n",
              " 144,\n",
              " 148,\n",
              " 149,\n",
              " 157,\n",
              " 163,\n",
              " 165,\n",
              " 166,\n",
              " 172,\n",
              " 175,\n",
              " 178,\n",
              " 179,\n",
              " 183,\n",
              " 187]"
            ]
          },
          "metadata": {},
          "execution_count": 137
        }
      ]
    },
    {
      "cell_type": "code",
      "metadata": {
        "colab": {
          "base_uri": "https://localhost:8080/",
          "height": 281
        },
        "id": "7j_9_yq2_8op",
        "outputId": "913e9e6b-20aa-429c-8776-c845de94834f"
      },
      "source": [
        "compare_img_mask(39)"
      ],
      "execution_count": null,
      "outputs": [
        {
          "output_type": "display_data",
          "data": {
            "image/png": "[encoded data removed]",
            "text/plain": [
              "<Figure size 1440x288 with 3 Axes>"
            ]
          },
          "metadata": {
            "needs_background": "light"
          }
        }
      ]
    },
    {
      "cell_type": "code",
      "metadata": {
        "id": "Prt4w_dH_8rC"
      },
      "source": [
        "def compare_img_mask(img_num):\n",
        "\n",
        "  \"\"\"\n",
        "  Display original image with mask, true mask and predicted mask for a specified image number\n",
        "  \n",
        "  Args:\n",
        "  train_, test_ or valid_ + images/masks/preds\n",
        "  \"\"\"\n",
        "  \n",
        "  plt.figure(figsize=(20, 4)) \n",
        "\n",
        "  plt.subplot(1,3,1)\n",
        "  plt.imshow(numpy_images[img_num])\n",
        "  plt.title('Original image patch')\n",
        "\n",
        "  plt.subplot(1,3,2)\n",
        "  plt.imshow(numpy_masks[img_num].reshape((40,40)), cmap='gray')\n",
        "  plt.title('True mask')\n",
        "\n",
        "  plt.subplot(1,3,3)\n",
        "  plt.imshow(np.round(test_preds[img_num]).reshape((40,40)), cmap='gray')\n",
        "  plt.title('Predicted mask')"
      ],
      "execution_count": null,
      "outputs": []
    },
    {
      "cell_type": "markdown",
      "metadata": {
        "id": "6nHDHXlrYcnd"
      },
      "source": [
        "## Hausdorff Distance"
      ]
    },
    {
      "cell_type": "markdown",
      "metadata": {
        "id": "VY7ljUywgnBU"
      },
      "source": [
        "### scipy: https://docs.scipy.org/doc/scipy/reference/generated/scipy.spatial.distance.directed_hausdorff.html"
      ]
    },
    {
      "cell_type": "markdown",
      "metadata": {
        "id": "3XLCDEbdgvlr"
      },
      "source": [
        "scipy.spatial.distance.directed_hausdorff(u, v, seed=0): u and v are 2D input arrays of coordinates (presumably those of the aneurysms in the true and predicted masks)"
      ]
    },
    {
      "cell_type": "code",
      "metadata": {
        "colab": {
          "base_uri": "https://localhost:8080/"
        },
        "id": "J_VTSyZXqJ2G",
        "outputId": "0b375a78-314c-4aac-cf38-4e45b9e4bc66"
      },
      "source": [
        "# calculate hausdorff dist for each pair of true (test_masks) and predicted (test_preds) masks in the test set\n",
        "\n",
        "hausdorff_list = []\n",
        "hausdorff_dict = {}\n",
        "\n",
        "for i in range(len(numpy_masks)):\n",
        "  true_mask = numpy_masks[i]\n",
        "  pred_mask = test_preds[i]\n",
        "  pred_mask = np.round(pred_mask)\n",
        "\n",
        "  hausdorff_dist = directed_hausdorff(true_mask, pred_mask.reshape((40,40)))[0]\n",
        "  hausdorff_list.append(hausdorff_dist)\n",
        "  hausdorff_dict[i] = hausdorff_dist\n",
        "\n",
        "np.mean(hausdorff_list), np.std(hausdorff_list)"
      ],
      "execution_count": null,
      "outputs": [
        {
          "output_type": "execute_result",
          "data": {
            "text/plain": [
              "(1.6195665791893943, 0.5924208207905066)"
            ]
          },
          "metadata": {},
          "execution_count": 142
        }
      ]
    },
    {
      "cell_type": "code",
      "metadata": {
        "colab": {
          "base_uri": "https://localhost:8080/",
          "height": 340
        },
        "id": "eKRCV7kVKEC1",
        "outputId": "04bf4b5c-0780-44be-df4a-9c7068bd6078"
      },
      "source": [
        "plt.hist(hausdorff_list)\n",
        "plt.title('Distribution of Hausdorff Distances \\n over Test set: lr=1e-3.15, l2(0.0001)', size=16)\n",
        "plt.xlabel('Hausdorff Distance', size=16)\n",
        "plt.ylabel('Number of Images', size=16)\n",
        "plt.xticks(size=12)\n",
        "plt.yticks(size=12)\n",
        "plt.xlim([0,6])\n",
        "plt.ylim([0,100])"
      ],
      "execution_count": null,
      "outputs": [
        {
          "output_type": "execute_result",
          "data": {
            "text/plain": [
              "(0.0, 100.0)"
            ]
          },
          "metadata": {},
          "execution_count": 144
        },
        {
          "output_type": "display_data",
          "data": {
            "image/png": "[encoded data removed]",
            "text/plain": [
              "<Figure size 432x288 with 1 Axes>"
            ]
          },
          "metadata": {
            "needs_background": "light"
          }
        }
      ]
    },
    {
      "cell_type": "code",
      "metadata": {
        "colab": {
          "base_uri": "https://localhost:8080/"
        },
        "id": "8RGMe-vjqeB6",
        "outputId": "5e9cdcda-6610-49e9-ea23-0c454aa7cc47"
      },
      "source": [
        "hausdorff_dict[10]\n",
        "\n",
        "#  72, 80, 111, 118, 134, 159"
      ],
      "execution_count": null,
      "outputs": [
        {
          "output_type": "execute_result",
          "data": {
            "text/plain": [
              "3.0"
            ]
          },
          "metadata": {
            "tags": []
          },
          "execution_count": 154
        }
      ]
    },
    {
      "cell_type": "code",
      "metadata": {
        "colab": {
          "base_uri": "https://localhost:8080/",
          "height": 281
        },
        "id": "DMTz44GqqeES",
        "outputId": "08a7fe63-633e-422e-e20c-fc6de904cbd5"
      },
      "source": [
        "compare_img_mask(10)"
      ],
      "execution_count": null,
      "outputs": [
        {
          "output_type": "display_data",
          "data": {
            "image/png": "[encoded data removed]",
            "text/plain": [
              "<Figure size 1440x288 with 3 Axes>"
            ]
          },
          "metadata": {
            "tags": [],
            "needs_background": "light"
          }
        }
      ]
    },
    {
      "cell_type": "markdown",
      "metadata": {
        "id": "P-5CIR71igEt"
      },
      "source": [
        "### SimpleITK: https://discourse.itk.org/t/computing-95-hausdorff-distance/3832/3"
      ]
    }
  ]
}